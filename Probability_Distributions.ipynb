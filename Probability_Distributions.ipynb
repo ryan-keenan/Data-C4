{
  "nbformat": 4,
  "nbformat_minor": 0,
  "metadata": {
    "colab": {
      "name": "Probability_Distributions.ipynb",
      "provenance": [],
      "collapsed_sections": [],
      "include_colab_link": true
    },
    "kernelspec": {
      "name": "python3",
      "display_name": "Python 3"
    }
  },
  "cells": [
    {
      "cell_type": "markdown",
      "metadata": {
        "id": "view-in-github",
        "colab_type": "text"
      },
      "source": [
        "<a href=\"https://colab.research.google.com/github/ryan-keenan/Data-C4/blob/master/Probability_Distributions.ipynb\" target=\"_parent\"><img src=\"https://colab.research.google.com/assets/colab-badge.svg\" alt=\"Open In Colab\"/></a>"
      ]
    },
    {
      "cell_type": "markdown",
      "metadata": {
        "id": "TIfH-uGXJlaC",
        "colab_type": "text"
      },
      "source": [
        "# Python exercises for probability distributions\n",
        "\n",
        "## Learning objectives\n",
        "1. Simulate a binary experiment.\n",
        "2. Run a series of binary experiment simulations and compare the result with the probability associated with a specific number of successful outcomes computed using the binomial distribution.\n",
        "2. Simulate an experiment to find the probability associated with the number of trials to reach the first success and compare with the result computed using the geometric distribution.\n",
        "4. Simulate the probability of recording a given number of events in an interval or region and compare the result with the probability computed directly using the Poisson distribution."
      ]
    },
    {
      "cell_type": "markdown",
      "metadata": {
        "id": "Mpexpq6CXk-k",
        "colab_type": "text"
      },
      "source": [
        "**Step 0:** Import Python packages"
      ]
    },
    {
      "cell_type": "code",
      "metadata": {
        "id": "QvH2euPsEryv",
        "colab_type": "code",
        "colab": {}
      },
      "source": [
        "# Import required packages\n",
        "import matplotlib.pyplot as plt\n",
        "import numpy as np\n",
        "import pandas as pd\n",
        "import seaborn as sns\n",
        "from scipy import stats\n",
        "# Set up seaborn dark view\n",
        "sns.set()"
      ],
      "execution_count": 0,
      "outputs": []
    },
    {
      "cell_type": "markdown",
      "metadata": {
        "id": "4ik2DwRRqf3a",
        "colab_type": "text"
      },
      "source": [
        "### **Learning objective 1:** Simulate a binary experiment.\n",
        "**Step 1:** Define function that conducts a single Bernouilli trial."
      ]
    },
    {
      "cell_type": "code",
      "metadata": {
        "id": "T1_rIZ4UMnbH",
        "colab_type": "code",
        "outputId": "ed91a2ee-4e8c-45df-9e14-e061ac9a7065",
        "colab": {
          "base_uri": "https://localhost:8080/",
          "height": 34
        }
      },
      "source": [
        "# Define a function called \"bernouilli_trial\" that takes a variable \"prob_of_success\" indicating the probability of a successful outcome.\n",
        "def bernouilli_trial(prob_of_success=0.5):\n",
        "  # Choose a random number between 0 and 1\n",
        "  result = np.random.random_sample()\n",
        "  # If the result is less than or equal to the probability of success, declare a successful outcome\n",
        "  if result <= prob_of_success:\n",
        "    outcome = 'success'\n",
        "  # Otherwise declare a failure\n",
        "  else:\n",
        "    outcome = 'failure'\n",
        "  # Return the outcome\n",
        "  return outcome\n",
        "\n",
        "# Run the new function to test\n",
        "bernouilli_trial()"
      ],
      "execution_count": 2,
      "outputs": [
        {
          "output_type": "execute_result",
          "data": {
            "text/plain": [
              "'success'"
            ]
          },
          "metadata": {
            "tags": []
          },
          "execution_count": 2
        }
      ]
    },
    {
      "cell_type": "markdown",
      "metadata": {
        "id": "GgFTZ-MDeOHW",
        "colab_type": "text"
      },
      "source": [
        "**Step 2:** Run multiple Bernouilli trials and record the result "
      ]
    },
    {
      "cell_type": "code",
      "metadata": {
        "id": "HnUDYeBhOtDI",
        "colab_type": "code",
        "outputId": "403448d1-c465-4323-cb89-0c81434464c3",
        "colab": {
          "base_uri": "https://localhost:8080/",
          "height": 185
        }
      },
      "source": [
        "# Define a function to run multiple Bernouilli trials\n",
        "def binary_experiment(trials=10, p_of_success=0.5):\n",
        "  # Initialize a list to store all the outcomes\n",
        "  outcomes = []\n",
        "  # Run through a loop to perform each Bernouilli trial and record each outcome\n",
        "  for i in range(trials):\n",
        "    outcome = bernouilli_trial(prob_of_success=p_of_success)\n",
        "    outcomes.append(outcome)\n",
        "  # Return the resulting list of outcomes\n",
        "  return outcomes\n",
        "\n",
        "# Run the new function to test\n",
        "binary_experiment()"
      ],
      "execution_count": 3,
      "outputs": [
        {
          "output_type": "execute_result",
          "data": {
            "text/plain": [
              "['failure',\n",
              " 'success',\n",
              " 'failure',\n",
              " 'failure',\n",
              " 'failure',\n",
              " 'failure',\n",
              " 'success',\n",
              " 'failure',\n",
              " 'failure',\n",
              " 'success']"
            ]
          },
          "metadata": {
            "tags": []
          },
          "execution_count": 3
        }
      ]
    },
    {
      "cell_type": "markdown",
      "metadata": {
        "id": "kN7mAuCILVjh",
        "colab_type": "text"
      },
      "source": [
        "### **Learning objective 2:** Run a series of binary experiment simulations and compare the result with the probability associated with a specific number of successful outcomes computed using the binomial distribution.\n",
        "**Step 1:** Write a function to run the binary experiment multiple times to simulate a binomial distribution."
      ]
    },
    {
      "cell_type": "code",
      "metadata": {
        "id": "fIPpO0KvA7BH",
        "colab_type": "code",
        "colab": {
          "base_uri": "https://localhost:8080/",
          "height": 34
        },
        "outputId": "7de6c3a2-72e5-4f79-9eb2-acb61361f84a"
      },
      "source": [
        "# Define a new function to run multiple binary experiments\n",
        "def multiple_experiments(experiments=10, trials=100, success=0.5):\n",
        "  # Initialize a list to store the number of successful outcomes in each experiment\n",
        "  n_success = []\n",
        "  # Run through a loop to conduct each experiment and record the outcome\n",
        "  for i in range(experiments):\n",
        "    outcomes = binary_experiment(trials=trials, p_of_success=success)\n",
        "    n_success.append(len([s for s in outcomes if s == 'success']))\n",
        "  # Return the list of the number of successful outcomes in each experiment\n",
        "  return n_success\n",
        "\n",
        "# Run the new function to test\n",
        "multiple_experiments()"
      ],
      "execution_count": 4,
      "outputs": [
        {
          "output_type": "execute_result",
          "data": {
            "text/plain": [
              "[42, 52, 46, 53, 52, 47, 44, 54, 54, 46]"
            ]
          },
          "metadata": {
            "tags": []
          },
          "execution_count": 4
        }
      ]
    },
    {
      "cell_type": "markdown",
      "metadata": {
        "id": "fpQKY0PRLob2",
        "colab_type": "text"
      },
      "source": [
        "**Step 2:** Plot up a histogram of the result of running multiple binary experiments and compare with the theoretical result computed using the binomial distribution."
      ]
    },
    {
      "cell_type": "code",
      "metadata": {
        "id": "_UlDgR7JOv7S",
        "colab_type": "code",
        "outputId": "19fd60c1-6f7e-4a4d-83c2-cc84d3609128",
        "colab": {
          "base_uri": "https://localhost:8080/",
          "height": 268
        }
      },
      "source": [
        "# Define the number of trials, probability of success, and number of experiments to run\n",
        "num_trials = 100\n",
        "p_success = 0.9\n",
        "num_experiments = 1000\n",
        "# Run binary experiments using the parameters defined above\n",
        "n_success = multiple_experiments(experiments=num_experiments, \n",
        "                                 trials=num_trials, \n",
        "                                 success=p_success)\n",
        "# Generate x-values to use in calculating a theoretical geometric distribution\n",
        "x = np.arange(np.min(n_success), np.max(n_success)+1)\n",
        "# Use the x-values to define bins to be used for a histogram of experimental data\n",
        "bin_edges = x - 0.5\n",
        "# Compute and plot a histogram of experimental results (blue bars)\n",
        "plt.hist(n_success, bins=bin_edges, label='Experimental Result')\n",
        "# Plot the theoretical result from a binomial distribution (green dots)\n",
        "plt.plot(x, stats.binom.pmf(x, num_trials, p_success)*num_experiments, 'go', ms=8, label='Binomial Dist.')\n",
        "plt.legend()\n",
        "plt.show()"
      ],
      "execution_count": 51,
      "outputs": [
        {
          "output_type": "display_data",
          "data": {
            "image/png": "[encoded data removed]",
            "text/plain": [
              "<Figure size 432x288 with 1 Axes>"
            ]
          },
          "metadata": {
            "tags": []
          }
        }
      ]
    },
    {
      "cell_type": "markdown",
      "metadata": {
        "id": "-Aggp7pUV_x4",
        "colab_type": "text"
      },
      "source": [
        "**Step 3:** Compare the result of running multiple binary experiments with the theoretical result computed using the binomial distribution for a specified range of values."
      ]
    },
    {
      "cell_type": "code",
      "metadata": {
        "id": "DzicQsJGV-8h",
        "colab_type": "code",
        "colab": {
          "base_uri": "https://localhost:8080/",
          "height": 318
        },
        "outputId": "5b78a295-c59f-4632-f27c-d22486ba4e5e"
      },
      "source": [
        "# Write a function to compare an experimental result for some number of successes\n",
        "# with the theoretical result from a binomial distribution\n",
        "def compare_n_successes(n_to_compare=50, comparison='equal', experiments=1000, trials=100, success=0.5):\n",
        "  # Run binary experiments\n",
        "  n_success = multiple_experiments(experiments=experiments, \n",
        "                                 trials=trials, \n",
        "                                 success=success)\n",
        "  # Generate x-values to use in calculating a theoretical geometric distribution\n",
        "  x = np.arange(np.min(n_success), np.max(n_success)+1)\n",
        "  # Use the x-values to define bins to be used for a histogram of experimental data\n",
        "  bin_edges = np.append(x-0.5, x[-1]+0.5)\n",
        "  # Compute and plot a histogram of experimental results (blue bars)\n",
        "  hist = plt.hist(n_success, bins=bin_edges)\n",
        "  # Plot the theoretical result from a binomial distribution (green dots)\n",
        "  theoretical_result = stats.binom.pmf(x, trials, success)\n",
        "  plt.plot(x, theoretical_result*experiments, 'go', ms=8, label='Binomial Dist.')\n",
        "\n",
        "  # Check if the number requested for comparison exists in the array of x-values\n",
        "  if n_to_compare not in list(x):\n",
        "    print('The number of successes for comparison is not within the experimental results.')\n",
        "    print(f'Try again with one of these numbers:{x}')\n",
        "    return\n",
        "  # Check to see if the type of comparison requested is valid\n",
        "  compare_options = ['equal', 'less than or equal', 'greater than or equal']\n",
        "  if comparison not in compare_options:\n",
        "    print(f'{comparison} is not an option for comparison')\n",
        "    print(f'Try again with one of these:{compare_options}')\n",
        "    return\n",
        "  # Extract the array of experimental counts\n",
        "  experimental_counts = hist[0]\n",
        "  # Extract the indices for comparison\n",
        "  if comparison == 'equal':\n",
        "    ind = (x == n_to_compare).nonzero()[0]\n",
        "  if comparison == 'less than or equal':\n",
        "    ind = (x <= n_to_compare).nonzero()[0]\n",
        "  if comparison == 'greater than or equal':\n",
        "    ind = (x >= n_to_compare).nonzero()[0][:-1]\n",
        "  # Compute the fraction of counts (probability) for that value(s) in the experiment\n",
        "  experimental_probability = np.sum(experimental_counts[ind])/np.sum(experimental_counts)\n",
        "  theoretical_probability = np.sum(theoretical_result[ind])\n",
        "  # Extract the x-values for the comparison\n",
        "  \n",
        "  # Plot the experimental and theoretical comparison\n",
        "  plt.bar(x[ind], experimental_counts[ind], color='r', label='Experimental')\n",
        "  plt.plot(x[ind], theoretical_result[ind]*experiments, color='magenta', marker='o', ms=8, ls='None', label='Theoretical')\n",
        "  plt.legend()\n",
        "  plt.title('Binary Experiment Simulation vs. Binomial Distribution')\n",
        "  plt.show()\n",
        "    # Compute the theoretical probability of that exact result using the binomial distribution\n",
        "  print(f'The experimental probability of n successes {comparison} to {n_to_compare} is {experimental_probability:.3f}') \n",
        "  print(f'The theoretical probability of n successes {comparison} to {n_to_compare} is {theoretical_probability:.3f}')\n",
        "\n",
        "  return\n",
        "\n",
        "# Run the new function to test\n",
        "compare_n_successes()"
      ],
      "execution_count": 108,
      "outputs": [
        {
          "output_type": "display_data",
          "data": {
            "image/png": "[encoded data removed]",
            "text/plain": [
              "<Figure size 432x288 with 1 Axes>"
            ]
          },
          "metadata": {
            "tags": []
          }
        },
        {
          "output_type": "stream",
          "text": [
            "The experimental probability of n successes equal to 50 is 0.079\n",
            "The theoretical probability of n successes equal to 50 is 0.080\n"
          ],
          "name": "stdout"
        }
      ]
    },
    {
      "cell_type": "markdown",
      "metadata": {
        "id": "Mxconkbe45y0",
        "colab_type": "text"
      },
      "source": [
        "**Step 4:** Try running the comparison for different input parameters."
      ]
    },
    {
      "cell_type": "code",
      "metadata": {
        "id": "f9C_HOBMa95L",
        "colab_type": "code",
        "colab": {
          "base_uri": "https://localhost:8080/",
          "height": 318
        },
        "outputId": "10ffabc8-159b-46bc-9ab9-7f5047356d20"
      },
      "source": [
        "# Define parameters to use in the comparison of simulated vs. theoretical number of successes\n",
        "n = 12\n",
        "compare = 'greater than or equal'\n",
        "n_exp = 1000\n",
        "n_trials = 100\n",
        "p_success = 0.1\n",
        "# Run the experiment\n",
        "compare_n_successes(n_to_compare=n, \n",
        "                    comparison=compare, \n",
        "                    experiments=n_exp, \n",
        "                    trials=n_trials, \n",
        "                    success=p_success)"
      ],
      "execution_count": 131,
      "outputs": [
        {
          "output_type": "display_data",
          "data": {
            "image/png": "[encoded data removed]",
            "text/plain": [
              "<Figure size 432x288 with 1 Axes>"
            ]
          },
          "metadata": {
            "tags": []
          }
        },
        {
          "output_type": "stream",
          "text": [
            "The experimental probability of n successes greater than or equal to 12 is 0.303\n",
            "The theoretical probability of n successes greater than or equal to 12 is 0.297\n"
          ],
          "name": "stdout"
        }
      ]
    },
    {
      "cell_type": "markdown",
      "metadata": {
        "id": "0a-wjV_BMjtY",
        "colab_type": "text"
      },
      "source": [
        "### **Learning objective 3:** Simulate an experiment to find the probability associated with the number of trials to reach the first success and compare with the result computed using the geometric distribution.\n",
        "**Step 1:** Write a function to simulate a geometric experiment that records the number of trials to reach the first success."
      ]
    },
    {
      "cell_type": "code",
      "metadata": {
        "id": "v3E3F-sLJ1VR",
        "colab_type": "code",
        "colab": {
          "base_uri": "https://localhost:8080/",
          "height": 34
        },
        "outputId": "23cb9fd8-d276-4ef2-bfd8-a534dbeb7ce8"
      },
      "source": [
        "# Define a new experiment that simply counts the number of trials to reach the first success\n",
        "def geometric_experiment(success=0.05):\n",
        "  # Initialize a count variable\n",
        "  count = 1\n",
        "  # Loop through conducting Bernouilli trials until reaching success\n",
        "  while True:\n",
        "    outcome = bernouilli_trial(prob_of_success=success)\n",
        "    # If the outcome is a success, break out of the loop and return the count\n",
        "    if outcome == 'success':\n",
        "      break\n",
        "    # Otherwise add one to the count\n",
        "    else:\n",
        "      count += 1\n",
        "  # Return the final count\n",
        "  return count\n",
        "\n",
        "# Run the new function to test\n",
        "geometric_experiment()"
      ],
      "execution_count": 6,
      "outputs": [
        {
          "output_type": "execute_result",
          "data": {
            "text/plain": [
              "16"
            ]
          },
          "metadata": {
            "tags": []
          },
          "execution_count": 6
        }
      ]
    },
    {
      "cell_type": "markdown",
      "metadata": {
        "id": "niImIxPYNLfe",
        "colab_type": "text"
      },
      "source": [
        "**Step 2:** Write a function to run multiple geometric experiments and record the results of each."
      ]
    },
    {
      "cell_type": "code",
      "metadata": {
        "id": "fu3W4hJ0IOSd",
        "colab_type": "code",
        "colab": {
          "base_uri": "https://localhost:8080/",
          "height": 34
        },
        "outputId": "1f963e70-106d-4cd2-a950-e086a087b0cb"
      },
      "source": [
        "# Define a function to perform multiple geometric experiments\n",
        "def multiple_geometric(experiments=10, success=0.1):\n",
        "  # Initialize a list to hold the count of number of trials to reach success\n",
        "  count_to_success = []\n",
        "  # Loop through running each experiment and recording the result\n",
        "  for i in range(experiments):\n",
        "    count_to_success.append(geometric_experiment(success=success))\n",
        "  # Return the results\n",
        "  return count_to_success\n",
        "\n",
        "# Run the new function to test\n",
        "multiple_geometric()"
      ],
      "execution_count": 7,
      "outputs": [
        {
          "output_type": "execute_result",
          "data": {
            "text/plain": [
              "[11, 4, 3, 5, 1, 2, 1, 50, 7, 8]"
            ]
          },
          "metadata": {
            "tags": []
          },
          "execution_count": 7
        }
      ]
    },
    {
      "cell_type": "markdown",
      "metadata": {
        "id": "h17aEgDYNXdu",
        "colab_type": "text"
      },
      "source": [
        "**Step 3:** Plot up a histogram of the result of running multiple geometric experiments and compare with the theoretical result computed using the geometric distribution."
      ]
    },
    {
      "cell_type": "code",
      "metadata": {
        "id": "u9UwOrMfOZzS",
        "colab_type": "code",
        "colab": {
          "base_uri": "https://localhost:8080/",
          "height": 268
        },
        "outputId": "4e06f399-9a68-48d0-aab3-b61028736843"
      },
      "source": [
        "# Define parameters for the number of experiments to run and probability of success\n",
        "n_experiments = 1000\n",
        "p_success = 0.3\n",
        "# Run geometric experiments with these parameters\n",
        "count_to_success = multiple_geometric(experiments=n_experiments, \n",
        "                                      success=p_success)\n",
        "# Generate x-values to use in calculating a theoretical geometric distribution\n",
        "x = np.arange(1, np.max(count_to_success)+1)\n",
        "# Use the x-values to define bins to be used for a histogram of experimental data\n",
        "bin_edges = x - 0.5\n",
        "# Compute and plot a histogram of experimental results (blue bars)\n",
        "plt.hist(count_to_success, bins=bin_edges, label='Experimental Result')\n",
        "# Plot the theoretical result from a geometric distribution (green dots)\n",
        "plt.plot(x, stats.geom.pmf(x, p_success)*n_experiments, 'go', ms=8, label='Geometric Dist.')\n",
        "plt.legend()\n",
        "plt.show()"
      ],
      "execution_count": 111,
      "outputs": [
        {
          "output_type": "display_data",
          "data": {
            "image/png": "[encoded data removed]",
            "text/plain": [
              "<Figure size 432x288 with 1 Axes>"
            ]
          },
          "metadata": {
            "tags": []
          }
        }
      ]
    },
    {
      "cell_type": "markdown",
      "metadata": {
        "id": "BAD2oyG_ybpV",
        "colab_type": "text"
      },
      "source": [
        "**Step 4:** Compare the result of running multiple binary experiments with the theoretical result computed using the geometric distribution for a specified range of values."
      ]
    },
    {
      "cell_type": "code",
      "metadata": {
        "id": "fTyWcWT1ycQ0",
        "colab_type": "code",
        "colab": {
          "base_uri": "https://localhost:8080/",
          "height": 318
        },
        "outputId": "5abfd1b5-8a84-4cd0-bbd5-88754c41cd0d"
      },
      "source": [
        "# Write a function to compare an experimental result for some number of successes\n",
        "# with the theoretical result from a binomial distribution\n",
        "def compare_trials_to_success(n_to_compare=3, comparison='equal', experiments=1000, success=0.3):\n",
        "  # Run geometric experiments\n",
        "  count_to_success = multiple_geometric(experiments=experiments, \n",
        "                                        success=success)\n",
        "  # Generate x-values to use in calculating a theoretical geometric distribution\n",
        "  x = np.arange(1, np.max(count_to_success)+1)\n",
        "  # Use the x-values to define bins to be used for a histogram of experimental data\n",
        "  bin_edges = np.append(x-0.5, x[-1]+0.5)\n",
        "  # Compute and plot a histogram of experimental results (blue bars)\n",
        "  hist = plt.hist(count_to_success, bins=bin_edges)\n",
        "  # Plot the theoretical result from a binomial distribution (green dots)\n",
        "  theoretical_result = stats.geom.pmf(x, success)\n",
        "  plt.plot(x, theoretical_result*experiments, 'go', ms=8, label='Geometric Dist.')\n",
        "\n",
        "  # Check if the number requested for comparison exists in the array of x-values\n",
        "  if n_to_compare not in list(x):\n",
        "    print('The number of successes for comparison is not within the experimental results.')\n",
        "    print(f'Try again with one of these numbers:{x}')\n",
        "    return\n",
        "  # Check to see if the type of comparison requested is valid\n",
        "  compare_options = ['equal', 'less than or equal', 'greater than or equal']\n",
        "  if comparison not in compare_options:\n",
        "    print(f'{comparison} is not an option for comparison')\n",
        "    print(f'Try again with one of these:{compare_options}')\n",
        "    return\n",
        "  # Extract the array of experimental counts\n",
        "  experimental_counts = hist[0]\n",
        "  # Extract the indices for comparison\n",
        "  if comparison == 'equal':\n",
        "    ind = (x == n_to_compare).nonzero()[0]\n",
        "  if comparison == 'less than or equal':\n",
        "    ind = (x <= n_to_compare).nonzero()[0]\n",
        "  if comparison == 'greater than or equal':\n",
        "    ind = (x >= n_to_compare).nonzero()[0][:-1]\n",
        "  # Compute the fraction of counts (probability) for that value(s) in the experiment\n",
        "  experimental_probability = np.sum(experimental_counts[ind])/np.sum(experimental_counts)\n",
        "  theoretical_probability = np.sum(theoretical_result[ind])\n",
        "  # Extract the x-values for the comparison\n",
        "  \n",
        "  # Plot the experimental and theoretical comparison\n",
        "  plt.bar(x[ind], experimental_counts[ind], color='r', label='Experimental')\n",
        "  plt.plot(x[ind], theoretical_result[ind]*experiments, color='magenta', marker='o', ms=8, ls='None', label='Theoretical')\n",
        "  plt.legend()\n",
        "  plt.title('Simulation vs. Geometric Distribution')\n",
        "  plt.show()\n",
        "    # Compute the theoretical probability of that exact result using the binomial distribution\n",
        "  print(f'The experimental probability of n trials to successe {comparison} to {n_to_compare} is {experimental_probability:.3f}') \n",
        "  print(f'The theoretical probability of n trials to successe {comparison} to {n_to_compare} is {theoretical_probability:.3f}')\n",
        "\n",
        "# Run the new function to test\n",
        "compare_trials_to_success()"
      ],
      "execution_count": 122,
      "outputs": [
        {
          "output_type": "display_data",
          "data": {
            "image/png": "[encoded data removed]",
            "text/plain": [
              "<Figure size 432x288 with 1 Axes>"
            ]
          },
          "metadata": {
            "tags": []
          }
        },
        {
          "output_type": "stream",
          "text": [
            "The experimental probability of n trials to successe equal to 3 is 0.125\n",
            "The theoretical probability of n trials to successe equal to 3 is 0.147\n"
          ],
          "name": "stdout"
        }
      ]
    },
    {
      "cell_type": "markdown",
      "metadata": {
        "id": "oKqXJS9I328s",
        "colab_type": "text"
      },
      "source": [
        "**Step 5:** Try running the comparison for different input parameters."
      ]
    },
    {
      "cell_type": "code",
      "metadata": {
        "id": "Jz2Hi_S9z5p0",
        "colab_type": "code",
        "colab": {
          "base_uri": "https://localhost:8080/",
          "height": 318
        },
        "outputId": "bc331d8e-cae2-4971-f008-793ddaef48b3"
      },
      "source": [
        "# Define parameters to use in the comparison of simulated and theoretical number of trials to reach first success\n",
        "n = 5\n",
        "compare = 'greater than or equal'\n",
        "n_exp = 1000\n",
        "p_success = 0.3\n",
        "# Run the comparison\n",
        "compare_trials_to_success(n_to_compare=n, \n",
        "                          comparison=compare, \n",
        "                          experiments=n_exp, \n",
        "                          success=p_success)"
      ],
      "execution_count": 130,
      "outputs": [
        {
          "output_type": "display_data",
          "data": {
            "image/png": "[encoded data removed]",
            "text/plain": [
              "<Figure size 432x288 with 1 Axes>"
            ]
          },
          "metadata": {
            "tags": []
          }
        },
        {
          "output_type": "stream",
          "text": [
            "The experimental probability of n trials to successe greater than or equal to 5 is 0.243\n",
            "The theoretical probability of n trials to successe greater than or equal to 5 is 0.238\n"
          ],
          "name": "stdout"
        }
      ]
    },
    {
      "cell_type": "markdown",
      "metadata": {
        "id": "ENjWJb84Nnht",
        "colab_type": "text"
      },
      "source": [
        "### **Learning objective 4:** Simulate the probability of recording a given number of events in an interval or region and compare the result with the probability computed directly using the Poisson distribution.\n",
        "**Step 1:** Write a function to simulate a Poisson experiment that records the number of successes over an interval."
      ]
    },
    {
      "cell_type": "code",
      "metadata": {
        "id": "xW7XJehRPG1E",
        "colab_type": "code",
        "colab": {
          "base_uri": "https://localhost:8080/",
          "height": 34
        },
        "outputId": "625af9d8-ef8b-4f21-abc7-9980fd983b36"
      },
      "source": [
        "# Define a function to count the number of successful trials in an interval (region)\n",
        "# In terms of parameter definitions, let's say the event rate lambda is defined for some \"baseline\" interval or region, then:\n",
        "### \"subinterval_size\" is the fraction of that baseline interval over which to conduct each trial\n",
        "### \"n_subintervals\" is the number of subintervals (trials) to conduct\n",
        "### \"poisson_lambda\" is the average number of successes or event rate over that baseline interval\n",
        "def poisson_experiment(subinterval_size=1/60, n_subintervals=60, poisson_lambda=10):\n",
        "  # Calculate the probability of success for any given subinterval \n",
        "  # by multiplying the average number of successes per interval by the number of subintervals\n",
        "  prob_per_subinterval = poisson_lambda*subinterval_size\n",
        "  # Run a binary experiment recording outcomes for each trial\n",
        "  outcomes = binary_experiment(trials=n_subintervals, \n",
        "                               p_of_success=prob_per_subinterval)\n",
        "  # Count the number of successful outcomes\n",
        "  n_success = len([s for s in outcomes if s == 'success'])\n",
        "  # Return the result\n",
        "  return n_success\n",
        "\n",
        "# Run the new function to test\n",
        "poisson_experiment()"
      ],
      "execution_count": 36,
      "outputs": [
        {
          "output_type": "execute_result",
          "data": {
            "text/plain": [
              "12"
            ]
          },
          "metadata": {
            "tags": []
          },
          "execution_count": 36
        }
      ]
    },
    {
      "cell_type": "markdown",
      "metadata": {
        "id": "GIiLI1oJOVx0",
        "colab_type": "text"
      },
      "source": [
        "**Step 2:** Write a function to run multiple Poisson experiments and record the results of each."
      ]
    },
    {
      "cell_type": "code",
      "metadata": {
        "id": "jlQE4R-hPsIe",
        "colab_type": "code",
        "colab": {
          "base_uri": "https://localhost:8080/",
          "height": 34
        },
        "outputId": "8dbae75f-a70a-40aa-b808-55370825e11e"
      },
      "source": [
        "# Define a function to run multiple Poisson experiments\n",
        "def multiple_poisson(experiments=10, subinterval_size=1/60, n_subintervals=60, poisson_lambda=10):\n",
        "  # Initialize a list to hold the result of each experiment\n",
        "  n_successes = []\n",
        "  # Loop through running each experiment and recording the result\n",
        "  for i in range(experiments):\n",
        "    n_success = poisson_experiment(subinterval_size=subinterval_size, \n",
        "                                   n_subintervals=n_subintervals, \n",
        "                                   poisson_lambda=poisson_lambda)\n",
        "    # Append each result to the list\n",
        "    n_successes.append(n_success)\n",
        "  # Return the result\n",
        "  return n_successes\n",
        "\n",
        "# Run the new function to test\n",
        "multiple_poisson()"
      ],
      "execution_count": 37,
      "outputs": [
        {
          "output_type": "execute_result",
          "data": {
            "text/plain": [
              "[16, 14, 14, 9, 9, 4, 12, 9, 12, 8]"
            ]
          },
          "metadata": {
            "tags": []
          },
          "execution_count": 37
        }
      ]
    },
    {
      "cell_type": "markdown",
      "metadata": {
        "id": "VMKhbcCAOcj3",
        "colab_type": "text"
      },
      "source": [
        "**Step 3:** Plot up a histogram of the result of running multiple Poisson experiments and compare with the theoretical result computed using the Poisson distribution."
      ]
    },
    {
      "cell_type": "code",
      "metadata": {
        "id": "txbJI0gLT_tn",
        "colab_type": "code",
        "colab": {
          "base_uri": "https://localhost:8080/",
          "height": 268
        },
        "outputId": "81d4196f-15ae-41e9-d6f0-1ef7e3e20f4a"
      },
      "source": [
        "# Define parameters for the number of experiments to run, number of subintervals and successes per interval\n",
        "n_experiments=1000\n",
        "sub_size=1/60 \n",
        "n_subs=60\n",
        "p_lambda=10\n",
        "# Run the experiments and record the result\n",
        "n_successes = multiple_poisson(experiments=n_experiments, \n",
        "                               subinterval_size=sub_size, \n",
        "                               n_subintervals=n_subs, \n",
        "                               poisson_lambda=p_lambda)\n",
        "\n",
        "# Generate x-values to use in calculating a theoretical Poisson distribution\n",
        "x = np.arange(np.min(n_successes), np.max(n_successes)+1)\n",
        "# Use the x-values to define bins to be used for a histogram of experimental data\n",
        "bin_edges = x - 0.5\n",
        "# Compute and plot a histogram of experimental results (blue bars)\n",
        "plt.hist(n_successes, bins=bin_edges)\n",
        "# Plot the theoretical result from a Poisson distribution (green dots)\n",
        "plt.plot(x, stats.poisson.pmf(x, n_subs*sub_size*p_lambda)*n_experiments, 'go', ms=8, label='Poisson Dist.')\n",
        "plt.show()"
      ],
      "execution_count": 35,
      "outputs": [
        {
          "output_type": "display_data",
          "data": {
            "image/png": "[encoded data removed]",
            "text/plain": [
              "<Figure size 432x288 with 1 Axes>"
            ]
          },
          "metadata": {
            "tags": []
          }
        }
      ]
    },
    {
      "cell_type": "markdown",
      "metadata": {
        "id": "bLX-9I0A4aYT",
        "colab_type": "text"
      },
      "source": [
        "**Step 4:** Compare the result of running multiple Poisson experiments with the theoretical result computed using the Poisson distribution for a specified range of values."
      ]
    },
    {
      "cell_type": "code",
      "metadata": {
        "id": "krdBk3V3R9ZX",
        "colab_type": "code",
        "colab": {
          "base_uri": "https://localhost:8080/",
          "height": 318
        },
        "outputId": "6f44ceed-5bfb-4b55-f1b8-868a8260ce88"
      },
      "source": [
        "# Write a function to compare an experimental result for some number of successes\n",
        "# with the theoretical result from a binomial distribution\n",
        "def compare_n_over_interval(n_to_compare=10, comparison='equal', experiments=1000, \n",
        "                               subinterval_size=1/60, \n",
        "                               n_subintervals=60, \n",
        "                               poisson_lambda=10):\n",
        "  # Run the experiments\n",
        "  n_successes = multiple_poisson(experiments=experiments, \n",
        "                               subinterval_size=subinterval_size, \n",
        "                               n_subintervals=n_subintervals, \n",
        "                               poisson_lambda=poisson_lambda)\n",
        "  # Generate x-values to use in calculating a theoretical geometric distribution\n",
        "  x = np.arange(np.min(n_successes), np.max(n_successes)+1)\n",
        "  # Use the x-values to define bins to be used for a histogram of experimental data\n",
        "  bin_edges = np.append(x-0.5, x[-1]+0.5)\n",
        "  # Compute and plot a histogram of experimental results (blue bars)\n",
        "  hist = plt.hist(n_successes, bins=bin_edges)\n",
        "  # Plot the theoretical result from a binomial distribution (green dots)\n",
        "  theoretical_result = stats.poisson.pmf(x, n_subintervals*subinterval_size*poisson_lambda)\n",
        "  plt.plot(x, theoretical_result*experiments, 'go', ms=8, label='Poisson Dist.')\n",
        "\n",
        "  # Check if the number requested for comparison exists in the array of x-values\n",
        "  if n_to_compare not in list(x):\n",
        "    print('The number of successes for comparison is not within the experimental results.')\n",
        "    print(f'Try again with one of these numbers:{x}')\n",
        "    return\n",
        "  # Check to see if the type of comparison requested is valid\n",
        "  compare_options = ['equal', 'less than or equal', 'greater than or equal']\n",
        "  if comparison not in compare_options:\n",
        "    print(f'{comparison} is not an option for comparison')\n",
        "    print(f'Try again with one of these:{compare_options}')\n",
        "    return\n",
        "  # Extract the array of experimental counts\n",
        "  experimental_counts = hist[0]\n",
        "  # Extract the indices for comparison\n",
        "  if comparison == 'equal':\n",
        "    ind = (x == n_to_compare).nonzero()[0]\n",
        "  if comparison == 'less than or equal':\n",
        "    ind = (x <= n_to_compare).nonzero()[0]\n",
        "  if comparison == 'greater than or equal':\n",
        "    ind = (x >= n_to_compare).nonzero()[0][:-1]\n",
        "  # Compute the fraction of counts (probability) for that value(s) in the experiment\n",
        "  experimental_probability = np.sum(experimental_counts[ind])/np.sum(experimental_counts)\n",
        "  theoretical_probability = np.sum(theoretical_result[ind])\n",
        "  # Extract the x-values for the comparison\n",
        "  \n",
        "  # Plot the experimental and theoretical comparison\n",
        "  plt.bar(x[ind], experimental_counts[ind], color='r', label='Experimental')\n",
        "  plt.plot(x[ind], theoretical_result[ind]*experiments, color='magenta', marker='o', ms=8, ls='None', label='Theoretical')\n",
        "  plt.legend()\n",
        "  plt.title('Simulation vs. Poisson Distribution')\n",
        "  plt.show()\n",
        "    # Compute the theoretical probability of that exact result using the binomial distribution\n",
        "  print(f'The experimental probability of n events in the interval being {comparison} to {n_to_compare} is {experimental_probability:.3f}') \n",
        "  print(f'The theoretical probability of n events in the interval being {comparison} to {n_to_compare} is {theoretical_probability:.3f}')\n",
        "\n",
        "  return\n",
        "\n",
        "# Run the new function to test\n",
        "compare_n_over_interval()"
      ],
      "execution_count": 128,
      "outputs": [
        {
          "output_type": "display_data",
          "data": {
            "image/png": "[encoded data removed]",
            "text/plain": [
              "<Figure size 432x288 with 1 Axes>"
            ]
          },
          "metadata": {
            "tags": []
          }
        },
        {
          "output_type": "stream",
          "text": [
            "The experimental probability of n events in the interval being equal to 10 is 0.130\n",
            "The theoretical probability of n events in the interval being equal to 10 is 0.125\n"
          ],
          "name": "stdout"
        }
      ]
    },
    {
      "cell_type": "markdown",
      "metadata": {
        "id": "XS-gA7ns4oYx",
        "colab_type": "text"
      },
      "source": [
        "**Step 5:** Try running the comparison for different input parameters."
      ]
    },
    {
      "cell_type": "code",
      "metadata": {
        "id": "TakhPV2Z2ah1",
        "colab_type": "code",
        "colab": {
          "base_uri": "https://localhost:8080/",
          "height": 318
        },
        "outputId": "647bcd13-8cdf-4929-882c-40ad16ee8d76"
      },
      "source": [
        "# Define parameters to use in the comparison of simulated and theoretical number of events per interval\n",
        "n = 5\n",
        "compare = 'less than or equal'\n",
        "n_exp = 1000\n",
        "sub_size = 1/60\n",
        "n_subs = 60\n",
        "p_lambda = 10\n",
        "# Run the comparison\n",
        "compare_n_over_interval(n_to_compare=n, \n",
        "                        comparison=compare, \n",
        "                        experiments=n_exp, \n",
        "                        subinterval_size=sub_size, \n",
        "                        n_subintervals=n_subs, \n",
        "                        poisson_lambda=p_lambda)"
      ],
      "execution_count": 129,
      "outputs": [
        {
          "output_type": "display_data",
          "data": {
            "image/png": "[encoded data removed]",
            "text/plain": [
              "<Figure size 432x288 with 1 Axes>"
            ]
          },
          "metadata": {
            "tags": []
          }
        },
        {
          "output_type": "stream",
          "text": [
            "The experimental probability of n events in the interval being less than or equal to 5 is 0.047\n",
            "The theoretical probability of n events in the interval being less than or equal to 5 is 0.064\n"
          ],
          "name": "stdout"
        }
      ]
    },
    {
      "cell_type": "code",
      "metadata": {
        "id": "Uhm5IUS43HHW",
        "colab_type": "code",
        "colab": {}
      },
      "source": [
        ""
      ],
      "execution_count": 0,
      "outputs": []
    }
  ]
}