{
 "cells": [
  {
   "cell_type": "markdown",
   "metadata": {},
   "source": [
    "# Python Primer"
   ]
  },
  {
   "cell_type": "markdown",
   "metadata": {},
   "source": [
    "Welcome to the Python Primer! This notebook will provide an introduction to the Python language and Jupyter Notebooks. The expectation is that you know absolutely nothing about Python or Jupyter Notebooks. If that's the case, then you're in the right place."
   ]
  },
  {
   "cell_type": "markdown",
   "metadata": {},
   "source": [
    "### Learning Objectives"
   ]
  },
  {
   "cell_type": "markdown",
   "metadata": {},
   "source": [
    "- Distinguish between markdown and code cells in Jupyter Notebooks.\n",
    "\n",
    "- Run cells in Jupyter Notebooks using \"Shift-Enter.\"\n",
    "\n",
    "- Navigate the toolbar in Jupyter Notebooks.\n",
    "\n",
    "- Apply the Python print function.\n",
    "\n",
    "- Use Python variables to store information.\n",
    "\n",
    "- Contrast between Python strings, ints, and floats\n"
   ]
  },
  {
   "cell_type": "markdown",
   "metadata": {},
   "source": [
    "### Cells"
   ]
  },
  {
   "cell_type": "markdown",
   "metadata": {},
   "source": [
    "The information that you are reading right now exists in a cell. Use your mouse to double-click on these words. You should see a box that frames the word as follows. Notice that the font looks different, and that you can make adustments to the text. Do so by deleting this sentence. \n",
    "\n",
    "This is a markdown cell. Markdown cells are designed to hold text, images, and other information. They are not designed to run code. If you look at the toolbar above, you will see the label \"Markdown\". If you click on the menu, you will see additional options. For our purposes, we will shift between \"Markdown\" and \"Code\".\n",
    "\n",
    "You will also see the \"Run\" command on the same toolbar to the left of \"Markdown.\" Go ahead and press the \"Run\" command to run this cell."
   ]
  },
  {
   "cell_type": "markdown",
   "metadata": {},
   "source": [
    "### Shift - Enter"
   ]
  },
  {
   "cell_type": "markdown",
   "metadata": {},
   "source": [
    "After executing the cell above, you can see that it looks the same as before. The idea behind the \"Run\" command has less to do with text, and more to do with running Python code, which we will tackle next.\n",
    "\n",
    "First, double click on this cell just like the one above. You are going to run this cell without pressing the \"Run\" command. You are going to run this cell by pressing \"Shift-Enter\" simultaneously.\n",
    "\n",
    "Go ahead and press \"Shift-Enter\" now."
   ]
  },
  {
   "cell_type": "markdown",
   "metadata": {},
   "source": [
    "### Hello World"
   ]
  },
  {
   "cell_type": "markdown",
   "metadata": {},
   "source": [
    "Computer languages are all about input and ouput. The input is the code, and the output is often what you see on the screen. Let's start by displaying \"Hello World\" as the output of Python code. \n",
    "\n",
    "In Python, this can be done in one line, as shown in the next cell. Notice that the cell looks a little different. That's because it's a \"Code\" cell. And not a \"Markdown\" cell. Click on the cell to verify that it's a code cell. You should see the \"Markdown\" menu above change to \"Code\". \n",
    "\n",
    "To run the code, make sure that the cell is highlighted (if it's the last thing you clicked on, it's highlighted), then press \"Shift-Enter\""
   ]
  },
  {
   "cell_type": "code",
   "execution_count": null,
   "metadata": {},
   "outputs": [],
   "source": [
    "print('Hello World')"
   ]
  },
  {
   "cell_type": "markdown",
   "metadata": {},
   "source": [
    "If you see the phrase \"Hello World\" displayed in between this cell and the Python code above, congratulations, you just ran your first Python code! "
   ]
  },
  {
   "cell_type": "markdown",
   "metadata": {},
   "source": [
    "### Coding Exercise 1"
   ]
  },
  {
   "cell_type": "markdown",
   "metadata": {},
   "source": [
    "1. Write Python code to display your own name in the blank cell below. \n",
    "\n",
    "Hint: Copy the code above, but replace 'Hello World' with 'Your Name'."
   ]
  },
  {
   "cell_type": "code",
   "execution_count": null,
   "metadata": {},
   "outputs": [],
   "source": []
  },
  {
   "cell_type": "markdown",
   "metadata": {},
   "source": [
    "### print"
   ]
  },
  {
   "cell_type": "markdown",
   "metadata": {},
   "source": [
    "The word \"print\" is a keyword in Python. Whatever you place inside of the print function will be displayed on the screen. There is one catch. What you place inside of the print function must be inside of quotation marks (single or double is fine), and you must open and close the print function with parentheses.\n",
    "\n",
    "Here's another example of print. Press Shift-Enter to run the cell."
   ]
  },
  {
   "cell_type": "code",
   "execution_count": null,
   "metadata": {},
   "outputs": [],
   "source": [
    "print('Learning Python is really fun!')"
   ]
  },
  {
   "cell_type": "markdown",
   "metadata": {},
   "source": [
    "### Errors"
   ]
  },
  {
   "cell_type": "markdown",
   "metadata": {},
   "source": [
    "If you make a mistake, Python will throw an error. It's not a big deal to get errors in Jupyter Notebooks. It happens to everyone. When an error occurs, the cell will not finish running, and Python will display a message as to why the error occurred.\n",
    "\n",
    "Whenever you receive an error, the first step should be to look at your code and try to figure out what went wrong. Sometimes you will notice the mistake outright."
   ]
  },
  {
   "cell_type": "markdown",
   "metadata": {},
   "source": [
    "### Coding Exercise 2"
   ]
  },
  {
   "cell_type": "markdown",
   "metadata": {},
   "source": [
    "Run the following cell, and allow the error to occur. Then go back and try to fix the error on your own. After fixing the error, run the cell a second time."
   ]
  },
  {
   "cell_type": "code",
   "execution_count": null,
   "metadata": {},
   "outputs": [],
   "source": [
    "print('Errors make me nervous...'"
   ]
  },
  {
   "cell_type": "markdown",
   "metadata": {},
   "source": [
    "### Variables"
   ]
  },
  {
   "cell_type": "markdown",
   "metadata": {},
   "source": [
    "We will often work with variables in Python. A variable is "
   ]
  }
 ],
 "metadata": {
  "kernelspec": {
   "display_name": "Python 3",
   "language": "python",
   "name": "python3"
  },
  "language_info": {
   "codemirror_mode": {
    "name": "ipython",
    "version": 3
   },
   "file_extension": ".py",
   "mimetype": "text/x-python",
   "name": "python",
   "nbconvert_exporter": "python",
   "pygments_lexer": "ipython3",
   "version": "3.6.8"
  }
 },
 "nbformat": 4,
 "nbformat_minor": 2
}
