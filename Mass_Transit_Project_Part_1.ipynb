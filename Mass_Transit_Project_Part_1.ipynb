{
 "cells": [
  {
   "cell_type": "markdown",
   "metadata": {},
   "source": [
    "# Mass Transit: Project Part 1"
   ]
  },
  {
   "cell_type": "markdown",
   "metadata": {},
   "source": [
    "It's your first day on the job. Your first task is to analyze the Mass Transit Data and present general insights. You will build histograms, boxplots and scatter plots, along with analyzing the mean, median, max, min and quartiles to present compelling insights and to look for interesting patterns.\n",
    "\n",
    "Whenever you come across a cell with code in it, go ahead and run it. When you are prompted for your own solution, write your code in the blank Python cell and run that as well. If you get errors, don't worry, just go back and look at your code. Some errors are easily corrected. Other errors may need support from Stackoverflow or your classmates. Just be patient, and keep in mind that we all mistakes. The solutions will be made available to you."
   ]
  },
  {
   "cell_type": "markdown",
   "metadata": {},
   "source": [
    "### 1. Imports"
   ]
  },
  {
   "cell_type": "markdown",
   "metadata": {},
   "source": [
    "Since you are working in Python in a Jupyter Notebook, you want to use the following standard imports."
   ]
  },
  {
   "cell_type": "code",
   "execution_count": 1,
   "metadata": {},
   "outputs": [],
   "source": [
    "import pandas as pd\n",
    "import numpy as np\n",
    "import matplotlib.pyplot as plt"
   ]
  },
  {
   "cell_type": "markdown",
   "metadata": {},
   "source": [
    "### 2. Access Data"
   ]
  },
  {
   "cell_type": "markdown",
   "metadata": {},
   "source": [
    "Next, you need to access the data as follows."
   ]
  },
  {
   "cell_type": "code",
   "execution_count": 2,
   "metadata": {},
   "outputs": [],
   "source": [
    "df = pd.read_csv('uber_every_1K_rows.csv', parse_dates=['Trip Start Timestamp', 'Trip End Timestamp'])"
   ]
  },
  {
   "cell_type": "markdown",
   "metadata": {},
   "source": [
    "1. df is standard terminology. It stands for dataFrame. Throughout this project, whenever you see df, it's a reference to the data.\n",
    "\n",
    "2. Notice that parse_dates=['Trip Start Timestamp', 'Trip End Timestamp']. This is very important. It allows us to treat these columns as dates. This will be useful later on.\n"
   ]
  },
  {
   "cell_type": "markdown",
   "metadata": {},
   "source": [
    "### 3. View Data"
   ]
  },
  {
   "cell_type": "markdown",
   "metadata": {},
   "source": [
    "It's always a good idea to view the data. .head() is a method that shows you the first five rows. Use .head() following df to view the first 5 rows in the cell below."
   ]
  },
  {
   "cell_type": "code",
   "execution_count": 3,
   "metadata": {},
   "outputs": [
    {
     "data": {
      "text/html": [
       "<div>\n",
       "<style scoped>\n",
       "    .dataframe tbody tr th:only-of-type {\n",
       "        vertical-align: middle;\n",
       "    }\n",
       "\n",
       "    .dataframe tbody tr th {\n",
       "        vertical-align: top;\n",
       "    }\n",
       "\n",
       "    .dataframe thead th {\n",
       "        text-align: right;\n",
       "    }\n",
       "</style>\n",
       "<table border=\"1\" class=\"dataframe\">\n",
       "  <thead>\n",
       "    <tr style=\"text-align: right;\">\n",
       "      <th></th>\n",
       "      <th>Trip ID</th>\n",
       "      <th>Trip Start Timestamp</th>\n",
       "      <th>Trip End Timestamp</th>\n",
       "      <th>Trip Seconds</th>\n",
       "      <th>Trip Miles</th>\n",
       "      <th>Pickup Census Tract</th>\n",
       "      <th>Dropoff Census Tract</th>\n",
       "      <th>Pickup Community Area</th>\n",
       "      <th>Dropoff Community Area</th>\n",
       "      <th>Fare</th>\n",
       "      <th>...</th>\n",
       "      <th>Additional Charges</th>\n",
       "      <th>Trip Total</th>\n",
       "      <th>Shared Trip Authorized</th>\n",
       "      <th>Trips Pooled</th>\n",
       "      <th>Pickup Centroid Latitude</th>\n",
       "      <th>Pickup Centroid Longitude</th>\n",
       "      <th>Pickup Centroid Location</th>\n",
       "      <th>Dropoff Centroid Latitude</th>\n",
       "      <th>Dropoff Centroid Longitude</th>\n",
       "      <th>Dropoff Centroid Location</th>\n",
       "    </tr>\n",
       "  </thead>\n",
       "  <tbody>\n",
       "    <tr>\n",
       "      <th>0</th>\n",
       "      <td>10c7f5b6e72604b2d61676539c794cae46a7892a</td>\n",
       "      <td>2019-01-11 20:00:00</td>\n",
       "      <td>2019-01-11 20:15:00</td>\n",
       "      <td>878.0</td>\n",
       "      <td>4.5</td>\n",
       "      <td>NaN</td>\n",
       "      <td>NaN</td>\n",
       "      <td>43.0</td>\n",
       "      <td>51.0</td>\n",
       "      <td>10.0</td>\n",
       "      <td>...</td>\n",
       "      <td>2.55</td>\n",
       "      <td>12.55</td>\n",
       "      <td>False</td>\n",
       "      <td>1</td>\n",
       "      <td>41.761578</td>\n",
       "      <td>-87.572782</td>\n",
       "      <td>POINT (-87.5727819867 41.7615779081)</td>\n",
       "      <td>41.690633</td>\n",
       "      <td>-87.570058</td>\n",
       "      <td>POINT (-87.5700582686 41.6906333472)</td>\n",
       "    </tr>\n",
       "    <tr>\n",
       "      <th>1</th>\n",
       "      <td>10c9d0549abb476c40d28b6e8655236fc5c8337c</td>\n",
       "      <td>2019-01-04 03:15:00</td>\n",
       "      <td>2019-01-04 03:30:00</td>\n",
       "      <td>788.0</td>\n",
       "      <td>4.9</td>\n",
       "      <td>NaN</td>\n",
       "      <td>NaN</td>\n",
       "      <td>7.0</td>\n",
       "      <td>8.0</td>\n",
       "      <td>10.0</td>\n",
       "      <td>...</td>\n",
       "      <td>2.55</td>\n",
       "      <td>12.55</td>\n",
       "      <td>False</td>\n",
       "      <td>1</td>\n",
       "      <td>41.922686</td>\n",
       "      <td>-87.649489</td>\n",
       "      <td>POINT (-87.6494887289 41.9226862843)</td>\n",
       "      <td>41.899602</td>\n",
       "      <td>-87.633308</td>\n",
       "      <td>POINT (-87.6333080367 41.899602111)</td>\n",
       "    </tr>\n",
       "    <tr>\n",
       "      <th>2</th>\n",
       "      <td>10cbc009f37188202e8cfaddcc8c9ebbccc78b06</td>\n",
       "      <td>2018-12-04 02:30:00</td>\n",
       "      <td>2018-12-04 02:45:00</td>\n",
       "      <td>862.0</td>\n",
       "      <td>6.5</td>\n",
       "      <td>NaN</td>\n",
       "      <td>NaN</td>\n",
       "      <td>39.0</td>\n",
       "      <td>32.0</td>\n",
       "      <td>10.0</td>\n",
       "      <td>...</td>\n",
       "      <td>2.50</td>\n",
       "      <td>13.50</td>\n",
       "      <td>False</td>\n",
       "      <td>1</td>\n",
       "      <td>41.808916</td>\n",
       "      <td>-87.596183</td>\n",
       "      <td>POINT (-87.5961833442 41.8089162826)</td>\n",
       "      <td>41.878866</td>\n",
       "      <td>-87.625192</td>\n",
       "      <td>POINT (-87.6251921424 41.8788655841)</td>\n",
       "    </tr>\n",
       "    <tr>\n",
       "      <th>3</th>\n",
       "      <td>10cda8e401a74790b1deb7a9de194bf526b28fcc</td>\n",
       "      <td>2019-01-14 04:15:00</td>\n",
       "      <td>2019-01-14 04:15:00</td>\n",
       "      <td>708.0</td>\n",
       "      <td>2.6</td>\n",
       "      <td>1.703184e+10</td>\n",
       "      <td>1.703184e+10</td>\n",
       "      <td>34.0</td>\n",
       "      <td>31.0</td>\n",
       "      <td>7.5</td>\n",
       "      <td>...</td>\n",
       "      <td>0.00</td>\n",
       "      <td>7.50</td>\n",
       "      <td>True</td>\n",
       "      <td>1</td>\n",
       "      <td>41.851018</td>\n",
       "      <td>-87.635092</td>\n",
       "      <td>POINT (-87.6350918563 41.8510178239)</td>\n",
       "      <td>41.847432</td>\n",
       "      <td>-87.663529</td>\n",
       "      <td>POINT (-87.6635286858 41.8474315472)</td>\n",
       "    </tr>\n",
       "    <tr>\n",
       "      <th>4</th>\n",
       "      <td>10cfaf1cb74d19ac8e71937512b7b526df49cb2c</td>\n",
       "      <td>2018-11-05 00:30:00</td>\n",
       "      <td>2018-11-05 00:45:00</td>\n",
       "      <td>539.0</td>\n",
       "      <td>1.9</td>\n",
       "      <td>1.703107e+10</td>\n",
       "      <td>1.703108e+10</td>\n",
       "      <td>7.0</td>\n",
       "      <td>8.0</td>\n",
       "      <td>5.0</td>\n",
       "      <td>...</td>\n",
       "      <td>2.50</td>\n",
       "      <td>7.50</td>\n",
       "      <td>False</td>\n",
       "      <td>1</td>\n",
       "      <td>41.914586</td>\n",
       "      <td>-87.645966</td>\n",
       "      <td>POINT (-87.6459662069 41.9145857091)</td>\n",
       "      <td>41.899156</td>\n",
       "      <td>-87.626211</td>\n",
       "      <td>POINT (-87.6262105324 41.8991556134)</td>\n",
       "    </tr>\n",
       "  </tbody>\n",
       "</table>\n",
       "<p>5 rows × 21 columns</p>\n",
       "</div>"
      ],
      "text/plain": [
       "                                    Trip ID Trip Start Timestamp  \\\n",
       "0  10c7f5b6e72604b2d61676539c794cae46a7892a  2019-01-11 20:00:00   \n",
       "1  10c9d0549abb476c40d28b6e8655236fc5c8337c  2019-01-04 03:15:00   \n",
       "2  10cbc009f37188202e8cfaddcc8c9ebbccc78b06  2018-12-04 02:30:00   \n",
       "3  10cda8e401a74790b1deb7a9de194bf526b28fcc  2019-01-14 04:15:00   \n",
       "4  10cfaf1cb74d19ac8e71937512b7b526df49cb2c  2018-11-05 00:30:00   \n",
       "\n",
       "   Trip End Timestamp  Trip Seconds  Trip Miles  Pickup Census Tract  \\\n",
       "0 2019-01-11 20:15:00         878.0         4.5                  NaN   \n",
       "1 2019-01-04 03:30:00         788.0         4.9                  NaN   \n",
       "2 2018-12-04 02:45:00         862.0         6.5                  NaN   \n",
       "3 2019-01-14 04:15:00         708.0         2.6         1.703184e+10   \n",
       "4 2018-11-05 00:45:00         539.0         1.9         1.703107e+10   \n",
       "\n",
       "   Dropoff Census Tract  Pickup Community Area  Dropoff Community Area  Fare  \\\n",
       "0                   NaN                   43.0                    51.0  10.0   \n",
       "1                   NaN                    7.0                     8.0  10.0   \n",
       "2                   NaN                   39.0                    32.0  10.0   \n",
       "3          1.703184e+10                   34.0                    31.0   7.5   \n",
       "4          1.703108e+10                    7.0                     8.0   5.0   \n",
       "\n",
       "                   ...                   Additional Charges  Trip Total  \\\n",
       "0                  ...                                 2.55       12.55   \n",
       "1                  ...                                 2.55       12.55   \n",
       "2                  ...                                 2.50       13.50   \n",
       "3                  ...                                 0.00        7.50   \n",
       "4                  ...                                 2.50        7.50   \n",
       "\n",
       "   Shared Trip Authorized  Trips Pooled  Pickup Centroid Latitude  \\\n",
       "0                   False             1                 41.761578   \n",
       "1                   False             1                 41.922686   \n",
       "2                   False             1                 41.808916   \n",
       "3                    True             1                 41.851018   \n",
       "4                   False             1                 41.914586   \n",
       "\n",
       "   Pickup Centroid Longitude              Pickup Centroid Location  \\\n",
       "0                 -87.572782  POINT (-87.5727819867 41.7615779081)   \n",
       "1                 -87.649489  POINT (-87.6494887289 41.9226862843)   \n",
       "2                 -87.596183  POINT (-87.5961833442 41.8089162826)   \n",
       "3                 -87.635092  POINT (-87.6350918563 41.8510178239)   \n",
       "4                 -87.645966  POINT (-87.6459662069 41.9145857091)   \n",
       "\n",
       "  Dropoff Centroid Latitude  Dropoff Centroid Longitude  \\\n",
       "0                 41.690633                  -87.570058   \n",
       "1                 41.899602                  -87.633308   \n",
       "2                 41.878866                  -87.625192   \n",
       "3                 41.847432                  -87.663529   \n",
       "4                 41.899156                  -87.626211   \n",
       "\n",
       "              Dropoff Centroid Location  \n",
       "0  POINT (-87.5700582686 41.6906333472)  \n",
       "1   POINT (-87.6333080367 41.899602111)  \n",
       "2  POINT (-87.6251921424 41.8788655841)  \n",
       "3  POINT (-87.6635286858 41.8474315472)  \n",
       "4  POINT (-87.6262105324 41.8991556134)  \n",
       "\n",
       "[5 rows x 21 columns]"
      ]
     },
     "execution_count": 3,
     "metadata": {},
     "output_type": "execute_result"
    }
   ],
   "source": [
    "df.head()"
   ]
  },
  {
   "cell_type": "markdown",
   "metadata": {},
   "source": [
    "Take a moment to examine the data. Lots of interesting stuff. Notice the NaN values? These need to be dealt with. First, let's analyze the data using .describe()"
   ]
  },
  {
   "cell_type": "markdown",
   "metadata": {},
   "source": [
    "### 4. Describe Data"
   ]
  },
  {
   "cell_type": "markdown",
   "metadata": {},
   "source": [
    ".describe() is a great method for viewing the core statistics at once. Use .describe() with df to view the core statistics in the cell below."
   ]
  },
  {
   "cell_type": "code",
   "execution_count": 4,
   "metadata": {},
   "outputs": [
    {
     "data": {
      "text/html": [
       "<div>\n",
       "<style scoped>\n",
       "    .dataframe tbody tr th:only-of-type {\n",
       "        vertical-align: middle;\n",
       "    }\n",
       "\n",
       "    .dataframe tbody tr th {\n",
       "        vertical-align: top;\n",
       "    }\n",
       "\n",
       "    .dataframe thead th {\n",
       "        text-align: right;\n",
       "    }\n",
       "</style>\n",
       "<table border=\"1\" class=\"dataframe\">\n",
       "  <thead>\n",
       "    <tr style=\"text-align: right;\">\n",
       "      <th></th>\n",
       "      <th>Trip Seconds</th>\n",
       "      <th>Trip Miles</th>\n",
       "      <th>Pickup Census Tract</th>\n",
       "      <th>Dropoff Census Tract</th>\n",
       "      <th>Pickup Community Area</th>\n",
       "      <th>Dropoff Community Area</th>\n",
       "      <th>Fare</th>\n",
       "      <th>Tip</th>\n",
       "      <th>Additional Charges</th>\n",
       "      <th>Trip Total</th>\n",
       "      <th>Trips Pooled</th>\n",
       "      <th>Pickup Centroid Latitude</th>\n",
       "      <th>Pickup Centroid Longitude</th>\n",
       "      <th>Dropoff Centroid Latitude</th>\n",
       "      <th>Dropoff Centroid Longitude</th>\n",
       "    </tr>\n",
       "  </thead>\n",
       "  <tbody>\n",
       "    <tr>\n",
       "      <th>count</th>\n",
       "      <td>45335.000000</td>\n",
       "      <td>45338.000000</td>\n",
       "      <td>3.277200e+04</td>\n",
       "      <td>3.261500e+04</td>\n",
       "      <td>42630.000000</td>\n",
       "      <td>42319.000000</td>\n",
       "      <td>45338.000000</td>\n",
       "      <td>45338.000000</td>\n",
       "      <td>45338.000000</td>\n",
       "      <td>45338.000000</td>\n",
       "      <td>45338.000000</td>\n",
       "      <td>42663.000000</td>\n",
       "      <td>42663.000000</td>\n",
       "      <td>42339.000000</td>\n",
       "      <td>42339.000000</td>\n",
       "    </tr>\n",
       "    <tr>\n",
       "      <th>mean</th>\n",
       "      <td>1050.394993</td>\n",
       "      <td>5.843617</td>\n",
       "      <td>1.703136e+10</td>\n",
       "      <td>1.703138e+10</td>\n",
       "      <td>25.295825</td>\n",
       "      <td>25.873083</td>\n",
       "      <td>10.778541</td>\n",
       "      <td>0.522740</td>\n",
       "      <td>2.802098</td>\n",
       "      <td>14.103380</td>\n",
       "      <td>1.329481</td>\n",
       "      <td>41.892467</td>\n",
       "      <td>-87.665717</td>\n",
       "      <td>41.893435</td>\n",
       "      <td>-87.667936</td>\n",
       "    </tr>\n",
       "    <tr>\n",
       "      <th>std</th>\n",
       "      <td>736.613534</td>\n",
       "      <td>6.347701</td>\n",
       "      <td>3.326601e+05</td>\n",
       "      <td>3.383880e+05</td>\n",
       "      <td>20.164720</td>\n",
       "      <td>20.552015</td>\n",
       "      <td>8.898413</td>\n",
       "      <td>1.501123</td>\n",
       "      <td>1.862349</td>\n",
       "      <td>10.541434</td>\n",
       "      <td>0.806980</td>\n",
       "      <td>0.061407</td>\n",
       "      <td>0.059872</td>\n",
       "      <td>0.061396</td>\n",
       "      <td>0.063759</td>\n",
       "    </tr>\n",
       "    <tr>\n",
       "      <th>min</th>\n",
       "      <td>3.000000</td>\n",
       "      <td>0.000000</td>\n",
       "      <td>1.703101e+10</td>\n",
       "      <td>1.703101e+10</td>\n",
       "      <td>1.000000</td>\n",
       "      <td>1.000000</td>\n",
       "      <td>0.000000</td>\n",
       "      <td>0.000000</td>\n",
       "      <td>0.000000</td>\n",
       "      <td>0.670000</td>\n",
       "      <td>1.000000</td>\n",
       "      <td>41.650222</td>\n",
       "      <td>-87.913625</td>\n",
       "      <td>41.650222</td>\n",
       "      <td>-87.913625</td>\n",
       "    </tr>\n",
       "    <tr>\n",
       "      <th>25%</th>\n",
       "      <td>527.000000</td>\n",
       "      <td>1.800000</td>\n",
       "      <td>1.703108e+10</td>\n",
       "      <td>1.703108e+10</td>\n",
       "      <td>8.000000</td>\n",
       "      <td>8.000000</td>\n",
       "      <td>5.000000</td>\n",
       "      <td>0.000000</td>\n",
       "      <td>2.500000</td>\n",
       "      <td>7.550000</td>\n",
       "      <td>1.000000</td>\n",
       "      <td>41.877406</td>\n",
       "      <td>-87.679955</td>\n",
       "      <td>41.878667</td>\n",
       "      <td>-87.683227</td>\n",
       "    </tr>\n",
       "    <tr>\n",
       "      <th>50%</th>\n",
       "      <td>854.000000</td>\n",
       "      <td>3.600000</td>\n",
       "      <td>1.703124e+10</td>\n",
       "      <td>1.703124e+10</td>\n",
       "      <td>24.000000</td>\n",
       "      <td>24.000000</td>\n",
       "      <td>7.500000</td>\n",
       "      <td>0.000000</td>\n",
       "      <td>2.550000</td>\n",
       "      <td>10.050000</td>\n",
       "      <td>1.000000</td>\n",
       "      <td>41.893216</td>\n",
       "      <td>-87.652274</td>\n",
       "      <td>41.893216</td>\n",
       "      <td>-87.651970</td>\n",
       "    </tr>\n",
       "    <tr>\n",
       "      <th>75%</th>\n",
       "      <td>1378.000000</td>\n",
       "      <td>7.300000</td>\n",
       "      <td>1.703183e+10</td>\n",
       "      <td>1.703183e+10</td>\n",
       "      <td>32.000000</td>\n",
       "      <td>32.000000</td>\n",
       "      <td>12.500000</td>\n",
       "      <td>0.000000</td>\n",
       "      <td>2.550000</td>\n",
       "      <td>15.500000</td>\n",
       "      <td>1.000000</td>\n",
       "      <td>41.929078</td>\n",
       "      <td>-87.631864</td>\n",
       "      <td>41.930579</td>\n",
       "      <td>-87.631864</td>\n",
       "    </tr>\n",
       "    <tr>\n",
       "      <th>max</th>\n",
       "      <td>9154.000000</td>\n",
       "      <td>151.700000</td>\n",
       "      <td>1.703198e+10</td>\n",
       "      <td>1.703198e+10</td>\n",
       "      <td>77.000000</td>\n",
       "      <td>77.000000</td>\n",
       "      <td>170.000000</td>\n",
       "      <td>31.000000</td>\n",
       "      <td>20.950000</td>\n",
       "      <td>206.890000</td>\n",
       "      <td>14.000000</td>\n",
       "      <td>42.021224</td>\n",
       "      <td>-87.534903</td>\n",
       "      <td>42.021224</td>\n",
       "      <td>-87.530712</td>\n",
       "    </tr>\n",
       "  </tbody>\n",
       "</table>\n",
       "</div>"
      ],
      "text/plain": [
       "       Trip Seconds    Trip Miles  Pickup Census Tract  Dropoff Census Tract  \\\n",
       "count  45335.000000  45338.000000         3.277200e+04          3.261500e+04   \n",
       "mean    1050.394993      5.843617         1.703136e+10          1.703138e+10   \n",
       "std      736.613534      6.347701         3.326601e+05          3.383880e+05   \n",
       "min        3.000000      0.000000         1.703101e+10          1.703101e+10   \n",
       "25%      527.000000      1.800000         1.703108e+10          1.703108e+10   \n",
       "50%      854.000000      3.600000         1.703124e+10          1.703124e+10   \n",
       "75%     1378.000000      7.300000         1.703183e+10          1.703183e+10   \n",
       "max     9154.000000    151.700000         1.703198e+10          1.703198e+10   \n",
       "\n",
       "       Pickup Community Area  Dropoff Community Area          Fare  \\\n",
       "count           42630.000000            42319.000000  45338.000000   \n",
       "mean               25.295825               25.873083     10.778541   \n",
       "std                20.164720               20.552015      8.898413   \n",
       "min                 1.000000                1.000000      0.000000   \n",
       "25%                 8.000000                8.000000      5.000000   \n",
       "50%                24.000000               24.000000      7.500000   \n",
       "75%                32.000000               32.000000     12.500000   \n",
       "max                77.000000               77.000000    170.000000   \n",
       "\n",
       "                Tip  Additional Charges    Trip Total  Trips Pooled  \\\n",
       "count  45338.000000        45338.000000  45338.000000  45338.000000   \n",
       "mean       0.522740            2.802098     14.103380      1.329481   \n",
       "std        1.501123            1.862349     10.541434      0.806980   \n",
       "min        0.000000            0.000000      0.670000      1.000000   \n",
       "25%        0.000000            2.500000      7.550000      1.000000   \n",
       "50%        0.000000            2.550000     10.050000      1.000000   \n",
       "75%        0.000000            2.550000     15.500000      1.000000   \n",
       "max       31.000000           20.950000    206.890000     14.000000   \n",
       "\n",
       "       Pickup Centroid Latitude  Pickup Centroid Longitude  \\\n",
       "count              42663.000000               42663.000000   \n",
       "mean                  41.892467                 -87.665717   \n",
       "std                    0.061407                   0.059872   \n",
       "min                   41.650222                 -87.913625   \n",
       "25%                   41.877406                 -87.679955   \n",
       "50%                   41.893216                 -87.652274   \n",
       "75%                   41.929078                 -87.631864   \n",
       "max                   42.021224                 -87.534903   \n",
       "\n",
       "       Dropoff Centroid Latitude  Dropoff Centroid Longitude  \n",
       "count               42339.000000                42339.000000  \n",
       "mean                   41.893435                  -87.667936  \n",
       "std                     0.061396                    0.063759  \n",
       "min                    41.650222                  -87.913625  \n",
       "25%                    41.878667                  -87.683227  \n",
       "50%                    41.893216                  -87.651970  \n",
       "75%                    41.930579                  -87.631864  \n",
       "max                    42.021224                  -87.530712  "
      ]
     },
     "execution_count": 4,
     "metadata": {},
     "output_type": "execute_result"
    }
   ],
   "source": [
    "df.describe()"
   ]
  },
  {
   "cell_type": "markdown",
   "metadata": {},
   "source": [
    "##### Write a paragraph stating insights from the data above."
   ]
  },
  {
   "cell_type": "markdown",
   "metadata": {},
   "source": [
    "SOLUTOIN .describe() shows the count, the quartiles, and the median mean. The mean is usually greater than the median in this dataset. This indicates that most of the data is very right skewed. This can happen when most of the data is clustered around 0, and the mean is pulled away from the median by very high outliers. As one example, the median trip is 3.6 miles, but the max trip is almost 246 miles. "
   ]
  },
  {
   "cell_type": "markdown",
   "metadata": {},
   "source": [
    "## 5. Column Info "
   ]
  },
  {
   "cell_type": "markdown",
   "metadata": {},
   "source": [
    "Use .info() as a method on df to view the info on the various columns."
   ]
  },
  {
   "cell_type": "code",
   "execution_count": 5,
   "metadata": {},
   "outputs": [
    {
     "name": "stdout",
     "output_type": "stream",
     "text": [
      "<class 'pandas.core.frame.DataFrame'>\n",
      "RangeIndex: 45338 entries, 0 to 45337\n",
      "Data columns (total 21 columns):\n",
      "Trip ID                       45338 non-null object\n",
      "Trip Start Timestamp          45338 non-null datetime64[ns]\n",
      "Trip End Timestamp            45338 non-null datetime64[ns]\n",
      "Trip Seconds                  45335 non-null float64\n",
      "Trip Miles                    45338 non-null float64\n",
      "Pickup Census Tract           32772 non-null float64\n",
      "Dropoff Census Tract          32615 non-null float64\n",
      "Pickup Community Area         42630 non-null float64\n",
      "Dropoff Community Area        42319 non-null float64\n",
      "Fare                          45338 non-null float64\n",
      "Tip                           45338 non-null int64\n",
      "Additional Charges            45338 non-null float64\n",
      "Trip Total                    45338 non-null float64\n",
      "Shared Trip Authorized        45338 non-null bool\n",
      "Trips Pooled                  45338 non-null int64\n",
      "Pickup Centroid Latitude      42663 non-null float64\n",
      "Pickup Centroid Longitude     42663 non-null float64\n",
      "Pickup Centroid Location      42663 non-null object\n",
      "Dropoff Centroid Latitude     42339 non-null float64\n",
      "Dropoff Centroid Longitude    42339 non-null float64\n",
      "Dropoff Centroid Location     42339 non-null object\n",
      "dtypes: bool(1), datetime64[ns](2), float64(13), int64(2), object(3)\n",
      "memory usage: 7.0+ MB\n"
     ]
    }
   ],
   "source": [
    "df.info()"
   ]
  },
  {
   "cell_type": "markdown",
   "metadata": {},
   "source": [
    "Whereas .describe() shows statistics for the numerical columns, .info() shows all the column and column types. It also reveals the null values."
   ]
  },
  {
   "cell_type": "markdown",
   "metadata": {},
   "source": [
    "##### How many columnns above contain null values?"
   ]
  },
  {
   "cell_type": "code",
   "execution_count": 6,
   "metadata": {},
   "outputs": [
    {
     "data": {
      "text/plain": [
       "10"
      ]
     },
     "execution_count": 6,
     "metadata": {},
     "output_type": "execute_result"
    }
   ],
   "source": [
    "10"
   ]
  },
  {
   "cell_type": "markdown",
   "metadata": {},
   "source": [
    "There are many options for treating null values. The easiest is to get rid of them completely. This may not be possible if there are too many null values. Since our dataset is fairly large to begin with, we will take the easiest approach."
   ]
  },
  {
   "cell_type": "code",
   "execution_count": 7,
   "metadata": {},
   "outputs": [],
   "source": [
    "df = df.dropna(how='any',axis=0) "
   ]
  },
  {
   "cell_type": "markdown",
   "metadata": {},
   "source": [
    "To view the length of the new dataFrame, df, we can use the len() function as follows."
   ]
  },
  {
   "cell_type": "code",
   "execution_count": 8,
   "metadata": {},
   "outputs": [
    {
     "data": {
      "text/plain": [
       "30804"
      ]
     },
     "execution_count": 8,
     "metadata": {},
     "output_type": "execute_result"
    }
   ],
   "source": [
    "len(df)"
   ]
  },
  {
   "cell_type": "markdown",
   "metadata": {},
   "source": [
    "## Visual Graphs"
   ]
  },
  {
   "cell_type": "markdown",
   "metadata": {},
   "source": [
    "Now let's explore the graphs visually. It's always important to include visual graphs as part of your analysis. Graphs are easier to comprehend on sight, and they capture important information.\n",
    "\n",
    "After every graph that is displayed, be sure to include a brief summary of what you see. The summary may include words like skew, normal, and modal (bi-modal, uni-modal). "
   ]
  },
  {
   "cell_type": "markdown",
   "metadata": {},
   "source": [
    "### 6. Histograms"
   ]
  },
  {
   "cell_type": "markdown",
   "metadata": {},
   "source": [
    "We will start with histograms. Remember to use plt.hist(), and put the relevant columnn inside of parentheses. Then use plt.show() to display the graph."
   ]
  },
  {
   "cell_type": "markdown",
   "metadata": {},
   "source": [
    "##### Display a histogram of df['Fare'] in the cell below"
   ]
  },
  {
   "cell_type": "code",
   "execution_count": 9,
   "metadata": {},
   "outputs": [
    {
     "data": {
      "image/png": "[encoded data removed]",
      "text/plain": [
       "<Figure size 432x288 with 1 Axes>"
      ]
     },
     "metadata": {},
     "output_type": "display_data"
    }
   ],
   "source": [
    "plt.hist(df['Fare'])\n",
    "plt.show()"
   ]
  },
  {
   "cell_type": "markdown",
   "metadata": {},
   "source": [
    "INTERPRETATION - The fares are very right skewed. This is to be expected since there cannot be negative fares, and most riders take short trips. Very few rides are in excess of 60 dollars."
   ]
  },
  {
   "cell_type": "markdown",
   "metadata": {},
   "source": [
    "We can improve the visuals of our histogram using the following steps:\n",
    "\n",
    "1. Use Seaborn - A popular Python library with nice defaults.\n",
    "2. Make figure larger - Great for presentations later on.\n",
    "3. Change number of bins - Can change interpretation of the graph.\n",
    "4. Create labels for y and x - All graphs should have the axes labeled.\n",
    "5. Give the histogram a title - All graphs should be titled.\n",
    "6. Change the limit of x - Since many bars are invisible, limiting x can show more information about the distribution of larger values.\n",
    "\n",
    "Let's do this now by running the next two cells."
   ]
  },
  {
   "cell_type": "code",
   "execution_count": 10,
   "metadata": {},
   "outputs": [],
   "source": [
    "# Run this cell to improve your visuals with Seaborn\n",
    "import seaborn as sns;\n",
    "\n",
    "# This sets up the seaborn dark grid\n",
    "sns.set()"
   ]
  },
  {
   "cell_type": "code",
   "execution_count": 11,
   "metadata": {},
   "outputs": [
    {
     "data": {
      "image/png": "[encoded data removed]",
      "text/plain": [
       "<Figure size 720x504 with 1 Axes>"
      ]
     },
     "metadata": {},
     "output_type": "display_data"
    }
   ],
   "source": [
    "plt.figure(figsize=(10,7))\n",
    "plt.xlim(0,60)\n",
    "plt.xlabel('Fare')\n",
    "plt.ylabel('Frequency')\n",
    "plt.title('Uber Fares')\n",
    "plt.hist(df['Fare'], bins=25)\n",
    "plt.savefig('Uber_Fares_Hist', dpi=300)\n",
    "plt.show()"
   ]
  },
  {
   "cell_type": "markdown",
   "metadata": {},
   "source": [
    "INTERPRETATION - The overall distribution of fares is right skeweed and unimodal with a peak at around $10. There are very few fares at over $40."
   ]
  },
  {
   "cell_type": "markdown",
   "metadata": {},
   "source": [
    "The code above this histogram may be copied and modified to generate new histograms of other columns. Also notice that we added the following line:\n",
    "\n",
    "plt.savefig('Uber_Fares_Hist', dpi=300)\n",
    "\n",
    "This will save the figure to your computer uder the title 'Uber_Fares_Hist'. The parameter dpi=300 means that the figure is saved with 300 dots per square inch, so it will look rather crisp. We recommend saving the figures that you create so that you can use them in the project presentation."
   ]
  },
  {
   "cell_type": "markdown",
   "metadata": {},
   "source": [
    "##### Display a histogram of df['Trip Seconds'] using only plt.hist() and plt.show()"
   ]
  },
  {
   "cell_type": "code",
   "execution_count": 12,
   "metadata": {},
   "outputs": [
    {
     "data": {
      "image/png": "[encoded data removed]",
      "text/plain": [
       "<Figure size 432x288 with 1 Axes>"
      ]
     },
     "metadata": {},
     "output_type": "display_data"
    }
   ],
   "source": [
    "plt.hist(df['Trip Seconds'])\n",
    "plt.show()"
   ]
  },
  {
   "cell_type": "markdown",
   "metadata": {},
   "source": [
    "##### Improve the histogram of df['Trip Seconds'] by making it larger and adding labels in the cell below. \n",
    "You also may want to change the number of bins and xlim. Be sure to interpret the graph in the provided cell."
   ]
  },
  {
   "cell_type": "code",
   "execution_count": 13,
   "metadata": {},
   "outputs": [
    {
     "data": {
      "image/png": "[encoded data removed]",
      "text/plain": [
       "<Figure size 720x504 with 1 Axes>"
      ]
     },
     "metadata": {},
     "output_type": "display_data"
    }
   ],
   "source": [
    "plt.figure(figsize=(10,7))\n",
    "plt.xlim(0,5000)\n",
    "plt.xlabel('Seconds')\n",
    "plt.ylabel('Frequency')\n",
    "plt.title('Duration of Trip in Seconds')\n",
    "plt.hist(df['Trip Seconds'], bins=40)\n",
    "plt.show()"
   ]
  },
  {
   "cell_type": "markdown",
   "metadata": {},
   "source": [
    "Trip Seconds peak at around 5-7 thousand. The distribution is unimodal and very right skewed. This indicates that most trips are about 10 minutes long. "
   ]
  },
  {
   "cell_type": "markdown",
   "metadata": {},
   "source": [
    "##### Display a histogram of df['Trip Seconds'] using only plt.hist() and plt.show()"
   ]
  },
  {
   "cell_type": "code",
   "execution_count": 14,
   "metadata": {},
   "outputs": [
    {
     "data": {
      "image/png": "[encoded data removed]",
      "text/plain": [
       "<Figure size 432x288 with 1 Axes>"
      ]
     },
     "metadata": {},
     "output_type": "display_data"
    }
   ],
   "source": [
    "plt.hist(df['Tip'])\n",
    "plt.show()"
   ]
  },
  {
   "cell_type": "markdown",
   "metadata": {},
   "source": [
    "##### Improve the histogram of df['Trip Seconds'] by making it larger and adding labels in the cell below.\n",
    "You may want to change the number of bins and xlim. Be sure to interpret the graph in the provided cell."
   ]
  },
  {
   "cell_type": "code",
   "execution_count": 15,
   "metadata": {},
   "outputs": [
    {
     "data": {
      "image/png": "[encoded data removed]",
      "text/plain": [
       "<Figure size 720x504 with 1 Axes>"
      ]
     },
     "metadata": {},
     "output_type": "display_data"
    }
   ],
   "source": [
    "plt.figure(figsize=(10,7))\n",
    "plt.xlim(0,10)\n",
    "plt.xlabel('Tips')\n",
    "plt.ylabel('Frequency')\n",
    "plt.title('Rider Tips')\n",
    "plt.hist(df['Tip'], bins=30)\n",
    "plt.show()"
   ]
  },
  {
   "cell_type": "markdown",
   "metadata": {},
   "source": [
    "Most riders do not tip. The distribution of tips is right skewed, starting with a peak at 0, before swiftly dropping to \\\\$6. Very few riders tip more than \\\\$6."
   ]
  },
  {
   "cell_type": "markdown",
   "metadata": {},
   "source": [
    "##### Choose another column to explore on your own. \n",
    "The output should be a histogram saved to a file that is appropriately labeled."
   ]
  },
  {
   "cell_type": "code",
   "execution_count": 16,
   "metadata": {},
   "outputs": [
    {
     "data": {
      "image/png": "[encoded data removed]",
      "text/plain": [
       "<Figure size 720x504 with 1 Axes>"
      ]
     },
     "metadata": {},
     "output_type": "display_data"
    }
   ],
   "source": [
    "plt.figure(figsize=(10,7))\n",
    "plt.xlabel('Additional Charges')\n",
    "plt.ylabel('Frequency')\n",
    "plt.title('Additional Charges Per Trip')\n",
    "plt.hist(df['Additional Charges'])\n",
    "plt.show()"
   ]
  },
  {
   "cell_type": "markdown",
   "metadata": {},
   "source": [
    "There is usually an additional fee of around \\\\$2 per trip. This distribution is not continuous. Additional fees may be under \\\\$2, or a  little beyond \\\\$8, with scattered values in between."
   ]
  },
  {
   "cell_type": "markdown",
   "metadata": {},
   "source": [
    "### 7. Box Plots"
   ]
  },
  {
   "cell_type": "markdown",
   "metadata": {},
   "source": [
    "Now we will examine the same columns using Box Plots. Let's do the first one together."
   ]
  },
  {
   "cell_type": "markdown",
   "metadata": {},
   "source": [
    "##### Display a boxplot of df['Fare']."
   ]
  },
  {
   "cell_type": "code",
   "execution_count": 17,
   "metadata": {},
   "outputs": [
    {
     "data": {
      "image/png": "[encoded data removed]",
      "text/plain": [
       "<Figure size 720x504 with 1 Axes>"
      ]
     },
     "metadata": {},
     "output_type": "display_data"
    }
   ],
   "source": [
    "plt.figure(figsize=(10,7))\n",
    "plt.boxplot(df['Fare'])\n",
    "plt.title('Fares')\n",
    "plt.show()"
   ]
  },
  {
   "cell_type": "markdown",
   "metadata": {},
   "source": [
    "In a box plot, each circle represents an outlier. The presence of outliers distorts the box itself. Generally speaking, the box should be the main piece of the diagram, not the outliers. Viewing the outliers, however, gives a better sense of the distribution of the data. Let's zoom in on the box by changing the y-limit below."
   ]
  },
  {
   "cell_type": "markdown",
   "metadata": {},
   "source": [
    "##### Display a boxplot of df['Fare'] by zooming in."
   ]
  },
  {
   "cell_type": "code",
   "execution_count": 18,
   "metadata": {},
   "outputs": [
    {
     "data": {
      "image/png": "[encoded data removed]",
      "text/plain": [
       "<Figure size 720x504 with 1 Axes>"
      ]
     },
     "metadata": {},
     "output_type": "display_data"
    }
   ],
   "source": [
    "plt.figure(figsize=(10,7))\n",
    "plt.boxplot(df['Fare'])\n",
    "plt.title('Fares Zoomed In')\n",
    "plt.ylim(-1,21)\n",
    "plt.show()"
   ]
  },
  {
   "cell_type": "markdown",
   "metadata": {},
   "source": [
    "INTERPRETATION - The median fare is around \\\\$7.50. The first and third quartiles, are about \\\\$5-\\\\$10. Rides beyond \\\\$17.50 are considered outliers, and the minimum is \\\\$0."
   ]
  },
  {
   "cell_type": "markdown",
   "metadata": {},
   "source": [
    "##### Display a boxplot of df['Trip Seconds']."
   ]
  },
  {
   "cell_type": "code",
   "execution_count": 19,
   "metadata": {},
   "outputs": [
    {
     "data": {
      "image/png": "[encoded data removed]",
      "text/plain": [
       "<Figure size 720x504 with 1 Axes>"
      ]
     },
     "metadata": {},
     "output_type": "display_data"
    }
   ],
   "source": [
    "plt.figure(figsize=(10,7))\n",
    "plt.boxplot(df['Trip Seconds'])\n",
    "plt.title('Seconds Per Trip')\n",
    "plt.show()"
   ]
  },
  {
   "cell_type": "markdown",
   "metadata": {},
   "source": [
    "##### Display a boxplot of df['Trip Seconds'] by zooming in.\n",
    "Be sure to include your interpretation."
   ]
  },
  {
   "cell_type": "code",
   "execution_count": 20,
   "metadata": {},
   "outputs": [],
   "source": [
    "##### Display a boxplot of df['Trip Seconds']."
   ]
  },
  {
   "cell_type": "code",
   "execution_count": 21,
   "metadata": {},
   "outputs": [
    {
     "data": {
      "image/png": "[encoded data removed]",
      "text/plain": [
       "<Figure size 720x504 with 1 Axes>"
      ]
     },
     "metadata": {},
     "output_type": "display_data"
    }
   ],
   "source": [
    "plt.figure(figsize=(10,7))\n",
    "plt.boxplot(df['Trip Seconds'])\n",
    "plt.title('Seconds Per Trip Zoomed In')\n",
    "plt.ylim(-10,2400)\n",
    "plt.show()"
   ]
  },
  {
   "cell_type": "markdown",
   "metadata": {},
   "source": [
    "INTERPRETATON - The median trip is about 750 seconds. The first and third quartiles are about 500 and 1200 seconds. Trips beyond 2300 seconds are considered outliers, and no trip can be less than 0 seconds."
   ]
  },
  {
   "cell_type": "markdown",
   "metadata": {},
   "source": [
    "##### Display a boxplot of df['Tip']."
   ]
  },
  {
   "cell_type": "code",
   "execution_count": 22,
   "metadata": {},
   "outputs": [
    {
     "data": {
      "image/png": "[encoded data removed]",
      "text/plain": [
       "<Figure size 720x504 with 1 Axes>"
      ]
     },
     "metadata": {},
     "output_type": "display_data"
    }
   ],
   "source": [
    "plt.figure(figsize=(10,7))\n",
    "plt.boxplot(df['Tip'])\n",
    "plt.title('Tips')\n",
    "plt.show()"
   ]
  },
  {
   "cell_type": "markdown",
   "metadata": {},
   "source": [
    "##### Display a boxplot of df['Tips'] by zooming in.\n",
    "Be sure to include your interpretation in the cell below."
   ]
  },
  {
   "cell_type": "code",
   "execution_count": 23,
   "metadata": {},
   "outputs": [
    {
     "data": {
      "image/png": "[encoded data removed]",
      "text/plain": [
       "<Figure size 720x504 with 1 Axes>"
      ]
     },
     "metadata": {},
     "output_type": "display_data"
    }
   ],
   "source": [
    "plt.figure(figsize=(10,7))\n",
    "plt.boxplot(df['Tip'])\n",
    "plt.title('Tips Zoomed In')\n",
    "plt.ylim(-1, 2.5)\n",
    "plt.show()"
   ]
  },
  {
   "cell_type": "markdown",
   "metadata": {},
   "source": [
    "All tips are considered outliers! Ouch."
   ]
  },
  {
   "cell_type": "markdown",
   "metadata": {},
   "source": [
    "### 8. Column Analysis - Tips"
   ]
  },
  {
   "cell_type": "markdown",
   "metadata": {},
   "source": [
    "Occasionally, you will find peculiar information that needs further analysis. Let's consider the box plot of tips given above. Even with zooming in, the box plot indicates that all tips are outliers.\n",
    "\n",
    "Some questions immediately arise. \n",
    "\n",
    "1. How are these outliers determined?\n",
    "2. How likely is it that a driver receives a tip?\n",
    "3. What is the mean tip?\n",
    "4. What is the median tip?\n",
    "5. Is there a way to earn more tips?"
   ]
  },
  {
   "cell_type": "markdown",
   "metadata": {},
   "source": [
    "1. How are these outliers determined?\n",
    "\n",
    "There is not a universal way to describe outliers. We know from the histogram that there are some fares with decent frequency, so we can conclude that the Python boxplot is determining outliers liberally. Let's check to see if it's 1.5 * IQR by examining the boxplot above."
   ]
  },
  {
   "cell_type": "markdown",
   "metadata": {},
   "source": [
    "##### What is the IQR of the Fare Box Plot above?\n",
    "Set the value equal to the variable IQR in the cell below."
   ]
  },
  {
   "cell_type": "code",
   "execution_count": 24,
   "metadata": {},
   "outputs": [],
   "source": [
    "IQR = 5"
   ]
  },
  {
   "cell_type": "markdown",
   "metadata": {},
   "source": [
    "##### Now multiply IQR by 1.5"
   ]
  },
  {
   "cell_type": "code",
   "execution_count": 25,
   "metadata": {},
   "outputs": [
    {
     "data": {
      "text/plain": [
       "7.5"
      ]
     },
     "execution_count": 25,
     "metadata": {},
     "output_type": "execute_result"
    }
   ],
   "source": [
    "IQR * 1.5"
   ]
  },
  {
   "cell_type": "markdown",
   "metadata": {},
   "source": [
    "##### Go back to the boxplot and find the third quartile. Add 1.5 * IQR to the third quartile. What do you get?"
   ]
  },
  {
   "cell_type": "code",
   "execution_count": 26,
   "metadata": {},
   "outputs": [
    {
     "data": {
      "text/plain": [
       "17.5"
      ]
     },
     "execution_count": 26,
     "metadata": {},
     "output_type": "execute_result"
    }
   ],
   "source": [
    "17.5"
   ]
  },
  {
   "cell_type": "markdown",
   "metadata": {},
   "source": [
    "So it appears that the boxplots do use 1.5 * IQR to calculate the outliers. So what's the issue? "
   ]
  },
  {
   "cell_type": "markdown",
   "metadata": {},
   "source": [
    "##### Use .describe() on df['Tip'] in the cell below. \n",
    "Then answer the question, Why are all tips outliers?' in the cell below."
   ]
  },
  {
   "cell_type": "code",
   "execution_count": 27,
   "metadata": {},
   "outputs": [
    {
     "data": {
      "text/plain": [
       "count    30804.000000\n",
       "mean         0.479775\n",
       "std          1.323945\n",
       "min          0.000000\n",
       "25%          0.000000\n",
       "50%          0.000000\n",
       "75%          0.000000\n",
       "max         30.000000\n",
       "Name: Tip, dtype: float64"
      ]
     },
     "execution_count": 27,
     "metadata": {},
     "output_type": "execute_result"
    }
   ],
   "source": [
    "df['Tip'].describe()"
   ]
  },
  {
   "cell_type": "markdown",
   "metadata": {},
   "source": [
    "Since the first and third quartiles both have a value of 0, this makes IQR = 0, and 1.5 * IQR = 0. "
   ]
  },
  {
   "cell_type": "markdown",
   "metadata": {},
   "source": [
    "The next question is whether all tips should be outliers. It seems like it's important to get more information on tips. Let's start by calculating what percentage of riders actually tip. To do this, we need to figure out the number of tippers, and the number of rides. Execute the following two cells to reveal this information "
   ]
  },
  {
   "cell_type": "code",
   "execution_count": 28,
   "metadata": {},
   "outputs": [
    {
     "data": {
      "text/plain": [
       "30804"
      ]
     },
     "execution_count": 28,
     "metadata": {},
     "output_type": "execute_result"
    }
   ],
   "source": [
    "# Compute number of rides where there could have been a tip.\n",
    "len(df['Tip'])"
   ]
  },
  {
   "cell_type": "code",
   "execution_count": 29,
   "metadata": {},
   "outputs": [
    {
     "data": {
      "text/plain": [
       "5642"
      ]
     },
     "execution_count": 29,
     "metadata": {},
     "output_type": "execute_result"
    }
   ],
   "source": [
    "# Computer number of rides were there was a tip.\n",
    "len(df[df['Tip'] != 0])"
   ]
  },
  {
   "cell_type": "markdown",
   "metadata": {},
   "source": [
    "##### What percentage of riders tip?"
   ]
  },
  {
   "cell_type": "code",
   "execution_count": 30,
   "metadata": {},
   "outputs": [
    {
     "data": {
      "text/plain": [
       "0.18315803142449033"
      ]
     },
     "execution_count": 30,
     "metadata": {},
     "output_type": "execute_result"
    }
   ],
   "source": [
    "len(df[df['Tip'] != 0])/len(df['Tip'])"
   ]
  },
  {
   "cell_type": "markdown",
   "metadata": {},
   "source": [
    "##### Provide your own analysis. Should all tips be considered outliers?"
   ]
  },
  {
   "cell_type": "markdown",
   "metadata": {},
   "source": [
    "Although the majority of riders do not tip, 18% of riders do tip. The histogram reveals that most tips are around \\\\$2, very close to the median of 0. Tipping in itself is not an outlier. Low tips are not uncommon enough. Very high tips may be considered outliers. The question is how high?"
   ]
  },
  {
   "cell_type": "markdown",
   "metadata": {},
   "source": [
    "Outliers are open to interpretation. Let's follow the train of thought where all tips are not considered outliers. Outliers should be rare, and 0 is one reason why 1.5 * IQR is not a universal method to determine outliers."
   ]
  },
  {
   "cell_type": "markdown",
   "metadata": {},
   "source": [
    "Let's analyze the distribution of tippers. Let's work with a new dataFrame that only includes the 18% who tip. We can achieve this by running the following cell."
   ]
  },
  {
   "cell_type": "code",
   "execution_count": 31,
   "metadata": {},
   "outputs": [],
   "source": [
    "# Create DataFrame of Tippers\n",
    "df_tippers = df[df['Tip'] != 0]"
   ]
  },
  {
   "cell_type": "markdown",
   "metadata": {},
   "source": [
    "Now we can create boxplots and histograms using the new dataFrame. Instead of df, you should use df_tippers."
   ]
  },
  {
   "cell_type": "markdown",
   "metadata": {},
   "source": [
    "##### Display a histogram of df_tippers['Trip Seconds'] using only plt.hist() and plt.show()"
   ]
  },
  {
   "cell_type": "code",
   "execution_count": 32,
   "metadata": {},
   "outputs": [
    {
     "data": {
      "image/png": "[encoded data removed]",
      "text/plain": [
       "<Figure size 432x288 with 1 Axes>"
      ]
     },
     "metadata": {},
     "output_type": "display_data"
    }
   ],
   "source": [
    "plt.hist(df_tippers['Tip'])\n",
    "plt.show()"
   ]
  },
  {
   "cell_type": "markdown",
   "metadata": {},
   "source": [
    "##### Improve the histogram of df_tippers['Trip Seconds'] by making it larger and adding labels in the cell below.\n",
    "You may want to change the number of bins and xlim. Be sure to interpret the graph in the provided cell."
   ]
  },
  {
   "cell_type": "code",
   "execution_count": 33,
   "metadata": {},
   "outputs": [
    {
     "data": {
      "image/png": "[encoded data removed]",
      "text/plain": [
       "<Figure size 720x504 with 1 Axes>"
      ]
     },
     "metadata": {},
     "output_type": "display_data"
    }
   ],
   "source": [
    "plt.figure(figsize=(10,7))\n",
    "plt.xlim(0,15)\n",
    "plt.xlabel('Tips')\n",
    "plt.ylabel('Frequency')\n",
    "plt.title('Rider Tips')\n",
    "plt.hist(df_tippers['Tip'], bins=30)\n",
    "plt.show()"
   ]
  },
  {
   "cell_type": "markdown",
   "metadata": {},
   "source": [
    "This histogram gives a much clearer distribution of tips. The tips distribution is right-skewed and unimodal with a peak of around \\\\$2. Most riders tip less than \\\\$6, and very few riders tip more than \\\\$11."
   ]
  },
  {
   "cell_type": "markdown",
   "metadata": {},
   "source": [
    "##### Display a boxplot of df['Tip']."
   ]
  },
  {
   "cell_type": "code",
   "execution_count": 34,
   "metadata": {},
   "outputs": [
    {
     "data": {
      "image/png": "[encoded data removed]",
      "text/plain": [
       "<Figure size 720x504 with 1 Axes>"
      ]
     },
     "metadata": {},
     "output_type": "display_data"
    }
   ],
   "source": [
    "plt.figure(figsize=(10,7))\n",
    "plt.boxplot(df_tippers['Tip'])\n",
    "plt.title('Tips')\n",
    "plt.show()"
   ]
  },
  {
   "cell_type": "markdown",
   "metadata": {},
   "source": [
    "##### Display a boxplot of df_tippers['Tip'] zoomed in.\n",
    "Be sure to include your interpretation in the cell below."
   ]
  },
  {
   "cell_type": "code",
   "execution_count": 35,
   "metadata": {},
   "outputs": [
    {
     "data": {
      "image/png": "[encoded data removed]",
      "text/plain": [
       "<Figure size 720x504 with 1 Axes>"
      ]
     },
     "metadata": {},
     "output_type": "display_data"
    }
   ],
   "source": [
    "plt.figure(figsize=(10,7))\n",
    "plt.ylim(0.5, 7.5)\n",
    "plt.boxplot(df_tippers['Tip'])\n",
    "plt.title('Tips')\n",
    "plt.show()"
   ]
  },
  {
   "cell_type": "markdown",
   "metadata": {},
   "source": [
    "When restricting the range to tippers, the median tip is \\\\$2, and the quartile range is \\\\$1-\\\\$3. Tips greater than $6 are considered outliers."
   ]
  },
  {
   "cell_type": "markdown",
   "metadata": {},
   "source": [
    "The boxplot indicates that tips over \\\\$6 should be considered outliers, while the histogram suggests that tips beyond \\\\$11 are rare. As a final piece of analysis, we can examine some quantiles by running the next four cells."
   ]
  },
  {
   "cell_type": "code",
   "execution_count": 36,
   "metadata": {},
   "outputs": [
    {
     "data": {
      "text/plain": [
       "5.0"
      ]
     },
     "execution_count": 36,
     "metadata": {},
     "output_type": "execute_result"
    }
   ],
   "source": [
    "# The 90th percentile of tippers\n",
    "df_tippers['Tip'].quantile(0.9)"
   ]
  },
  {
   "cell_type": "code",
   "execution_count": 37,
   "metadata": {},
   "outputs": [
    {
     "data": {
      "text/plain": [
       "2.0"
      ]
     },
     "execution_count": 37,
     "metadata": {},
     "output_type": "execute_result"
    }
   ],
   "source": [
    "# The 90th percentile of riders\n",
    "df['Tip'].quantile(0.9)"
   ]
  },
  {
   "cell_type": "code",
   "execution_count": 38,
   "metadata": {},
   "outputs": [
    {
     "data": {
      "text/plain": [
       "10.0"
      ]
     },
     "execution_count": 38,
     "metadata": {},
     "output_type": "execute_result"
    }
   ],
   "source": [
    "# The 99th percentile of tippers\n",
    "df_tippers['Tip'].quantile(0.99)"
   ]
  },
  {
   "cell_type": "code",
   "execution_count": 39,
   "metadata": {},
   "outputs": [
    {
     "data": {
      "text/plain": [
       "5.0"
      ]
     },
     "execution_count": 39,
     "metadata": {},
     "output_type": "execute_result"
    }
   ],
   "source": [
    "# The 99th percentile of tippers\n",
    "df['Tip'].quantile(0.99)"
   ]
  },
  {
   "cell_type": "markdown",
   "metadata": {},
   "source": [
    "##### Give your final justification of what tips should be considered outliers."
   ]
  },
  {
   "cell_type": "markdown",
   "metadata": {},
   "source": [
    "99% of all riders will not tip, or tip less than $6. It's safe to say that rides over $6 are rare enough to be outliers, as evidenced in the boxplot of tippers. "
   ]
  },
  {
   "cell_type": "markdown",
   "metadata": {},
   "source": [
    "##### What was the max tip? \n",
    "Use .max on df['Tip']"
   ]
  },
  {
   "cell_type": "code",
   "execution_count": 40,
   "metadata": {},
   "outputs": [
    {
     "data": {
      "text/plain": [
       "30"
      ]
     },
     "execution_count": 40,
     "metadata": {},
     "output_type": "execute_result"
    }
   ],
   "source": [
    "df['Tip'].max()"
   ]
  },
  {
   "cell_type": "markdown",
   "metadata": {},
   "source": [
    "### 9. Scatter Plots"
   ]
  },
  {
   "cell_type": "markdown",
   "metadata": {},
   "source": [
    "Scater plots take two numeric columns, and plot them on the x and y axes. Scatter plots are particularly useful for examining the relationship between columns, a topic that we will investigate in further detail later in the course. For now, let's examine a variety of scatter plots to develop an intuition for how the data is related.\n",
    "\n",
    "First, let's recall the columns at are disposal along with their types by running the cell below."
   ]
  },
  {
   "cell_type": "code",
   "execution_count": 41,
   "metadata": {},
   "outputs": [
    {
     "name": "stdout",
     "output_type": "stream",
     "text": [
      "<class 'pandas.core.frame.DataFrame'>\n",
      "Int64Index: 30804 entries, 3 to 45337\n",
      "Data columns (total 21 columns):\n",
      "Trip ID                       30804 non-null object\n",
      "Trip Start Timestamp          30804 non-null datetime64[ns]\n",
      "Trip End Timestamp            30804 non-null datetime64[ns]\n",
      "Trip Seconds                  30804 non-null float64\n",
      "Trip Miles                    30804 non-null float64\n",
      "Pickup Census Tract           30804 non-null float64\n",
      "Dropoff Census Tract          30804 non-null float64\n",
      "Pickup Community Area         30804 non-null float64\n",
      "Dropoff Community Area        30804 non-null float64\n",
      "Fare                          30804 non-null float64\n",
      "Tip                           30804 non-null int64\n",
      "Additional Charges            30804 non-null float64\n",
      "Trip Total                    30804 non-null float64\n",
      "Shared Trip Authorized        30804 non-null bool\n",
      "Trips Pooled                  30804 non-null int64\n",
      "Pickup Centroid Latitude      30804 non-null float64\n",
      "Pickup Centroid Longitude     30804 non-null float64\n",
      "Pickup Centroid Location      30804 non-null object\n",
      "Dropoff Centroid Latitude     30804 non-null float64\n",
      "Dropoff Centroid Longitude    30804 non-null float64\n",
      "Dropoff Centroid Location     30804 non-null object\n",
      "dtypes: bool(1), datetime64[ns](2), float64(13), int64(2), object(3)\n",
      "memory usage: 5.0+ MB\n"
     ]
    }
   ],
   "source": [
    "df.info()"
   ]
  },
  {
   "cell_type": "markdown",
   "metadata": {},
   "source": [
    "Every column with  float64 and int64 at the end are numeric types. Notice that this includes latitude and longitude, along with community areas in addition to some of the columns we have already examined.\n",
    "\n",
    "We can think of the y axis as the column that we are trying to predict, and the x axis as our independent variable. The general syntax is as follows: \n",
    "\n",
    "plt.scatter(x,y)\n",
    "\n",
    "As a starting point, let's run the next few cells to determine if the pickup centroid latitude can influence the tip."
   ]
  },
  {
   "cell_type": "markdown",
   "metadata": {},
   "source": [
    "##### Create a scatter plot of df['Pickup Centroid Latitude'], and df['Tip']"
   ]
  },
  {
   "cell_type": "code",
   "execution_count": 42,
   "metadata": {},
   "outputs": [
    {
     "data": {
      "image/png": "[encoded data removed]",
      "text/plain": [
       "<Figure size 432x288 with 1 Axes>"
      ]
     },
     "metadata": {},
     "output_type": "display_data"
    }
   ],
   "source": [
    "plt.scatter(df['Pickup Centroid Latitude'], df['Tip'])\n",
    "plt.show()"
   ]
  },
  {
   "cell_type": "markdown",
   "metadata": {},
   "source": [
    "A couple of comments. First, the density of points makes it difficult to determine the amount of overlapping values. We can use alpha as a parameter that will provide a greater degree of transparency. If we set alpha=0.4 this will allow for 40% transparency.\n",
    "\n",
    "We can also make the scatter plot larger and add labels."
   ]
  },
  {
   "cell_type": "markdown",
   "metadata": {},
   "source": [
    "##### Create a scatter plot of df['Pickup Centroid Latitude'], and df['Tip'] with a larger plot, alpha = 0.4 and labels."
   ]
  },
  {
   "cell_type": "code",
   "execution_count": 43,
   "metadata": {},
   "outputs": [
    {
     "data": {
      "image/png": "[encoded data removed]",
      "text/plain": [
       "<Figure size 720x504 with 1 Axes>"
      ]
     },
     "metadata": {},
     "output_type": "display_data"
    }
   ],
   "source": [
    "plt.figure(figsize=(10,7))\n",
    "plt.scatter(df['Pickup Centroid Latitude'], df['Tip'], alpha = 0.4)\n",
    "plt.xlabel('Latitude')\n",
    "plt.ylabel('Tip')\n",
    "plt.title('Estimating Tip From Latitude of Pickup')\n",
    "plt.show()"
   ]
  },
  {
   "cell_type": "markdown",
   "metadata": {},
   "source": [
    "INTERPRETATION - It appears that the pickup locations of latitudes are likely to result in larger tips. This is an intuition based on the plot that will be investigated at a later time."
   ]
  },
  {
   "cell_type": "markdown",
   "metadata": {},
   "source": [
    "##### Create a scatter plot of df['Pickup Centroid Longitude'], and df['Tip'] with a large plot, alpha = 0.4 and labels.\n",
    "Be sure to include your interpretation in the provided cell."
   ]
  },
  {
   "cell_type": "code",
   "execution_count": 44,
   "metadata": {},
   "outputs": [
    {
     "data": {
      "image/png": "[encoded data removed]",
      "text/plain": [
       "<Figure size 720x504 with 1 Axes>"
      ]
     },
     "metadata": {},
     "output_type": "display_data"
    }
   ],
   "source": [
    "plt.figure(figsize=(10,7))\n",
    "plt.scatter(df['Pickup Centroid Longitude'], df['Tip'], alpha = 0.4)\n",
    "plt.xlabel('Longitude')\n",
    "plt.ylabel('Tip')\n",
    "plt.title('Estimating Tip From Longitude of Pickup')\n",
    "plt.show()"
   ]
  },
  {
   "cell_type": "markdown",
   "metadata": {},
   "source": [
    "It also appears that certain pickup longitudes result in higher tips. "
   ]
  },
  {
   "cell_type": "markdown",
   "metadata": {},
   "source": [
    "##### Create a scatter plot of df['Trip Miles'], and df['Tip'] with a large plot, alpha = 0.4 and labels.\n",
    "Be sure to include your interpretation in the provided cell."
   ]
  },
  {
   "cell_type": "code",
   "execution_count": 45,
   "metadata": {},
   "outputs": [
    {
     "data": {
      "image/png": "[encoded data removed]",
      "text/plain": [
       "<Figure size 720x504 with 1 Axes>"
      ]
     },
     "metadata": {},
     "output_type": "display_data"
    }
   ],
   "source": [
    "plt.figure(figsize=(10,7))\n",
    "plt.scatter(df['Trip Miles'], df['Tip'], alpha = 0.4)\n",
    "plt.xlabel('Miles')\n",
    "plt.ylabel('Tip')\n",
    "plt.title('Estimating Tip From Trip Miles')\n",
    "plt.show()"
   ]
  },
  {
   "cell_type": "markdown",
   "metadata": {},
   "source": [
    "It does not appear that longer trips result in bigger tips."
   ]
  },
  {
   "cell_type": "markdown",
   "metadata": {},
   "source": [
    "##### Create a scatter plot of df['Trip Miles'], and df['Fare'] with a large plot, alpha = 0.4 and labels.\n",
    "Be sure to include your interpretation in the provided cell."
   ]
  },
  {
   "cell_type": "code",
   "execution_count": 46,
   "metadata": {},
   "outputs": [
    {
     "data": {
      "image/png": "[encoded data removed]",
      "text/plain": [
       "<Figure size 720x504 with 1 Axes>"
      ]
     },
     "metadata": {},
     "output_type": "display_data"
    }
   ],
   "source": [
    "plt.figure(figsize=(10,7))\n",
    "plt.scatter(df['Trip Miles'], df['Fare'], alpha = 0.4)\n",
    "plt.ylabel('Fare')\n",
    "plt.xlabel('Trip Miles')\n",
    "plt.title('Estimating Fare From Trip Miles')\n",
    "plt.show()"
   ]
  },
  {
   "cell_type": "markdown",
   "metadata": {},
   "source": [
    "There is a positive linear associate between Trip Miles and Fare. This is to be expected since the distance of the trip determines how much one is supposed to pay."
   ]
  },
  {
   "cell_type": "markdown",
   "metadata": {},
   "source": [
    "##### Create a scatter plot of df['Fare'], and df['Trip Total'] with a large plot, alpha = 0.4 and labels.\n",
    "Be sure to include your interpretation in the provided cell."
   ]
  },
  {
   "cell_type": "code",
   "execution_count": 47,
   "metadata": {},
   "outputs": [
    {
     "data": {
      "image/png": "[encoded data removed]",
      "text/plain": [
       "<Figure size 720x504 with 1 Axes>"
      ]
     },
     "metadata": {},
     "output_type": "display_data"
    }
   ],
   "source": [
    "plt.figure(figsize=(10,7))\n",
    "plt.scatter(df['Fare'], df['Trip Total'], alpha = 0.4)\n",
    "plt.xlabel('Fare')\n",
    "plt.ylabel('Trip Total')\n",
    "plt.title('Estimating Trip Total From Fare')\n",
    "plt.show()"
   ]
  },
  {
   "cell_type": "markdown",
   "metadata": {},
   "source": [
    "It's not suprising that Trip Total can be predicted rather well from the Fare. It must exceed the fare depending on the tip and other fees. "
   ]
  },
  {
   "cell_type": "markdown",
   "metadata": {},
   "source": [
    "#### Bonus Tip: You may add a straight line as a baseline of comparison\n",
    "This is useful since no tip will result in the lowest possible value, when the Trip Total equals the fare."
   ]
  },
  {
   "cell_type": "code",
   "execution_count": 48,
   "metadata": {},
   "outputs": [
    {
     "data": {
      "image/png": "[encoded data removed]",
      "text/plain": [
       "<Figure size 720x504 with 1 Axes>"
      ]
     },
     "metadata": {},
     "output_type": "display_data"
    }
   ],
   "source": [
    "# Plot of Fare and Trip Total\n",
    "plt.figure(figsize=(10,7))\n",
    "plt.scatter(df['Fare'], df['Trip Total'], alpha = 0.4)\n",
    "plt.xlabel('Fare')\n",
    "plt.ylabel('Trip Total')\n",
    "plt.title('Estimating Trip Total From Fare')\n",
    "\n",
    "# Plot of straight line y = x\n",
    "x = np.linspace(0,125,75)\n",
    "y = x\n",
    "plt.scatter(x, y, alpha=0.6, marker=\".\", linewidths=0.5)\n",
    "\n",
    "# Legend to distinguish between plots\n",
    "plt.legend(loc='upper left')\n",
    "\n",
    "# Show both plots\n",
    "plt.show()"
   ]
  },
  {
   "cell_type": "markdown",
   "metadata": {},
   "source": [
    "##### Create a scatter plot of df['Pickup Centroid Latitude'], and df['Pickup Centroid Longitude'].\n",
    "Be sure to include your interpretation in the provided cell."
   ]
  },
  {
   "cell_type": "code",
   "execution_count": 49,
   "metadata": {},
   "outputs": [
    {
     "data": {
      "image/png": "[encoded data removed]",
      "text/plain": [
       "<Figure size 720x504 with 1 Axes>"
      ]
     },
     "metadata": {},
     "output_type": "display_data"
    }
   ],
   "source": [
    "plt.figure(figsize=(10,7))\n",
    "plt.scatter(df['Pickup Centroid Latitude'], df['Pickup Centroid Longitude'], alpha=0.4)\n",
    "plt.show()"
   ]
  },
  {
   "cell_type": "markdown",
   "metadata": {},
   "source": [
    "This appears to be a map of Chicago, if rotated 90 degrees!"
   ]
  },
  {
   "cell_type": "markdown",
   "metadata": {},
   "source": [
    "## 10. Time Series Analysis"
   ]
  },
  {
   "cell_type": "markdown",
   "metadata": {},
   "source": [
    "There are a couple of time columns in the dataFrame. We can use .info on df to recall which ones."
   ]
  },
  {
   "cell_type": "markdown",
   "metadata": {},
   "source": [
    "##### Use .info on df to show all columns and types."
   ]
  },
  {
   "cell_type": "code",
   "execution_count": 50,
   "metadata": {},
   "outputs": [
    {
     "name": "stdout",
     "output_type": "stream",
     "text": [
      "<class 'pandas.core.frame.DataFrame'>\n",
      "Int64Index: 30804 entries, 3 to 45337\n",
      "Data columns (total 21 columns):\n",
      "Trip ID                       30804 non-null object\n",
      "Trip Start Timestamp          30804 non-null datetime64[ns]\n",
      "Trip End Timestamp            30804 non-null datetime64[ns]\n",
      "Trip Seconds                  30804 non-null float64\n",
      "Trip Miles                    30804 non-null float64\n",
      "Pickup Census Tract           30804 non-null float64\n",
      "Dropoff Census Tract          30804 non-null float64\n",
      "Pickup Community Area         30804 non-null float64\n",
      "Dropoff Community Area        30804 non-null float64\n",
      "Fare                          30804 non-null float64\n",
      "Tip                           30804 non-null int64\n",
      "Additional Charges            30804 non-null float64\n",
      "Trip Total                    30804 non-null float64\n",
      "Shared Trip Authorized        30804 non-null bool\n",
      "Trips Pooled                  30804 non-null int64\n",
      "Pickup Centroid Latitude      30804 non-null float64\n",
      "Pickup Centroid Longitude     30804 non-null float64\n",
      "Pickup Centroid Location      30804 non-null object\n",
      "Dropoff Centroid Latitude     30804 non-null float64\n",
      "Dropoff Centroid Longitude    30804 non-null float64\n",
      "Dropoff Centroid Location     30804 non-null object\n",
      "dtypes: bool(1), datetime64[ns](2), float64(13), int64(2), object(3)\n",
      "memory usage: 5.0+ MB\n"
     ]
    }
   ],
   "source": [
    "df.info()"
   ]
  },
  {
   "cell_type": "markdown",
   "metadata": {},
   "source": [
    "Trip Start Timestamp and Trip End Timestamp are both time columns as evidenced by the datetime64[ns] listed at the end of the row. Let's view one of the time columns by running the following cell."
   ]
  },
  {
   "cell_type": "code",
   "execution_count": 51,
   "metadata": {},
   "outputs": [
    {
     "data": {
      "text/plain": [
       "3   2019-01-14 04:15:00\n",
       "4   2018-11-05 00:45:00\n",
       "6   2019-03-07 14:30:00\n",
       "7   2018-12-04 14:00:00\n",
       "8   2018-12-07 22:30:00\n",
       "Name: Trip End Timestamp, dtype: datetime64[ns]"
      ]
     },
     "execution_count": 51,
     "metadata": {},
     "output_type": "execute_result"
    }
   ],
   "source": [
    "df['Trip End Timestamp'].head()"
   ]
  },
  {
   "cell_type": "markdown",
   "metadata": {},
   "source": [
    "As you can see, the column includes both dates, and times.\n",
    "\n",
    "It can be interesting to create new columns that include the hour and the day of the week as baselines of comparison. This can be done whenever there is a datetime column in Python as follows."
   ]
  },
  {
   "cell_type": "code",
   "execution_count": 52,
   "metadata": {},
   "outputs": [],
   "source": [
    "import datetime as dt\n",
    "\n",
    "df['month'] = df['Trip Start Timestamp'].dt.month\n",
    "df['hour'] = df['Trip Start Timestamp'].dt.hour\n",
    "df['dayofweek'] = df['Trip Start Timestamp'].dt.dayofweek"
   ]
  },
  {
   "cell_type": "markdown",
   "metadata": {},
   "source": [
    "##### View the first five rows of the new dataFrame using .head().\n",
    "Scroll to the right to view the new columns."
   ]
  },
  {
   "cell_type": "code",
   "execution_count": 53,
   "metadata": {},
   "outputs": [
    {
     "data": {
      "text/html": [
       "<div>\n",
       "<style scoped>\n",
       "    .dataframe tbody tr th:only-of-type {\n",
       "        vertical-align: middle;\n",
       "    }\n",
       "\n",
       "    .dataframe tbody tr th {\n",
       "        vertical-align: top;\n",
       "    }\n",
       "\n",
       "    .dataframe thead th {\n",
       "        text-align: right;\n",
       "    }\n",
       "</style>\n",
       "<table border=\"1\" class=\"dataframe\">\n",
       "  <thead>\n",
       "    <tr style=\"text-align: right;\">\n",
       "      <th></th>\n",
       "      <th>Trip ID</th>\n",
       "      <th>Trip Start Timestamp</th>\n",
       "      <th>Trip End Timestamp</th>\n",
       "      <th>Trip Seconds</th>\n",
       "      <th>Trip Miles</th>\n",
       "      <th>Pickup Census Tract</th>\n",
       "      <th>Dropoff Census Tract</th>\n",
       "      <th>Pickup Community Area</th>\n",
       "      <th>Dropoff Community Area</th>\n",
       "      <th>Fare</th>\n",
       "      <th>...</th>\n",
       "      <th>Trips Pooled</th>\n",
       "      <th>Pickup Centroid Latitude</th>\n",
       "      <th>Pickup Centroid Longitude</th>\n",
       "      <th>Pickup Centroid Location</th>\n",
       "      <th>Dropoff Centroid Latitude</th>\n",
       "      <th>Dropoff Centroid Longitude</th>\n",
       "      <th>Dropoff Centroid Location</th>\n",
       "      <th>month</th>\n",
       "      <th>hour</th>\n",
       "      <th>dayofweek</th>\n",
       "    </tr>\n",
       "  </thead>\n",
       "  <tbody>\n",
       "    <tr>\n",
       "      <th>3</th>\n",
       "      <td>10cda8e401a74790b1deb7a9de194bf526b28fcc</td>\n",
       "      <td>2019-01-14 04:15:00</td>\n",
       "      <td>2019-01-14 04:15:00</td>\n",
       "      <td>708.0</td>\n",
       "      <td>2.6</td>\n",
       "      <td>1.703184e+10</td>\n",
       "      <td>1.703184e+10</td>\n",
       "      <td>34.0</td>\n",
       "      <td>31.0</td>\n",
       "      <td>7.5</td>\n",
       "      <td>...</td>\n",
       "      <td>1</td>\n",
       "      <td>41.851018</td>\n",
       "      <td>-87.635092</td>\n",
       "      <td>POINT (-87.6350918563 41.8510178239)</td>\n",
       "      <td>41.847432</td>\n",
       "      <td>-87.663529</td>\n",
       "      <td>POINT (-87.6635286858 41.8474315472)</td>\n",
       "      <td>1</td>\n",
       "      <td>4</td>\n",
       "      <td>0</td>\n",
       "    </tr>\n",
       "    <tr>\n",
       "      <th>4</th>\n",
       "      <td>10cfaf1cb74d19ac8e71937512b7b526df49cb2c</td>\n",
       "      <td>2018-11-05 00:30:00</td>\n",
       "      <td>2018-11-05 00:45:00</td>\n",
       "      <td>539.0</td>\n",
       "      <td>1.9</td>\n",
       "      <td>1.703107e+10</td>\n",
       "      <td>1.703108e+10</td>\n",
       "      <td>7.0</td>\n",
       "      <td>8.0</td>\n",
       "      <td>5.0</td>\n",
       "      <td>...</td>\n",
       "      <td>1</td>\n",
       "      <td>41.914586</td>\n",
       "      <td>-87.645966</td>\n",
       "      <td>POINT (-87.6459662069 41.9145857091)</td>\n",
       "      <td>41.899156</td>\n",
       "      <td>-87.626211</td>\n",
       "      <td>POINT (-87.6262105324 41.8991556134)</td>\n",
       "      <td>11</td>\n",
       "      <td>0</td>\n",
       "      <td>0</td>\n",
       "    </tr>\n",
       "    <tr>\n",
       "      <th>6</th>\n",
       "      <td>10d3aa79da58b171bd396c8d7c3ba3c1bdf3b357</td>\n",
       "      <td>2019-03-07 14:30:00</td>\n",
       "      <td>2019-03-07 14:30:00</td>\n",
       "      <td>292.0</td>\n",
       "      <td>0.7</td>\n",
       "      <td>1.703108e+10</td>\n",
       "      <td>1.703132e+10</td>\n",
       "      <td>8.0</td>\n",
       "      <td>32.0</td>\n",
       "      <td>2.5</td>\n",
       "      <td>...</td>\n",
       "      <td>1</td>\n",
       "      <td>41.895033</td>\n",
       "      <td>-87.619711</td>\n",
       "      <td>POINT (-87.6197106717 41.8950334495)</td>\n",
       "      <td>41.884987</td>\n",
       "      <td>-87.620993</td>\n",
       "      <td>POINT (-87.6209929134 41.8849871918)</td>\n",
       "      <td>3</td>\n",
       "      <td>14</td>\n",
       "      <td>3</td>\n",
       "    </tr>\n",
       "    <tr>\n",
       "      <th>7</th>\n",
       "      <td>10d5b9baaea513f4caf77d0d2f220e99d03d8fd8</td>\n",
       "      <td>2018-12-04 13:45:00</td>\n",
       "      <td>2018-12-04 14:00:00</td>\n",
       "      <td>635.0</td>\n",
       "      <td>2.6</td>\n",
       "      <td>1.703183e+10</td>\n",
       "      <td>1.703183e+10</td>\n",
       "      <td>3.0</td>\n",
       "      <td>6.0</td>\n",
       "      <td>7.5</td>\n",
       "      <td>...</td>\n",
       "      <td>1</td>\n",
       "      <td>41.958056</td>\n",
       "      <td>-87.660389</td>\n",
       "      <td>POINT (-87.6603894557 41.958055933)</td>\n",
       "      <td>41.945170</td>\n",
       "      <td>-87.668794</td>\n",
       "      <td>POINT (-87.6687944391 41.9451704528)</td>\n",
       "      <td>12</td>\n",
       "      <td>13</td>\n",
       "      <td>1</td>\n",
       "    </tr>\n",
       "    <tr>\n",
       "      <th>8</th>\n",
       "      <td>10d7a658f86940de9467bb578166fa86f9ead3c3</td>\n",
       "      <td>2018-12-07 22:30:00</td>\n",
       "      <td>2018-12-07 22:30:00</td>\n",
       "      <td>553.0</td>\n",
       "      <td>1.4</td>\n",
       "      <td>1.703108e+10</td>\n",
       "      <td>1.703108e+10</td>\n",
       "      <td>8.0</td>\n",
       "      <td>8.0</td>\n",
       "      <td>5.0</td>\n",
       "      <td>...</td>\n",
       "      <td>1</td>\n",
       "      <td>41.899156</td>\n",
       "      <td>-87.626211</td>\n",
       "      <td>POINT (-87.6262105324 41.8991556134)</td>\n",
       "      <td>41.893216</td>\n",
       "      <td>-87.637844</td>\n",
       "      <td>POINT (-87.6378442095 41.8932163595)</td>\n",
       "      <td>12</td>\n",
       "      <td>22</td>\n",
       "      <td>4</td>\n",
       "    </tr>\n",
       "  </tbody>\n",
       "</table>\n",
       "<p>5 rows × 24 columns</p>\n",
       "</div>"
      ],
      "text/plain": [
       "                                    Trip ID Trip Start Timestamp  \\\n",
       "3  10cda8e401a74790b1deb7a9de194bf526b28fcc  2019-01-14 04:15:00   \n",
       "4  10cfaf1cb74d19ac8e71937512b7b526df49cb2c  2018-11-05 00:30:00   \n",
       "6  10d3aa79da58b171bd396c8d7c3ba3c1bdf3b357  2019-03-07 14:30:00   \n",
       "7  10d5b9baaea513f4caf77d0d2f220e99d03d8fd8  2018-12-04 13:45:00   \n",
       "8  10d7a658f86940de9467bb578166fa86f9ead3c3  2018-12-07 22:30:00   \n",
       "\n",
       "   Trip End Timestamp  Trip Seconds  Trip Miles  Pickup Census Tract  \\\n",
       "3 2019-01-14 04:15:00         708.0         2.6         1.703184e+10   \n",
       "4 2018-11-05 00:45:00         539.0         1.9         1.703107e+10   \n",
       "6 2019-03-07 14:30:00         292.0         0.7         1.703108e+10   \n",
       "7 2018-12-04 14:00:00         635.0         2.6         1.703183e+10   \n",
       "8 2018-12-07 22:30:00         553.0         1.4         1.703108e+10   \n",
       "\n",
       "   Dropoff Census Tract  Pickup Community Area  Dropoff Community Area  Fare  \\\n",
       "3          1.703184e+10                   34.0                    31.0   7.5   \n",
       "4          1.703108e+10                    7.0                     8.0   5.0   \n",
       "6          1.703132e+10                    8.0                    32.0   2.5   \n",
       "7          1.703183e+10                    3.0                     6.0   7.5   \n",
       "8          1.703108e+10                    8.0                     8.0   5.0   \n",
       "\n",
       "     ...      Trips Pooled  Pickup Centroid Latitude  \\\n",
       "3    ...                 1                 41.851018   \n",
       "4    ...                 1                 41.914586   \n",
       "6    ...                 1                 41.895033   \n",
       "7    ...                 1                 41.958056   \n",
       "8    ...                 1                 41.899156   \n",
       "\n",
       "   Pickup Centroid Longitude              Pickup Centroid Location  \\\n",
       "3                 -87.635092  POINT (-87.6350918563 41.8510178239)   \n",
       "4                 -87.645966  POINT (-87.6459662069 41.9145857091)   \n",
       "6                 -87.619711  POINT (-87.6197106717 41.8950334495)   \n",
       "7                 -87.660389   POINT (-87.6603894557 41.958055933)   \n",
       "8                 -87.626211  POINT (-87.6262105324 41.8991556134)   \n",
       "\n",
       "   Dropoff Centroid Latitude  Dropoff Centroid Longitude  \\\n",
       "3                  41.847432                  -87.663529   \n",
       "4                  41.899156                  -87.626211   \n",
       "6                  41.884987                  -87.620993   \n",
       "7                  41.945170                  -87.668794   \n",
       "8                  41.893216                  -87.637844   \n",
       "\n",
       "              Dropoff Centroid Location month  hour  dayofweek  \n",
       "3  POINT (-87.6635286858 41.8474315472)     1     4          0  \n",
       "4  POINT (-87.6262105324 41.8991556134)    11     0          0  \n",
       "6  POINT (-87.6209929134 41.8849871918)     3    14          3  \n",
       "7  POINT (-87.6687944391 41.9451704528)    12    13          1  \n",
       "8  POINT (-87.6378442095 41.8932163595)    12    22          4  \n",
       "\n",
       "[5 rows x 24 columns]"
      ]
     },
     "execution_count": 53,
     "metadata": {},
     "output_type": "execute_result"
    }
   ],
   "source": [
    "df.head()"
   ]
  },
  {
   "cell_type": "markdown",
   "metadata": {},
   "source": [
    "Note that the dayofweek column starts with 0, which is a Monday."
   ]
  },
  {
   "cell_type": "markdown",
   "metadata": {},
   "source": [
    "##### Which day of the week has the most rides? The least rides?\n",
    "We can answer this question using a groupby as follows."
   ]
  },
  {
   "cell_type": "code",
   "execution_count": 54,
   "metadata": {},
   "outputs": [
    {
     "data": {
      "text/html": [
       "<div>\n",
       "<style scoped>\n",
       "    .dataframe tbody tr th:only-of-type {\n",
       "        vertical-align: middle;\n",
       "    }\n",
       "\n",
       "    .dataframe tbody tr th {\n",
       "        vertical-align: top;\n",
       "    }\n",
       "\n",
       "    .dataframe thead th {\n",
       "        text-align: right;\n",
       "    }\n",
       "</style>\n",
       "<table border=\"1\" class=\"dataframe\">\n",
       "  <thead>\n",
       "    <tr style=\"text-align: right;\">\n",
       "      <th></th>\n",
       "      <th>Trip ID</th>\n",
       "      <th>Trip Start Timestamp</th>\n",
       "      <th>Trip End Timestamp</th>\n",
       "      <th>Trip Seconds</th>\n",
       "      <th>Trip Miles</th>\n",
       "      <th>Pickup Census Tract</th>\n",
       "      <th>Dropoff Census Tract</th>\n",
       "      <th>Pickup Community Area</th>\n",
       "      <th>Dropoff Community Area</th>\n",
       "      <th>Fare</th>\n",
       "      <th>...</th>\n",
       "      <th>Shared Trip Authorized</th>\n",
       "      <th>Trips Pooled</th>\n",
       "      <th>Pickup Centroid Latitude</th>\n",
       "      <th>Pickup Centroid Longitude</th>\n",
       "      <th>Pickup Centroid Location</th>\n",
       "      <th>Dropoff Centroid Latitude</th>\n",
       "      <th>Dropoff Centroid Longitude</th>\n",
       "      <th>Dropoff Centroid Location</th>\n",
       "      <th>month</th>\n",
       "      <th>hour</th>\n",
       "    </tr>\n",
       "    <tr>\n",
       "      <th>dayofweek</th>\n",
       "      <th></th>\n",
       "      <th></th>\n",
       "      <th></th>\n",
       "      <th></th>\n",
       "      <th></th>\n",
       "      <th></th>\n",
       "      <th></th>\n",
       "      <th></th>\n",
       "      <th></th>\n",
       "      <th></th>\n",
       "      <th></th>\n",
       "      <th></th>\n",
       "      <th></th>\n",
       "      <th></th>\n",
       "      <th></th>\n",
       "      <th></th>\n",
       "      <th></th>\n",
       "      <th></th>\n",
       "      <th></th>\n",
       "      <th></th>\n",
       "      <th></th>\n",
       "    </tr>\n",
       "  </thead>\n",
       "  <tbody>\n",
       "    <tr>\n",
       "      <th>0</th>\n",
       "      <td>3223</td>\n",
       "      <td>3223</td>\n",
       "      <td>3223</td>\n",
       "      <td>3223</td>\n",
       "      <td>3223</td>\n",
       "      <td>3223</td>\n",
       "      <td>3223</td>\n",
       "      <td>3223</td>\n",
       "      <td>3223</td>\n",
       "      <td>3223</td>\n",
       "      <td>...</td>\n",
       "      <td>3223</td>\n",
       "      <td>3223</td>\n",
       "      <td>3223</td>\n",
       "      <td>3223</td>\n",
       "      <td>3223</td>\n",
       "      <td>3223</td>\n",
       "      <td>3223</td>\n",
       "      <td>3223</td>\n",
       "      <td>3223</td>\n",
       "      <td>3223</td>\n",
       "    </tr>\n",
       "    <tr>\n",
       "      <th>1</th>\n",
       "      <td>3624</td>\n",
       "      <td>3624</td>\n",
       "      <td>3624</td>\n",
       "      <td>3624</td>\n",
       "      <td>3624</td>\n",
       "      <td>3624</td>\n",
       "      <td>3624</td>\n",
       "      <td>3624</td>\n",
       "      <td>3624</td>\n",
       "      <td>3624</td>\n",
       "      <td>...</td>\n",
       "      <td>3624</td>\n",
       "      <td>3624</td>\n",
       "      <td>3624</td>\n",
       "      <td>3624</td>\n",
       "      <td>3624</td>\n",
       "      <td>3624</td>\n",
       "      <td>3624</td>\n",
       "      <td>3624</td>\n",
       "      <td>3624</td>\n",
       "      <td>3624</td>\n",
       "    </tr>\n",
       "    <tr>\n",
       "      <th>2</th>\n",
       "      <td>3679</td>\n",
       "      <td>3679</td>\n",
       "      <td>3679</td>\n",
       "      <td>3679</td>\n",
       "      <td>3679</td>\n",
       "      <td>3679</td>\n",
       "      <td>3679</td>\n",
       "      <td>3679</td>\n",
       "      <td>3679</td>\n",
       "      <td>3679</td>\n",
       "      <td>...</td>\n",
       "      <td>3679</td>\n",
       "      <td>3679</td>\n",
       "      <td>3679</td>\n",
       "      <td>3679</td>\n",
       "      <td>3679</td>\n",
       "      <td>3679</td>\n",
       "      <td>3679</td>\n",
       "      <td>3679</td>\n",
       "      <td>3679</td>\n",
       "      <td>3679</td>\n",
       "    </tr>\n",
       "    <tr>\n",
       "      <th>3</th>\n",
       "      <td>4422</td>\n",
       "      <td>4422</td>\n",
       "      <td>4422</td>\n",
       "      <td>4422</td>\n",
       "      <td>4422</td>\n",
       "      <td>4422</td>\n",
       "      <td>4422</td>\n",
       "      <td>4422</td>\n",
       "      <td>4422</td>\n",
       "      <td>4422</td>\n",
       "      <td>...</td>\n",
       "      <td>4422</td>\n",
       "      <td>4422</td>\n",
       "      <td>4422</td>\n",
       "      <td>4422</td>\n",
       "      <td>4422</td>\n",
       "      <td>4422</td>\n",
       "      <td>4422</td>\n",
       "      <td>4422</td>\n",
       "      <td>4422</td>\n",
       "      <td>4422</td>\n",
       "    </tr>\n",
       "    <tr>\n",
       "      <th>4</th>\n",
       "      <td>5589</td>\n",
       "      <td>5589</td>\n",
       "      <td>5589</td>\n",
       "      <td>5589</td>\n",
       "      <td>5589</td>\n",
       "      <td>5589</td>\n",
       "      <td>5589</td>\n",
       "      <td>5589</td>\n",
       "      <td>5589</td>\n",
       "      <td>5589</td>\n",
       "      <td>...</td>\n",
       "      <td>5589</td>\n",
       "      <td>5589</td>\n",
       "      <td>5589</td>\n",
       "      <td>5589</td>\n",
       "      <td>5589</td>\n",
       "      <td>5589</td>\n",
       "      <td>5589</td>\n",
       "      <td>5589</td>\n",
       "      <td>5589</td>\n",
       "      <td>5589</td>\n",
       "    </tr>\n",
       "    <tr>\n",
       "      <th>5</th>\n",
       "      <td>6067</td>\n",
       "      <td>6067</td>\n",
       "      <td>6067</td>\n",
       "      <td>6067</td>\n",
       "      <td>6067</td>\n",
       "      <td>6067</td>\n",
       "      <td>6067</td>\n",
       "      <td>6067</td>\n",
       "      <td>6067</td>\n",
       "      <td>6067</td>\n",
       "      <td>...</td>\n",
       "      <td>6067</td>\n",
       "      <td>6067</td>\n",
       "      <td>6067</td>\n",
       "      <td>6067</td>\n",
       "      <td>6067</td>\n",
       "      <td>6067</td>\n",
       "      <td>6067</td>\n",
       "      <td>6067</td>\n",
       "      <td>6067</td>\n",
       "      <td>6067</td>\n",
       "    </tr>\n",
       "    <tr>\n",
       "      <th>6</th>\n",
       "      <td>4200</td>\n",
       "      <td>4200</td>\n",
       "      <td>4200</td>\n",
       "      <td>4200</td>\n",
       "      <td>4200</td>\n",
       "      <td>4200</td>\n",
       "      <td>4200</td>\n",
       "      <td>4200</td>\n",
       "      <td>4200</td>\n",
       "      <td>4200</td>\n",
       "      <td>...</td>\n",
       "      <td>4200</td>\n",
       "      <td>4200</td>\n",
       "      <td>4200</td>\n",
       "      <td>4200</td>\n",
       "      <td>4200</td>\n",
       "      <td>4200</td>\n",
       "      <td>4200</td>\n",
       "      <td>4200</td>\n",
       "      <td>4200</td>\n",
       "      <td>4200</td>\n",
       "    </tr>\n",
       "  </tbody>\n",
       "</table>\n",
       "<p>7 rows × 23 columns</p>\n",
       "</div>"
      ],
      "text/plain": [
       "           Trip ID  Trip Start Timestamp  Trip End Timestamp  Trip Seconds  \\\n",
       "dayofweek                                                                    \n",
       "0             3223                  3223                3223          3223   \n",
       "1             3624                  3624                3624          3624   \n",
       "2             3679                  3679                3679          3679   \n",
       "3             4422                  4422                4422          4422   \n",
       "4             5589                  5589                5589          5589   \n",
       "5             6067                  6067                6067          6067   \n",
       "6             4200                  4200                4200          4200   \n",
       "\n",
       "           Trip Miles  Pickup Census Tract  Dropoff Census Tract  \\\n",
       "dayofweek                                                          \n",
       "0                3223                 3223                  3223   \n",
       "1                3624                 3624                  3624   \n",
       "2                3679                 3679                  3679   \n",
       "3                4422                 4422                  4422   \n",
       "4                5589                 5589                  5589   \n",
       "5                6067                 6067                  6067   \n",
       "6                4200                 4200                  4200   \n",
       "\n",
       "           Pickup Community Area  Dropoff Community Area  Fare  ...   \\\n",
       "dayofweek                                                       ...    \n",
       "0                           3223                    3223  3223  ...    \n",
       "1                           3624                    3624  3624  ...    \n",
       "2                           3679                    3679  3679  ...    \n",
       "3                           4422                    4422  4422  ...    \n",
       "4                           5589                    5589  5589  ...    \n",
       "5                           6067                    6067  6067  ...    \n",
       "6                           4200                    4200  4200  ...    \n",
       "\n",
       "           Shared Trip Authorized  Trips Pooled  Pickup Centroid Latitude  \\\n",
       "dayofweek                                                                   \n",
       "0                            3223          3223                      3223   \n",
       "1                            3624          3624                      3624   \n",
       "2                            3679          3679                      3679   \n",
       "3                            4422          4422                      4422   \n",
       "4                            5589          5589                      5589   \n",
       "5                            6067          6067                      6067   \n",
       "6                            4200          4200                      4200   \n",
       "\n",
       "           Pickup Centroid Longitude  Pickup Centroid Location  \\\n",
       "dayofweek                                                        \n",
       "0                               3223                      3223   \n",
       "1                               3624                      3624   \n",
       "2                               3679                      3679   \n",
       "3                               4422                      4422   \n",
       "4                               5589                      5589   \n",
       "5                               6067                      6067   \n",
       "6                               4200                      4200   \n",
       "\n",
       "           Dropoff Centroid Latitude  Dropoff Centroid Longitude  \\\n",
       "dayofweek                                                          \n",
       "0                               3223                        3223   \n",
       "1                               3624                        3624   \n",
       "2                               3679                        3679   \n",
       "3                               4422                        4422   \n",
       "4                               5589                        5589   \n",
       "5                               6067                        6067   \n",
       "6                               4200                        4200   \n",
       "\n",
       "           Dropoff Centroid Location  month  hour  \n",
       "dayofweek                                          \n",
       "0                               3223   3223  3223  \n",
       "1                               3624   3624  3624  \n",
       "2                               3679   3679  3679  \n",
       "3                               4422   4422  4422  \n",
       "4                               5589   5589  5589  \n",
       "5                               6067   6067  6067  \n",
       "6                               4200   4200  4200  \n",
       "\n",
       "[7 rows x 23 columns]"
      ]
     },
     "execution_count": 54,
     "metadata": {},
     "output_type": "execute_result"
    }
   ],
   "source": [
    "df.groupby(['dayofweek']).count()"
   ]
  },
  {
   "cell_type": "markdown",
   "metadata": {},
   "source": [
    "Most rides are on a Saturday, and the least rides are on a Monday."
   ]
  },
  {
   "cell_type": "markdown",
   "metadata": {},
   "source": [
    "##### What are the most popular times to get a ride?\n",
    "Use a groupby in the next cell. Answer the question directly in the cell that follows. "
   ]
  },
  {
   "cell_type": "code",
   "execution_count": 55,
   "metadata": {},
   "outputs": [
    {
     "data": {
      "text/html": [
       "<div>\n",
       "<style scoped>\n",
       "    .dataframe tbody tr th:only-of-type {\n",
       "        vertical-align: middle;\n",
       "    }\n",
       "\n",
       "    .dataframe tbody tr th {\n",
       "        vertical-align: top;\n",
       "    }\n",
       "\n",
       "    .dataframe thead th {\n",
       "        text-align: right;\n",
       "    }\n",
       "</style>\n",
       "<table border=\"1\" class=\"dataframe\">\n",
       "  <thead>\n",
       "    <tr style=\"text-align: right;\">\n",
       "      <th></th>\n",
       "      <th>Trip ID</th>\n",
       "      <th>Trip Start Timestamp</th>\n",
       "      <th>Trip End Timestamp</th>\n",
       "      <th>Trip Seconds</th>\n",
       "      <th>Trip Miles</th>\n",
       "      <th>Pickup Census Tract</th>\n",
       "      <th>Dropoff Census Tract</th>\n",
       "      <th>Pickup Community Area</th>\n",
       "      <th>Dropoff Community Area</th>\n",
       "      <th>Fare</th>\n",
       "      <th>...</th>\n",
       "      <th>Shared Trip Authorized</th>\n",
       "      <th>Trips Pooled</th>\n",
       "      <th>Pickup Centroid Latitude</th>\n",
       "      <th>Pickup Centroid Longitude</th>\n",
       "      <th>Pickup Centroid Location</th>\n",
       "      <th>Dropoff Centroid Latitude</th>\n",
       "      <th>Dropoff Centroid Longitude</th>\n",
       "      <th>Dropoff Centroid Location</th>\n",
       "      <th>month</th>\n",
       "      <th>dayofweek</th>\n",
       "    </tr>\n",
       "    <tr>\n",
       "      <th>hour</th>\n",
       "      <th></th>\n",
       "      <th></th>\n",
       "      <th></th>\n",
       "      <th></th>\n",
       "      <th></th>\n",
       "      <th></th>\n",
       "      <th></th>\n",
       "      <th></th>\n",
       "      <th></th>\n",
       "      <th></th>\n",
       "      <th></th>\n",
       "      <th></th>\n",
       "      <th></th>\n",
       "      <th></th>\n",
       "      <th></th>\n",
       "      <th></th>\n",
       "      <th></th>\n",
       "      <th></th>\n",
       "      <th></th>\n",
       "      <th></th>\n",
       "      <th></th>\n",
       "    </tr>\n",
       "  </thead>\n",
       "  <tbody>\n",
       "    <tr>\n",
       "      <th>0</th>\n",
       "      <td>904</td>\n",
       "      <td>904</td>\n",
       "      <td>904</td>\n",
       "      <td>904</td>\n",
       "      <td>904</td>\n",
       "      <td>904</td>\n",
       "      <td>904</td>\n",
       "      <td>904</td>\n",
       "      <td>904</td>\n",
       "      <td>904</td>\n",
       "      <td>...</td>\n",
       "      <td>904</td>\n",
       "      <td>904</td>\n",
       "      <td>904</td>\n",
       "      <td>904</td>\n",
       "      <td>904</td>\n",
       "      <td>904</td>\n",
       "      <td>904</td>\n",
       "      <td>904</td>\n",
       "      <td>904</td>\n",
       "      <td>904</td>\n",
       "    </tr>\n",
       "    <tr>\n",
       "      <th>1</th>\n",
       "      <td>652</td>\n",
       "      <td>652</td>\n",
       "      <td>652</td>\n",
       "      <td>652</td>\n",
       "      <td>652</td>\n",
       "      <td>652</td>\n",
       "      <td>652</td>\n",
       "      <td>652</td>\n",
       "      <td>652</td>\n",
       "      <td>652</td>\n",
       "      <td>...</td>\n",
       "      <td>652</td>\n",
       "      <td>652</td>\n",
       "      <td>652</td>\n",
       "      <td>652</td>\n",
       "      <td>652</td>\n",
       "      <td>652</td>\n",
       "      <td>652</td>\n",
       "      <td>652</td>\n",
       "      <td>652</td>\n",
       "      <td>652</td>\n",
       "    </tr>\n",
       "    <tr>\n",
       "      <th>2</th>\n",
       "      <td>404</td>\n",
       "      <td>404</td>\n",
       "      <td>404</td>\n",
       "      <td>404</td>\n",
       "      <td>404</td>\n",
       "      <td>404</td>\n",
       "      <td>404</td>\n",
       "      <td>404</td>\n",
       "      <td>404</td>\n",
       "      <td>404</td>\n",
       "      <td>...</td>\n",
       "      <td>404</td>\n",
       "      <td>404</td>\n",
       "      <td>404</td>\n",
       "      <td>404</td>\n",
       "      <td>404</td>\n",
       "      <td>404</td>\n",
       "      <td>404</td>\n",
       "      <td>404</td>\n",
       "      <td>404</td>\n",
       "      <td>404</td>\n",
       "    </tr>\n",
       "    <tr>\n",
       "      <th>3</th>\n",
       "      <td>204</td>\n",
       "      <td>204</td>\n",
       "      <td>204</td>\n",
       "      <td>204</td>\n",
       "      <td>204</td>\n",
       "      <td>204</td>\n",
       "      <td>204</td>\n",
       "      <td>204</td>\n",
       "      <td>204</td>\n",
       "      <td>204</td>\n",
       "      <td>...</td>\n",
       "      <td>204</td>\n",
       "      <td>204</td>\n",
       "      <td>204</td>\n",
       "      <td>204</td>\n",
       "      <td>204</td>\n",
       "      <td>204</td>\n",
       "      <td>204</td>\n",
       "      <td>204</td>\n",
       "      <td>204</td>\n",
       "      <td>204</td>\n",
       "    </tr>\n",
       "    <tr>\n",
       "      <th>4</th>\n",
       "      <td>140</td>\n",
       "      <td>140</td>\n",
       "      <td>140</td>\n",
       "      <td>140</td>\n",
       "      <td>140</td>\n",
       "      <td>140</td>\n",
       "      <td>140</td>\n",
       "      <td>140</td>\n",
       "      <td>140</td>\n",
       "      <td>140</td>\n",
       "      <td>...</td>\n",
       "      <td>140</td>\n",
       "      <td>140</td>\n",
       "      <td>140</td>\n",
       "      <td>140</td>\n",
       "      <td>140</td>\n",
       "      <td>140</td>\n",
       "      <td>140</td>\n",
       "      <td>140</td>\n",
       "      <td>140</td>\n",
       "      <td>140</td>\n",
       "    </tr>\n",
       "    <tr>\n",
       "      <th>5</th>\n",
       "      <td>203</td>\n",
       "      <td>203</td>\n",
       "      <td>203</td>\n",
       "      <td>203</td>\n",
       "      <td>203</td>\n",
       "      <td>203</td>\n",
       "      <td>203</td>\n",
       "      <td>203</td>\n",
       "      <td>203</td>\n",
       "      <td>203</td>\n",
       "      <td>...</td>\n",
       "      <td>203</td>\n",
       "      <td>203</td>\n",
       "      <td>203</td>\n",
       "      <td>203</td>\n",
       "      <td>203</td>\n",
       "      <td>203</td>\n",
       "      <td>203</td>\n",
       "      <td>203</td>\n",
       "      <td>203</td>\n",
       "      <td>203</td>\n",
       "    </tr>\n",
       "    <tr>\n",
       "      <th>6</th>\n",
       "      <td>559</td>\n",
       "      <td>559</td>\n",
       "      <td>559</td>\n",
       "      <td>559</td>\n",
       "      <td>559</td>\n",
       "      <td>559</td>\n",
       "      <td>559</td>\n",
       "      <td>559</td>\n",
       "      <td>559</td>\n",
       "      <td>559</td>\n",
       "      <td>...</td>\n",
       "      <td>559</td>\n",
       "      <td>559</td>\n",
       "      <td>559</td>\n",
       "      <td>559</td>\n",
       "      <td>559</td>\n",
       "      <td>559</td>\n",
       "      <td>559</td>\n",
       "      <td>559</td>\n",
       "      <td>559</td>\n",
       "      <td>559</td>\n",
       "    </tr>\n",
       "    <tr>\n",
       "      <th>7</th>\n",
       "      <td>1183</td>\n",
       "      <td>1183</td>\n",
       "      <td>1183</td>\n",
       "      <td>1183</td>\n",
       "      <td>1183</td>\n",
       "      <td>1183</td>\n",
       "      <td>1183</td>\n",
       "      <td>1183</td>\n",
       "      <td>1183</td>\n",
       "      <td>1183</td>\n",
       "      <td>...</td>\n",
       "      <td>1183</td>\n",
       "      <td>1183</td>\n",
       "      <td>1183</td>\n",
       "      <td>1183</td>\n",
       "      <td>1183</td>\n",
       "      <td>1183</td>\n",
       "      <td>1183</td>\n",
       "      <td>1183</td>\n",
       "      <td>1183</td>\n",
       "      <td>1183</td>\n",
       "    </tr>\n",
       "    <tr>\n",
       "      <th>8</th>\n",
       "      <td>1629</td>\n",
       "      <td>1629</td>\n",
       "      <td>1629</td>\n",
       "      <td>1629</td>\n",
       "      <td>1629</td>\n",
       "      <td>1629</td>\n",
       "      <td>1629</td>\n",
       "      <td>1629</td>\n",
       "      <td>1629</td>\n",
       "      <td>1629</td>\n",
       "      <td>...</td>\n",
       "      <td>1629</td>\n",
       "      <td>1629</td>\n",
       "      <td>1629</td>\n",
       "      <td>1629</td>\n",
       "      <td>1629</td>\n",
       "      <td>1629</td>\n",
       "      <td>1629</td>\n",
       "      <td>1629</td>\n",
       "      <td>1629</td>\n",
       "      <td>1629</td>\n",
       "    </tr>\n",
       "    <tr>\n",
       "      <th>9</th>\n",
       "      <td>1454</td>\n",
       "      <td>1454</td>\n",
       "      <td>1454</td>\n",
       "      <td>1454</td>\n",
       "      <td>1454</td>\n",
       "      <td>1454</td>\n",
       "      <td>1454</td>\n",
       "      <td>1454</td>\n",
       "      <td>1454</td>\n",
       "      <td>1454</td>\n",
       "      <td>...</td>\n",
       "      <td>1454</td>\n",
       "      <td>1454</td>\n",
       "      <td>1454</td>\n",
       "      <td>1454</td>\n",
       "      <td>1454</td>\n",
       "      <td>1454</td>\n",
       "      <td>1454</td>\n",
       "      <td>1454</td>\n",
       "      <td>1454</td>\n",
       "      <td>1454</td>\n",
       "    </tr>\n",
       "    <tr>\n",
       "      <th>10</th>\n",
       "      <td>1229</td>\n",
       "      <td>1229</td>\n",
       "      <td>1229</td>\n",
       "      <td>1229</td>\n",
       "      <td>1229</td>\n",
       "      <td>1229</td>\n",
       "      <td>1229</td>\n",
       "      <td>1229</td>\n",
       "      <td>1229</td>\n",
       "      <td>1229</td>\n",
       "      <td>...</td>\n",
       "      <td>1229</td>\n",
       "      <td>1229</td>\n",
       "      <td>1229</td>\n",
       "      <td>1229</td>\n",
       "      <td>1229</td>\n",
       "      <td>1229</td>\n",
       "      <td>1229</td>\n",
       "      <td>1229</td>\n",
       "      <td>1229</td>\n",
       "      <td>1229</td>\n",
       "    </tr>\n",
       "    <tr>\n",
       "      <th>11</th>\n",
       "      <td>1259</td>\n",
       "      <td>1259</td>\n",
       "      <td>1259</td>\n",
       "      <td>1259</td>\n",
       "      <td>1259</td>\n",
       "      <td>1259</td>\n",
       "      <td>1259</td>\n",
       "      <td>1259</td>\n",
       "      <td>1259</td>\n",
       "      <td>1259</td>\n",
       "      <td>...</td>\n",
       "      <td>1259</td>\n",
       "      <td>1259</td>\n",
       "      <td>1259</td>\n",
       "      <td>1259</td>\n",
       "      <td>1259</td>\n",
       "      <td>1259</td>\n",
       "      <td>1259</td>\n",
       "      <td>1259</td>\n",
       "      <td>1259</td>\n",
       "      <td>1259</td>\n",
       "    </tr>\n",
       "    <tr>\n",
       "      <th>12</th>\n",
       "      <td>1337</td>\n",
       "      <td>1337</td>\n",
       "      <td>1337</td>\n",
       "      <td>1337</td>\n",
       "      <td>1337</td>\n",
       "      <td>1337</td>\n",
       "      <td>1337</td>\n",
       "      <td>1337</td>\n",
       "      <td>1337</td>\n",
       "      <td>1337</td>\n",
       "      <td>...</td>\n",
       "      <td>1337</td>\n",
       "      <td>1337</td>\n",
       "      <td>1337</td>\n",
       "      <td>1337</td>\n",
       "      <td>1337</td>\n",
       "      <td>1337</td>\n",
       "      <td>1337</td>\n",
       "      <td>1337</td>\n",
       "      <td>1337</td>\n",
       "      <td>1337</td>\n",
       "    </tr>\n",
       "    <tr>\n",
       "      <th>13</th>\n",
       "      <td>1244</td>\n",
       "      <td>1244</td>\n",
       "      <td>1244</td>\n",
       "      <td>1244</td>\n",
       "      <td>1244</td>\n",
       "      <td>1244</td>\n",
       "      <td>1244</td>\n",
       "      <td>1244</td>\n",
       "      <td>1244</td>\n",
       "      <td>1244</td>\n",
       "      <td>...</td>\n",
       "      <td>1244</td>\n",
       "      <td>1244</td>\n",
       "      <td>1244</td>\n",
       "      <td>1244</td>\n",
       "      <td>1244</td>\n",
       "      <td>1244</td>\n",
       "      <td>1244</td>\n",
       "      <td>1244</td>\n",
       "      <td>1244</td>\n",
       "      <td>1244</td>\n",
       "    </tr>\n",
       "    <tr>\n",
       "      <th>14</th>\n",
       "      <td>1336</td>\n",
       "      <td>1336</td>\n",
       "      <td>1336</td>\n",
       "      <td>1336</td>\n",
       "      <td>1336</td>\n",
       "      <td>1336</td>\n",
       "      <td>1336</td>\n",
       "      <td>1336</td>\n",
       "      <td>1336</td>\n",
       "      <td>1336</td>\n",
       "      <td>...</td>\n",
       "      <td>1336</td>\n",
       "      <td>1336</td>\n",
       "      <td>1336</td>\n",
       "      <td>1336</td>\n",
       "      <td>1336</td>\n",
       "      <td>1336</td>\n",
       "      <td>1336</td>\n",
       "      <td>1336</td>\n",
       "      <td>1336</td>\n",
       "      <td>1336</td>\n",
       "    </tr>\n",
       "    <tr>\n",
       "      <th>15</th>\n",
       "      <td>1510</td>\n",
       "      <td>1510</td>\n",
       "      <td>1510</td>\n",
       "      <td>1510</td>\n",
       "      <td>1510</td>\n",
       "      <td>1510</td>\n",
       "      <td>1510</td>\n",
       "      <td>1510</td>\n",
       "      <td>1510</td>\n",
       "      <td>1510</td>\n",
       "      <td>...</td>\n",
       "      <td>1510</td>\n",
       "      <td>1510</td>\n",
       "      <td>1510</td>\n",
       "      <td>1510</td>\n",
       "      <td>1510</td>\n",
       "      <td>1510</td>\n",
       "      <td>1510</td>\n",
       "      <td>1510</td>\n",
       "      <td>1510</td>\n",
       "      <td>1510</td>\n",
       "    </tr>\n",
       "    <tr>\n",
       "      <th>16</th>\n",
       "      <td>1754</td>\n",
       "      <td>1754</td>\n",
       "      <td>1754</td>\n",
       "      <td>1754</td>\n",
       "      <td>1754</td>\n",
       "      <td>1754</td>\n",
       "      <td>1754</td>\n",
       "      <td>1754</td>\n",
       "      <td>1754</td>\n",
       "      <td>1754</td>\n",
       "      <td>...</td>\n",
       "      <td>1754</td>\n",
       "      <td>1754</td>\n",
       "      <td>1754</td>\n",
       "      <td>1754</td>\n",
       "      <td>1754</td>\n",
       "      <td>1754</td>\n",
       "      <td>1754</td>\n",
       "      <td>1754</td>\n",
       "      <td>1754</td>\n",
       "      <td>1754</td>\n",
       "    </tr>\n",
       "    <tr>\n",
       "      <th>17</th>\n",
       "      <td>2263</td>\n",
       "      <td>2263</td>\n",
       "      <td>2263</td>\n",
       "      <td>2263</td>\n",
       "      <td>2263</td>\n",
       "      <td>2263</td>\n",
       "      <td>2263</td>\n",
       "      <td>2263</td>\n",
       "      <td>2263</td>\n",
       "      <td>2263</td>\n",
       "      <td>...</td>\n",
       "      <td>2263</td>\n",
       "      <td>2263</td>\n",
       "      <td>2263</td>\n",
       "      <td>2263</td>\n",
       "      <td>2263</td>\n",
       "      <td>2263</td>\n",
       "      <td>2263</td>\n",
       "      <td>2263</td>\n",
       "      <td>2263</td>\n",
       "      <td>2263</td>\n",
       "    </tr>\n",
       "    <tr>\n",
       "      <th>18</th>\n",
       "      <td>2471</td>\n",
       "      <td>2471</td>\n",
       "      <td>2471</td>\n",
       "      <td>2471</td>\n",
       "      <td>2471</td>\n",
       "      <td>2471</td>\n",
       "      <td>2471</td>\n",
       "      <td>2471</td>\n",
       "      <td>2471</td>\n",
       "      <td>2471</td>\n",
       "      <td>...</td>\n",
       "      <td>2471</td>\n",
       "      <td>2471</td>\n",
       "      <td>2471</td>\n",
       "      <td>2471</td>\n",
       "      <td>2471</td>\n",
       "      <td>2471</td>\n",
       "      <td>2471</td>\n",
       "      <td>2471</td>\n",
       "      <td>2471</td>\n",
       "      <td>2471</td>\n",
       "    </tr>\n",
       "    <tr>\n",
       "      <th>19</th>\n",
       "      <td>2280</td>\n",
       "      <td>2280</td>\n",
       "      <td>2280</td>\n",
       "      <td>2280</td>\n",
       "      <td>2280</td>\n",
       "      <td>2280</td>\n",
       "      <td>2280</td>\n",
       "      <td>2280</td>\n",
       "      <td>2280</td>\n",
       "      <td>2280</td>\n",
       "      <td>...</td>\n",
       "      <td>2280</td>\n",
       "      <td>2280</td>\n",
       "      <td>2280</td>\n",
       "      <td>2280</td>\n",
       "      <td>2280</td>\n",
       "      <td>2280</td>\n",
       "      <td>2280</td>\n",
       "      <td>2280</td>\n",
       "      <td>2280</td>\n",
       "      <td>2280</td>\n",
       "    </tr>\n",
       "    <tr>\n",
       "      <th>20</th>\n",
       "      <td>1916</td>\n",
       "      <td>1916</td>\n",
       "      <td>1916</td>\n",
       "      <td>1916</td>\n",
       "      <td>1916</td>\n",
       "      <td>1916</td>\n",
       "      <td>1916</td>\n",
       "      <td>1916</td>\n",
       "      <td>1916</td>\n",
       "      <td>1916</td>\n",
       "      <td>...</td>\n",
       "      <td>1916</td>\n",
       "      <td>1916</td>\n",
       "      <td>1916</td>\n",
       "      <td>1916</td>\n",
       "      <td>1916</td>\n",
       "      <td>1916</td>\n",
       "      <td>1916</td>\n",
       "      <td>1916</td>\n",
       "      <td>1916</td>\n",
       "      <td>1916</td>\n",
       "    </tr>\n",
       "    <tr>\n",
       "      <th>21</th>\n",
       "      <td>1817</td>\n",
       "      <td>1817</td>\n",
       "      <td>1817</td>\n",
       "      <td>1817</td>\n",
       "      <td>1817</td>\n",
       "      <td>1817</td>\n",
       "      <td>1817</td>\n",
       "      <td>1817</td>\n",
       "      <td>1817</td>\n",
       "      <td>1817</td>\n",
       "      <td>...</td>\n",
       "      <td>1817</td>\n",
       "      <td>1817</td>\n",
       "      <td>1817</td>\n",
       "      <td>1817</td>\n",
       "      <td>1817</td>\n",
       "      <td>1817</td>\n",
       "      <td>1817</td>\n",
       "      <td>1817</td>\n",
       "      <td>1817</td>\n",
       "      <td>1817</td>\n",
       "    </tr>\n",
       "    <tr>\n",
       "      <th>22</th>\n",
       "      <td>1727</td>\n",
       "      <td>1727</td>\n",
       "      <td>1727</td>\n",
       "      <td>1727</td>\n",
       "      <td>1727</td>\n",
       "      <td>1727</td>\n",
       "      <td>1727</td>\n",
       "      <td>1727</td>\n",
       "      <td>1727</td>\n",
       "      <td>1727</td>\n",
       "      <td>...</td>\n",
       "      <td>1727</td>\n",
       "      <td>1727</td>\n",
       "      <td>1727</td>\n",
       "      <td>1727</td>\n",
       "      <td>1727</td>\n",
       "      <td>1727</td>\n",
       "      <td>1727</td>\n",
       "      <td>1727</td>\n",
       "      <td>1727</td>\n",
       "      <td>1727</td>\n",
       "    </tr>\n",
       "    <tr>\n",
       "      <th>23</th>\n",
       "      <td>1329</td>\n",
       "      <td>1329</td>\n",
       "      <td>1329</td>\n",
       "      <td>1329</td>\n",
       "      <td>1329</td>\n",
       "      <td>1329</td>\n",
       "      <td>1329</td>\n",
       "      <td>1329</td>\n",
       "      <td>1329</td>\n",
       "      <td>1329</td>\n",
       "      <td>...</td>\n",
       "      <td>1329</td>\n",
       "      <td>1329</td>\n",
       "      <td>1329</td>\n",
       "      <td>1329</td>\n",
       "      <td>1329</td>\n",
       "      <td>1329</td>\n",
       "      <td>1329</td>\n",
       "      <td>1329</td>\n",
       "      <td>1329</td>\n",
       "      <td>1329</td>\n",
       "    </tr>\n",
       "  </tbody>\n",
       "</table>\n",
       "<p>24 rows × 23 columns</p>\n",
       "</div>"
      ],
      "text/plain": [
       "      Trip ID  Trip Start Timestamp  Trip End Timestamp  Trip Seconds  \\\n",
       "hour                                                                    \n",
       "0         904                   904                 904           904   \n",
       "1         652                   652                 652           652   \n",
       "2         404                   404                 404           404   \n",
       "3         204                   204                 204           204   \n",
       "4         140                   140                 140           140   \n",
       "5         203                   203                 203           203   \n",
       "6         559                   559                 559           559   \n",
       "7        1183                  1183                1183          1183   \n",
       "8        1629                  1629                1629          1629   \n",
       "9        1454                  1454                1454          1454   \n",
       "10       1229                  1229                1229          1229   \n",
       "11       1259                  1259                1259          1259   \n",
       "12       1337                  1337                1337          1337   \n",
       "13       1244                  1244                1244          1244   \n",
       "14       1336                  1336                1336          1336   \n",
       "15       1510                  1510                1510          1510   \n",
       "16       1754                  1754                1754          1754   \n",
       "17       2263                  2263                2263          2263   \n",
       "18       2471                  2471                2471          2471   \n",
       "19       2280                  2280                2280          2280   \n",
       "20       1916                  1916                1916          1916   \n",
       "21       1817                  1817                1817          1817   \n",
       "22       1727                  1727                1727          1727   \n",
       "23       1329                  1329                1329          1329   \n",
       "\n",
       "      Trip Miles  Pickup Census Tract  Dropoff Census Tract  \\\n",
       "hour                                                          \n",
       "0            904                  904                   904   \n",
       "1            652                  652                   652   \n",
       "2            404                  404                   404   \n",
       "3            204                  204                   204   \n",
       "4            140                  140                   140   \n",
       "5            203                  203                   203   \n",
       "6            559                  559                   559   \n",
       "7           1183                 1183                  1183   \n",
       "8           1629                 1629                  1629   \n",
       "9           1454                 1454                  1454   \n",
       "10          1229                 1229                  1229   \n",
       "11          1259                 1259                  1259   \n",
       "12          1337                 1337                  1337   \n",
       "13          1244                 1244                  1244   \n",
       "14          1336                 1336                  1336   \n",
       "15          1510                 1510                  1510   \n",
       "16          1754                 1754                  1754   \n",
       "17          2263                 2263                  2263   \n",
       "18          2471                 2471                  2471   \n",
       "19          2280                 2280                  2280   \n",
       "20          1916                 1916                  1916   \n",
       "21          1817                 1817                  1817   \n",
       "22          1727                 1727                  1727   \n",
       "23          1329                 1329                  1329   \n",
       "\n",
       "      Pickup Community Area  Dropoff Community Area  Fare    ...      \\\n",
       "hour                                                         ...       \n",
       "0                       904                     904   904    ...       \n",
       "1                       652                     652   652    ...       \n",
       "2                       404                     404   404    ...       \n",
       "3                       204                     204   204    ...       \n",
       "4                       140                     140   140    ...       \n",
       "5                       203                     203   203    ...       \n",
       "6                       559                     559   559    ...       \n",
       "7                      1183                    1183  1183    ...       \n",
       "8                      1629                    1629  1629    ...       \n",
       "9                      1454                    1454  1454    ...       \n",
       "10                     1229                    1229  1229    ...       \n",
       "11                     1259                    1259  1259    ...       \n",
       "12                     1337                    1337  1337    ...       \n",
       "13                     1244                    1244  1244    ...       \n",
       "14                     1336                    1336  1336    ...       \n",
       "15                     1510                    1510  1510    ...       \n",
       "16                     1754                    1754  1754    ...       \n",
       "17                     2263                    2263  2263    ...       \n",
       "18                     2471                    2471  2471    ...       \n",
       "19                     2280                    2280  2280    ...       \n",
       "20                     1916                    1916  1916    ...       \n",
       "21                     1817                    1817  1817    ...       \n",
       "22                     1727                    1727  1727    ...       \n",
       "23                     1329                    1329  1329    ...       \n",
       "\n",
       "      Shared Trip Authorized  Trips Pooled  Pickup Centroid Latitude  \\\n",
       "hour                                                                   \n",
       "0                        904           904                       904   \n",
       "1                        652           652                       652   \n",
       "2                        404           404                       404   \n",
       "3                        204           204                       204   \n",
       "4                        140           140                       140   \n",
       "5                        203           203                       203   \n",
       "6                        559           559                       559   \n",
       "7                       1183          1183                      1183   \n",
       "8                       1629          1629                      1629   \n",
       "9                       1454          1454                      1454   \n",
       "10                      1229          1229                      1229   \n",
       "11                      1259          1259                      1259   \n",
       "12                      1337          1337                      1337   \n",
       "13                      1244          1244                      1244   \n",
       "14                      1336          1336                      1336   \n",
       "15                      1510          1510                      1510   \n",
       "16                      1754          1754                      1754   \n",
       "17                      2263          2263                      2263   \n",
       "18                      2471          2471                      2471   \n",
       "19                      2280          2280                      2280   \n",
       "20                      1916          1916                      1916   \n",
       "21                      1817          1817                      1817   \n",
       "22                      1727          1727                      1727   \n",
       "23                      1329          1329                      1329   \n",
       "\n",
       "      Pickup Centroid Longitude  Pickup Centroid Location  \\\n",
       "hour                                                        \n",
       "0                           904                       904   \n",
       "1                           652                       652   \n",
       "2                           404                       404   \n",
       "3                           204                       204   \n",
       "4                           140                       140   \n",
       "5                           203                       203   \n",
       "6                           559                       559   \n",
       "7                          1183                      1183   \n",
       "8                          1629                      1629   \n",
       "9                          1454                      1454   \n",
       "10                         1229                      1229   \n",
       "11                         1259                      1259   \n",
       "12                         1337                      1337   \n",
       "13                         1244                      1244   \n",
       "14                         1336                      1336   \n",
       "15                         1510                      1510   \n",
       "16                         1754                      1754   \n",
       "17                         2263                      2263   \n",
       "18                         2471                      2471   \n",
       "19                         2280                      2280   \n",
       "20                         1916                      1916   \n",
       "21                         1817                      1817   \n",
       "22                         1727                      1727   \n",
       "23                         1329                      1329   \n",
       "\n",
       "      Dropoff Centroid Latitude  Dropoff Centroid Longitude  \\\n",
       "hour                                                          \n",
       "0                           904                         904   \n",
       "1                           652                         652   \n",
       "2                           404                         404   \n",
       "3                           204                         204   \n",
       "4                           140                         140   \n",
       "5                           203                         203   \n",
       "6                           559                         559   \n",
       "7                          1183                        1183   \n",
       "8                          1629                        1629   \n",
       "9                          1454                        1454   \n",
       "10                         1229                        1229   \n",
       "11                         1259                        1259   \n",
       "12                         1337                        1337   \n",
       "13                         1244                        1244   \n",
       "14                         1336                        1336   \n",
       "15                         1510                        1510   \n",
       "16                         1754                        1754   \n",
       "17                         2263                        2263   \n",
       "18                         2471                        2471   \n",
       "19                         2280                        2280   \n",
       "20                         1916                        1916   \n",
       "21                         1817                        1817   \n",
       "22                         1727                        1727   \n",
       "23                         1329                        1329   \n",
       "\n",
       "      Dropoff Centroid Location  month  dayofweek  \n",
       "hour                                               \n",
       "0                           904    904        904  \n",
       "1                           652    652        652  \n",
       "2                           404    404        404  \n",
       "3                           204    204        204  \n",
       "4                           140    140        140  \n",
       "5                           203    203        203  \n",
       "6                           559    559        559  \n",
       "7                          1183   1183       1183  \n",
       "8                          1629   1629       1629  \n",
       "9                          1454   1454       1454  \n",
       "10                         1229   1229       1229  \n",
       "11                         1259   1259       1259  \n",
       "12                         1337   1337       1337  \n",
       "13                         1244   1244       1244  \n",
       "14                         1336   1336       1336  \n",
       "15                         1510   1510       1510  \n",
       "16                         1754   1754       1754  \n",
       "17                         2263   2263       2263  \n",
       "18                         2471   2471       2471  \n",
       "19                         2280   2280       2280  \n",
       "20                         1916   1916       1916  \n",
       "21                         1817   1817       1817  \n",
       "22                         1727   1727       1727  \n",
       "23                         1329   1329       1329  \n",
       "\n",
       "[24 rows x 23 columns]"
      ]
     },
     "execution_count": 55,
     "metadata": {},
     "output_type": "execute_result"
    }
   ],
   "source": [
    "df.groupby(['hour']).count()"
   ]
  },
  {
   "cell_type": "markdown",
   "metadata": {},
   "source": [
    "The most popular time is around 6pm (18). The least popular is 4am."
   ]
  },
  {
   "cell_type": "markdown",
   "metadata": {},
   "source": [
    "##### Create a histogram of df['hour'], then answer the following questions.\n",
    "1. Describe the data in terms of hours.\n",
    "2. What are the best time intervals to look for riders?"
   ]
  },
  {
   "cell_type": "code",
   "execution_count": 61,
   "metadata": {},
   "outputs": [
    {
     "data": {
      "image/png": "[encoded data removed]",
      "text/plain": [
       "<Figure size 720x504 with 1 Axes>"
      ]
     },
     "metadata": {},
     "output_type": "display_data"
    }
   ],
   "source": [
    "plt.figure(figsize=(10,7))\n",
    "plt.hist(df['hour'], bins=24)\n",
    "plt.title('Hourly Distribution of Rides')\n",
    "plt.xlabel('Hours')\n",
    "plt.ylabel('Frequency')\n",
    "plt.show()"
   ]
  },
  {
   "cell_type": "markdown",
   "metadata": {},
   "source": [
    "Rides start to pick up at around 7 in the morning with a mini-peak at 8am. Rides then level off from 10-2. They really pick up around 4pm, peaking at 6, before tapering off at 8. There are plenty of night rides before a sudden decline arond midnight. The best time to look for rides is 5-7pm, or 4-11pm."
   ]
  },
  {
   "cell_type": "markdown",
   "metadata": {},
   "source": [
    "The histogram above is periodic. This means that it does not start and stop, but it keeps going. Let's take a look at another periodic histogram, day of week."
   ]
  },
  {
   "cell_type": "markdown",
   "metadata": {},
   "source": [
    "##### Create a histogram of df['dayofweek'], then answer the following questions.\n",
    "1. What is the pattern of rides throughout the week? \n",
    "2. What is the best interval of days to look for riders?"
   ]
  },
  {
   "cell_type": "code",
   "execution_count": 60,
   "metadata": {},
   "outputs": [
    {
     "data": {
      "image/png": "[encoded data removed]",
      "text/plain": [
       "<Figure size 720x504 with 1 Axes>"
      ]
     },
     "metadata": {},
     "output_type": "display_data"
    }
   ],
   "source": [
    "plt.figure(figsize=(10,7))\n",
    "plt.hist(df['dayofweek'], bins=7)\n",
    "plt.title('Weekly Distribution of Rides')\n",
    "plt.xlabel('Day of Week: 0 = Mon.')\n",
    "plt.ylabel('Frequency')\n",
    "plt.show()"
   ]
  },
  {
   "cell_type": "markdown",
   "metadata": {},
   "source": [
    "Mon. is the slowest day, with ridership slightly increasing on Tues. and Wed. It picks up on Thurs. before peaking on Fri. and Sat. After the steady increase in rides, there is a sharp drop-off on Sunday. Thursday through Saturday are the best day to find riders."
   ]
  },
  {
   "cell_type": "markdown",
   "metadata": {},
   "source": [
    "##### Do riders tip more or less on average on certain days?\n",
    "Use a groupby with .mean() and find the 'Tip' column. "
   ]
  },
  {
   "cell_type": "code",
   "execution_count": 58,
   "metadata": {},
   "outputs": [
    {
     "data": {
      "text/html": [
       "<div>\n",
       "<style scoped>\n",
       "    .dataframe tbody tr th:only-of-type {\n",
       "        vertical-align: middle;\n",
       "    }\n",
       "\n",
       "    .dataframe tbody tr th {\n",
       "        vertical-align: top;\n",
       "    }\n",
       "\n",
       "    .dataframe thead th {\n",
       "        text-align: right;\n",
       "    }\n",
       "</style>\n",
       "<table border=\"1\" class=\"dataframe\">\n",
       "  <thead>\n",
       "    <tr style=\"text-align: right;\">\n",
       "      <th></th>\n",
       "      <th>Trip Seconds</th>\n",
       "      <th>Trip Miles</th>\n",
       "      <th>Pickup Census Tract</th>\n",
       "      <th>Dropoff Census Tract</th>\n",
       "      <th>Pickup Community Area</th>\n",
       "      <th>Dropoff Community Area</th>\n",
       "      <th>Fare</th>\n",
       "      <th>Tip</th>\n",
       "      <th>Additional Charges</th>\n",
       "      <th>Trip Total</th>\n",
       "      <th>Shared Trip Authorized</th>\n",
       "      <th>Trips Pooled</th>\n",
       "      <th>Pickup Centroid Latitude</th>\n",
       "      <th>Pickup Centroid Longitude</th>\n",
       "      <th>Dropoff Centroid Latitude</th>\n",
       "      <th>Dropoff Centroid Longitude</th>\n",
       "      <th>month</th>\n",
       "      <th>hour</th>\n",
       "    </tr>\n",
       "    <tr>\n",
       "      <th>dayofweek</th>\n",
       "      <th></th>\n",
       "      <th></th>\n",
       "      <th></th>\n",
       "      <th></th>\n",
       "      <th></th>\n",
       "      <th></th>\n",
       "      <th></th>\n",
       "      <th></th>\n",
       "      <th></th>\n",
       "      <th></th>\n",
       "      <th></th>\n",
       "      <th></th>\n",
       "      <th></th>\n",
       "      <th></th>\n",
       "      <th></th>\n",
       "      <th></th>\n",
       "      <th></th>\n",
       "      <th></th>\n",
       "    </tr>\n",
       "  </thead>\n",
       "  <tbody>\n",
       "    <tr>\n",
       "      <th>0</th>\n",
       "      <td>987.517220</td>\n",
       "      <td>4.807260</td>\n",
       "      <td>1.703139e+10</td>\n",
       "      <td>1.703140e+10</td>\n",
       "      <td>23.398076</td>\n",
       "      <td>24.238287</td>\n",
       "      <td>9.629227</td>\n",
       "      <td>0.511325</td>\n",
       "      <td>2.824024</td>\n",
       "      <td>12.964576</td>\n",
       "      <td>0.252870</td>\n",
       "      <td>1.345330</td>\n",
       "      <td>41.895745</td>\n",
       "      <td>-87.657467</td>\n",
       "      <td>41.896974</td>\n",
       "      <td>-87.660922</td>\n",
       "      <td>5.712690</td>\n",
       "      <td>13.890475</td>\n",
       "    </tr>\n",
       "    <tr>\n",
       "      <th>1</th>\n",
       "      <td>972.723234</td>\n",
       "      <td>4.411038</td>\n",
       "      <td>1.703138e+10</td>\n",
       "      <td>1.703139e+10</td>\n",
       "      <td>22.875552</td>\n",
       "      <td>23.275938</td>\n",
       "      <td>9.137003</td>\n",
       "      <td>0.463852</td>\n",
       "      <td>2.624487</td>\n",
       "      <td>12.225342</td>\n",
       "      <td>0.264073</td>\n",
       "      <td>1.349338</td>\n",
       "      <td>41.896170</td>\n",
       "      <td>-87.656790</td>\n",
       "      <td>41.896693</td>\n",
       "      <td>-87.657802</td>\n",
       "      <td>5.331126</td>\n",
       "      <td>14.026490</td>\n",
       "    </tr>\n",
       "    <tr>\n",
       "      <th>2</th>\n",
       "      <td>978.718945</td>\n",
       "      <td>4.558086</td>\n",
       "      <td>1.703138e+10</td>\n",
       "      <td>1.703139e+10</td>\n",
       "      <td>22.844795</td>\n",
       "      <td>23.559119</td>\n",
       "      <td>9.375510</td>\n",
       "      <td>0.495787</td>\n",
       "      <td>2.638171</td>\n",
       "      <td>12.509467</td>\n",
       "      <td>0.259038</td>\n",
       "      <td>1.333243</td>\n",
       "      <td>41.896163</td>\n",
       "      <td>-87.656459</td>\n",
       "      <td>41.897121</td>\n",
       "      <td>-87.658197</td>\n",
       "      <td>5.527861</td>\n",
       "      <td>14.463713</td>\n",
       "    </tr>\n",
       "    <tr>\n",
       "      <th>3</th>\n",
       "      <td>995.593397</td>\n",
       "      <td>4.519607</td>\n",
       "      <td>1.703138e+10</td>\n",
       "      <td>1.703139e+10</td>\n",
       "      <td>22.908412</td>\n",
       "      <td>23.437359</td>\n",
       "      <td>9.537540</td>\n",
       "      <td>0.483718</td>\n",
       "      <td>2.728103</td>\n",
       "      <td>12.749360</td>\n",
       "      <td>0.228177</td>\n",
       "      <td>1.324288</td>\n",
       "      <td>41.897046</td>\n",
       "      <td>-87.656918</td>\n",
       "      <td>41.897750</td>\n",
       "      <td>-87.658606</td>\n",
       "      <td>5.587517</td>\n",
       "      <td>14.771370</td>\n",
       "    </tr>\n",
       "    <tr>\n",
       "      <th>4</th>\n",
       "      <td>962.481124</td>\n",
       "      <td>4.226123</td>\n",
       "      <td>1.703135e+10</td>\n",
       "      <td>1.703136e+10</td>\n",
       "      <td>21.953480</td>\n",
       "      <td>22.001968</td>\n",
       "      <td>9.307568</td>\n",
       "      <td>0.490785</td>\n",
       "      <td>2.645981</td>\n",
       "      <td>12.444335</td>\n",
       "      <td>0.215244</td>\n",
       "      <td>1.299517</td>\n",
       "      <td>41.898254</td>\n",
       "      <td>-87.656639</td>\n",
       "      <td>41.899526</td>\n",
       "      <td>-87.657326</td>\n",
       "      <td>5.780104</td>\n",
       "      <td>15.399714</td>\n",
       "    </tr>\n",
       "    <tr>\n",
       "      <th>5</th>\n",
       "      <td>858.926817</td>\n",
       "      <td>3.914356</td>\n",
       "      <td>1.703131e+10</td>\n",
       "      <td>1.703131e+10</td>\n",
       "      <td>19.391297</td>\n",
       "      <td>19.802044</td>\n",
       "      <td>8.797594</td>\n",
       "      <td>0.450305</td>\n",
       "      <td>2.588029</td>\n",
       "      <td>11.835927</td>\n",
       "      <td>0.184935</td>\n",
       "      <td>1.255316</td>\n",
       "      <td>41.904267</td>\n",
       "      <td>-87.655158</td>\n",
       "      <td>41.904461</td>\n",
       "      <td>-87.656388</td>\n",
       "      <td>5.692270</td>\n",
       "      <td>14.837976</td>\n",
       "    </tr>\n",
       "    <tr>\n",
       "      <th>6</th>\n",
       "      <td>851.910952</td>\n",
       "      <td>4.653571</td>\n",
       "      <td>1.703132e+10</td>\n",
       "      <td>1.703132e+10</td>\n",
       "      <td>19.982857</td>\n",
       "      <td>20.450000</td>\n",
       "      <td>9.108333</td>\n",
       "      <td>0.479048</td>\n",
       "      <td>2.726150</td>\n",
       "      <td>12.313531</td>\n",
       "      <td>0.225476</td>\n",
       "      <td>1.285238</td>\n",
       "      <td>41.906445</td>\n",
       "      <td>-87.659769</td>\n",
       "      <td>41.907232</td>\n",
       "      <td>-87.662112</td>\n",
       "      <td>5.849524</td>\n",
       "      <td>11.965952</td>\n",
       "    </tr>\n",
       "  </tbody>\n",
       "</table>\n",
       "</div>"
      ],
      "text/plain": [
       "           Trip Seconds  Trip Miles  Pickup Census Tract  \\\n",
       "dayofweek                                                  \n",
       "0            987.517220    4.807260         1.703139e+10   \n",
       "1            972.723234    4.411038         1.703138e+10   \n",
       "2            978.718945    4.558086         1.703138e+10   \n",
       "3            995.593397    4.519607         1.703138e+10   \n",
       "4            962.481124    4.226123         1.703135e+10   \n",
       "5            858.926817    3.914356         1.703131e+10   \n",
       "6            851.910952    4.653571         1.703132e+10   \n",
       "\n",
       "           Dropoff Census Tract  Pickup Community Area  \\\n",
       "dayofweek                                                \n",
       "0                  1.703140e+10              23.398076   \n",
       "1                  1.703139e+10              22.875552   \n",
       "2                  1.703139e+10              22.844795   \n",
       "3                  1.703139e+10              22.908412   \n",
       "4                  1.703136e+10              21.953480   \n",
       "5                  1.703131e+10              19.391297   \n",
       "6                  1.703132e+10              19.982857   \n",
       "\n",
       "           Dropoff Community Area      Fare       Tip  Additional Charges  \\\n",
       "dayofweek                                                                   \n",
       "0                       24.238287  9.629227  0.511325            2.824024   \n",
       "1                       23.275938  9.137003  0.463852            2.624487   \n",
       "2                       23.559119  9.375510  0.495787            2.638171   \n",
       "3                       23.437359  9.537540  0.483718            2.728103   \n",
       "4                       22.001968  9.307568  0.490785            2.645981   \n",
       "5                       19.802044  8.797594  0.450305            2.588029   \n",
       "6                       20.450000  9.108333  0.479048            2.726150   \n",
       "\n",
       "           Trip Total  Shared Trip Authorized  Trips Pooled  \\\n",
       "dayofweek                                                     \n",
       "0           12.964576                0.252870      1.345330   \n",
       "1           12.225342                0.264073      1.349338   \n",
       "2           12.509467                0.259038      1.333243   \n",
       "3           12.749360                0.228177      1.324288   \n",
       "4           12.444335                0.215244      1.299517   \n",
       "5           11.835927                0.184935      1.255316   \n",
       "6           12.313531                0.225476      1.285238   \n",
       "\n",
       "           Pickup Centroid Latitude  Pickup Centroid Longitude  \\\n",
       "dayofweek                                                        \n",
       "0                         41.895745                 -87.657467   \n",
       "1                         41.896170                 -87.656790   \n",
       "2                         41.896163                 -87.656459   \n",
       "3                         41.897046                 -87.656918   \n",
       "4                         41.898254                 -87.656639   \n",
       "5                         41.904267                 -87.655158   \n",
       "6                         41.906445                 -87.659769   \n",
       "\n",
       "           Dropoff Centroid Latitude  Dropoff Centroid Longitude     month  \\\n",
       "dayofweek                                                                    \n",
       "0                          41.896974                  -87.660922  5.712690   \n",
       "1                          41.896693                  -87.657802  5.331126   \n",
       "2                          41.897121                  -87.658197  5.527861   \n",
       "3                          41.897750                  -87.658606  5.587517   \n",
       "4                          41.899526                  -87.657326  5.780104   \n",
       "5                          41.904461                  -87.656388  5.692270   \n",
       "6                          41.907232                  -87.662112  5.849524   \n",
       "\n",
       "                hour  \n",
       "dayofweek             \n",
       "0          13.890475  \n",
       "1          14.026490  \n",
       "2          14.463713  \n",
       "3          14.771370  \n",
       "4          15.399714  \n",
       "5          14.837976  \n",
       "6          11.965952  "
      ]
     },
     "execution_count": 58,
     "metadata": {},
     "output_type": "execute_result"
    }
   ],
   "source": [
    "df.groupby(['dayofweek']).mean()"
   ]
  },
  {
   "cell_type": "markdown",
   "metadata": {},
   "source": [
    "Riders tip the most on average on Monday, and the least on Saturday."
   ]
  },
  {
   "cell_type": "markdown",
   "metadata": {},
   "source": [
    "##### Do riders tip more or less on average during certain hours?"
   ]
  },
  {
   "cell_type": "code",
   "execution_count": 59,
   "metadata": {},
   "outputs": [
    {
     "data": {
      "text/html": [
       "<div>\n",
       "<style scoped>\n",
       "    .dataframe tbody tr th:only-of-type {\n",
       "        vertical-align: middle;\n",
       "    }\n",
       "\n",
       "    .dataframe tbody tr th {\n",
       "        vertical-align: top;\n",
       "    }\n",
       "\n",
       "    .dataframe thead th {\n",
       "        text-align: right;\n",
       "    }\n",
       "</style>\n",
       "<table border=\"1\" class=\"dataframe\">\n",
       "  <thead>\n",
       "    <tr style=\"text-align: right;\">\n",
       "      <th></th>\n",
       "      <th>Trip Seconds</th>\n",
       "      <th>Trip Miles</th>\n",
       "      <th>Pickup Census Tract</th>\n",
       "      <th>Dropoff Census Tract</th>\n",
       "      <th>Pickup Community Area</th>\n",
       "      <th>Dropoff Community Area</th>\n",
       "      <th>Fare</th>\n",
       "      <th>Tip</th>\n",
       "      <th>Additional Charges</th>\n",
       "      <th>Trip Total</th>\n",
       "      <th>Shared Trip Authorized</th>\n",
       "      <th>Trips Pooled</th>\n",
       "      <th>Pickup Centroid Latitude</th>\n",
       "      <th>Pickup Centroid Longitude</th>\n",
       "      <th>Dropoff Centroid Latitude</th>\n",
       "      <th>Dropoff Centroid Longitude</th>\n",
       "      <th>month</th>\n",
       "      <th>dayofweek</th>\n",
       "    </tr>\n",
       "    <tr>\n",
       "      <th>hour</th>\n",
       "      <th></th>\n",
       "      <th></th>\n",
       "      <th></th>\n",
       "      <th></th>\n",
       "      <th></th>\n",
       "      <th></th>\n",
       "      <th></th>\n",
       "      <th></th>\n",
       "      <th></th>\n",
       "      <th></th>\n",
       "      <th></th>\n",
       "      <th></th>\n",
       "      <th></th>\n",
       "      <th></th>\n",
       "      <th></th>\n",
       "      <th></th>\n",
       "      <th></th>\n",
       "      <th></th>\n",
       "    </tr>\n",
       "  </thead>\n",
       "  <tbody>\n",
       "    <tr>\n",
       "      <th>0</th>\n",
       "      <td>717.856195</td>\n",
       "      <td>3.985619</td>\n",
       "      <td>1.703132e+10</td>\n",
       "      <td>1.703124e+10</td>\n",
       "      <td>19.054204</td>\n",
       "      <td>17.373894</td>\n",
       "      <td>8.313053</td>\n",
       "      <td>0.451327</td>\n",
       "      <td>2.553086</td>\n",
       "      <td>11.317467</td>\n",
       "      <td>0.163717</td>\n",
       "      <td>1.188053</td>\n",
       "      <td>41.907798</td>\n",
       "      <td>-87.661378</td>\n",
       "      <td>41.911499</td>\n",
       "      <td>-87.656713</td>\n",
       "      <td>5.712389</td>\n",
       "      <td>4.601770</td>\n",
       "    </tr>\n",
       "    <tr>\n",
       "      <th>1</th>\n",
       "      <td>683.562883</td>\n",
       "      <td>3.728221</td>\n",
       "      <td>1.703128e+10</td>\n",
       "      <td>1.703125e+10</td>\n",
       "      <td>17.331288</td>\n",
       "      <td>16.526074</td>\n",
       "      <td>7.887270</td>\n",
       "      <td>0.317485</td>\n",
       "      <td>2.455813</td>\n",
       "      <td>10.660567</td>\n",
       "      <td>0.161043</td>\n",
       "      <td>1.187117</td>\n",
       "      <td>41.911399</td>\n",
       "      <td>-87.659223</td>\n",
       "      <td>41.914471</td>\n",
       "      <td>-87.657046</td>\n",
       "      <td>6.128834</td>\n",
       "      <td>4.786810</td>\n",
       "    </tr>\n",
       "    <tr>\n",
       "      <th>2</th>\n",
       "      <td>684.945545</td>\n",
       "      <td>3.619554</td>\n",
       "      <td>1.703129e+10</td>\n",
       "      <td>1.703126e+10</td>\n",
       "      <td>14.487624</td>\n",
       "      <td>17.873762</td>\n",
       "      <td>7.939356</td>\n",
       "      <td>0.294554</td>\n",
       "      <td>2.376386</td>\n",
       "      <td>10.610297</td>\n",
       "      <td>0.195545</td>\n",
       "      <td>1.190594</td>\n",
       "      <td>41.912813</td>\n",
       "      <td>-87.654456</td>\n",
       "      <td>41.913926</td>\n",
       "      <td>-87.658924</td>\n",
       "      <td>5.737624</td>\n",
       "      <td>4.876238</td>\n",
       "    </tr>\n",
       "    <tr>\n",
       "      <th>3</th>\n",
       "      <td>720.279412</td>\n",
       "      <td>4.378922</td>\n",
       "      <td>1.703126e+10</td>\n",
       "      <td>1.703134e+10</td>\n",
       "      <td>14.715686</td>\n",
       "      <td>21.759804</td>\n",
       "      <td>8.639706</td>\n",
       "      <td>0.338235</td>\n",
       "      <td>2.624804</td>\n",
       "      <td>11.602745</td>\n",
       "      <td>0.205882</td>\n",
       "      <td>1.235294</td>\n",
       "      <td>41.912507</td>\n",
       "      <td>-87.657345</td>\n",
       "      <td>41.916449</td>\n",
       "      <td>-87.674961</td>\n",
       "      <td>5.921569</td>\n",
       "      <td>4.936275</td>\n",
       "    </tr>\n",
       "    <tr>\n",
       "      <th>4</th>\n",
       "      <td>983.421429</td>\n",
       "      <td>8.465714</td>\n",
       "      <td>1.703126e+10</td>\n",
       "      <td>1.703155e+10</td>\n",
       "      <td>16.235714</td>\n",
       "      <td>37.942857</td>\n",
       "      <td>14.035714</td>\n",
       "      <td>0.814286</td>\n",
       "      <td>4.136143</td>\n",
       "      <td>18.986143</td>\n",
       "      <td>0.178571</td>\n",
       "      <td>1.214286</td>\n",
       "      <td>41.901664</td>\n",
       "      <td>-87.649382</td>\n",
       "      <td>41.913755</td>\n",
       "      <td>-87.733013</td>\n",
       "      <td>5.928571</td>\n",
       "      <td>3.900000</td>\n",
       "    </tr>\n",
       "    <tr>\n",
       "      <th>5</th>\n",
       "      <td>1123.970443</td>\n",
       "      <td>9.394581</td>\n",
       "      <td>1.703129e+10</td>\n",
       "      <td>1.703163e+10</td>\n",
       "      <td>18.985222</td>\n",
       "      <td>41.876847</td>\n",
       "      <td>15.504926</td>\n",
       "      <td>0.556650</td>\n",
       "      <td>4.447685</td>\n",
       "      <td>20.509261</td>\n",
       "      <td>0.152709</td>\n",
       "      <td>1.177340</td>\n",
       "      <td>41.905099</td>\n",
       "      <td>-87.654674</td>\n",
       "      <td>41.911724</td>\n",
       "      <td>-87.740370</td>\n",
       "      <td>5.517241</td>\n",
       "      <td>2.684729</td>\n",
       "    </tr>\n",
       "    <tr>\n",
       "      <th>6</th>\n",
       "      <td>1165.012522</td>\n",
       "      <td>7.252594</td>\n",
       "      <td>1.703131e+10</td>\n",
       "      <td>1.703155e+10</td>\n",
       "      <td>21.375671</td>\n",
       "      <td>31.987478</td>\n",
       "      <td>12.710197</td>\n",
       "      <td>0.627907</td>\n",
       "      <td>3.564794</td>\n",
       "      <td>16.902898</td>\n",
       "      <td>0.234347</td>\n",
       "      <td>1.350626</td>\n",
       "      <td>41.900799</td>\n",
       "      <td>-87.658174</td>\n",
       "      <td>41.894472</td>\n",
       "      <td>-87.690203</td>\n",
       "      <td>5.690519</td>\n",
       "      <td>2.522361</td>\n",
       "    </tr>\n",
       "    <tr>\n",
       "      <th>7</th>\n",
       "      <td>1110.196112</td>\n",
       "      <td>4.825528</td>\n",
       "      <td>1.703131e+10</td>\n",
       "      <td>1.703150e+10</td>\n",
       "      <td>22.842773</td>\n",
       "      <td>27.199493</td>\n",
       "      <td>9.904903</td>\n",
       "      <td>0.453931</td>\n",
       "      <td>2.647422</td>\n",
       "      <td>13.006255</td>\n",
       "      <td>0.260355</td>\n",
       "      <td>1.387997</td>\n",
       "      <td>41.896118</td>\n",
       "      <td>-87.659808</td>\n",
       "      <td>41.888303</td>\n",
       "      <td>-87.660719</td>\n",
       "      <td>5.410820</td>\n",
       "      <td>2.430262</td>\n",
       "    </tr>\n",
       "    <tr>\n",
       "      <th>8</th>\n",
       "      <td>1109.158993</td>\n",
       "      <td>4.296685</td>\n",
       "      <td>1.703133e+10</td>\n",
       "      <td>1.703147e+10</td>\n",
       "      <td>22.805402</td>\n",
       "      <td>25.419890</td>\n",
       "      <td>9.671578</td>\n",
       "      <td>0.393493</td>\n",
       "      <td>2.531793</td>\n",
       "      <td>12.596863</td>\n",
       "      <td>0.243708</td>\n",
       "      <td>1.365255</td>\n",
       "      <td>41.892060</td>\n",
       "      <td>-87.653847</td>\n",
       "      <td>41.888213</td>\n",
       "      <td>-87.652002</td>\n",
       "      <td>5.327195</td>\n",
       "      <td>2.444444</td>\n",
       "    </tr>\n",
       "    <tr>\n",
       "      <th>9</th>\n",
       "      <td>934.374828</td>\n",
       "      <td>4.369120</td>\n",
       "      <td>1.703133e+10</td>\n",
       "      <td>1.703144e+10</td>\n",
       "      <td>22.332875</td>\n",
       "      <td>24.632050</td>\n",
       "      <td>9.212517</td>\n",
       "      <td>0.453232</td>\n",
       "      <td>2.593219</td>\n",
       "      <td>12.258968</td>\n",
       "      <td>0.248968</td>\n",
       "      <td>1.301926</td>\n",
       "      <td>41.897216</td>\n",
       "      <td>-87.656933</td>\n",
       "      <td>41.891030</td>\n",
       "      <td>-87.653942</td>\n",
       "      <td>5.412655</td>\n",
       "      <td>2.788171</td>\n",
       "    </tr>\n",
       "    <tr>\n",
       "      <th>10</th>\n",
       "      <td>898.662327</td>\n",
       "      <td>4.749797</td>\n",
       "      <td>1.703135e+10</td>\n",
       "      <td>1.703142e+10</td>\n",
       "      <td>22.188771</td>\n",
       "      <td>24.593165</td>\n",
       "      <td>9.275834</td>\n",
       "      <td>0.491456</td>\n",
       "      <td>2.816599</td>\n",
       "      <td>12.583889</td>\n",
       "      <td>0.229455</td>\n",
       "      <td>1.283157</td>\n",
       "      <td>41.898536</td>\n",
       "      <td>-87.656894</td>\n",
       "      <td>41.893152</td>\n",
       "      <td>-87.656530</td>\n",
       "      <td>5.860049</td>\n",
       "      <td>3.147274</td>\n",
       "    </tr>\n",
       "    <tr>\n",
       "      <th>11</th>\n",
       "      <td>898.154885</td>\n",
       "      <td>4.604766</td>\n",
       "      <td>1.703136e+10</td>\n",
       "      <td>1.703140e+10</td>\n",
       "      <td>22.380461</td>\n",
       "      <td>24.033360</td>\n",
       "      <td>9.263304</td>\n",
       "      <td>0.501986</td>\n",
       "      <td>2.782510</td>\n",
       "      <td>12.547800</td>\n",
       "      <td>0.218427</td>\n",
       "      <td>1.275616</td>\n",
       "      <td>41.896869</td>\n",
       "      <td>-87.655035</td>\n",
       "      <td>41.893949</td>\n",
       "      <td>-87.655429</td>\n",
       "      <td>5.422558</td>\n",
       "      <td>3.409055</td>\n",
       "    </tr>\n",
       "    <tr>\n",
       "      <th>12</th>\n",
       "      <td>909.752431</td>\n",
       "      <td>4.490651</td>\n",
       "      <td>1.703136e+10</td>\n",
       "      <td>1.703138e+10</td>\n",
       "      <td>22.343306</td>\n",
       "      <td>23.151085</td>\n",
       "      <td>9.126776</td>\n",
       "      <td>0.534031</td>\n",
       "      <td>2.879843</td>\n",
       "      <td>12.540651</td>\n",
       "      <td>0.204936</td>\n",
       "      <td>1.272999</td>\n",
       "      <td>41.897999</td>\n",
       "      <td>-87.654798</td>\n",
       "      <td>41.898310</td>\n",
       "      <td>-87.657272</td>\n",
       "      <td>5.491399</td>\n",
       "      <td>3.554974</td>\n",
       "    </tr>\n",
       "    <tr>\n",
       "      <th>13</th>\n",
       "      <td>1005.846463</td>\n",
       "      <td>5.022428</td>\n",
       "      <td>1.703138e+10</td>\n",
       "      <td>1.703141e+10</td>\n",
       "      <td>23.591640</td>\n",
       "      <td>24.470257</td>\n",
       "      <td>10.092444</td>\n",
       "      <td>0.585209</td>\n",
       "      <td>3.025772</td>\n",
       "      <td>13.703424</td>\n",
       "      <td>0.222669</td>\n",
       "      <td>1.312701</td>\n",
       "      <td>41.896511</td>\n",
       "      <td>-87.658427</td>\n",
       "      <td>41.895927</td>\n",
       "      <td>-87.660778</td>\n",
       "      <td>5.721061</td>\n",
       "      <td>3.389871</td>\n",
       "    </tr>\n",
       "    <tr>\n",
       "      <th>14</th>\n",
       "      <td>1011.843563</td>\n",
       "      <td>4.640569</td>\n",
       "      <td>1.703138e+10</td>\n",
       "      <td>1.703140e+10</td>\n",
       "      <td>23.455090</td>\n",
       "      <td>24.138473</td>\n",
       "      <td>9.496632</td>\n",
       "      <td>0.503743</td>\n",
       "      <td>2.820202</td>\n",
       "      <td>12.820576</td>\n",
       "      <td>0.224551</td>\n",
       "      <td>1.324102</td>\n",
       "      <td>41.893528</td>\n",
       "      <td>-87.653949</td>\n",
       "      <td>41.895824</td>\n",
       "      <td>-87.660257</td>\n",
       "      <td>5.619760</td>\n",
       "      <td>3.513473</td>\n",
       "    </tr>\n",
       "    <tr>\n",
       "      <th>15</th>\n",
       "      <td>1065.169536</td>\n",
       "      <td>4.593775</td>\n",
       "      <td>1.703139e+10</td>\n",
       "      <td>1.703138e+10</td>\n",
       "      <td>23.664901</td>\n",
       "      <td>24.064901</td>\n",
       "      <td>9.811258</td>\n",
       "      <td>0.498013</td>\n",
       "      <td>2.823914</td>\n",
       "      <td>13.133185</td>\n",
       "      <td>0.243709</td>\n",
       "      <td>1.333775</td>\n",
       "      <td>41.893748</td>\n",
       "      <td>-87.657588</td>\n",
       "      <td>41.896307</td>\n",
       "      <td>-87.662133</td>\n",
       "      <td>5.742384</td>\n",
       "      <td>3.383444</td>\n",
       "    </tr>\n",
       "    <tr>\n",
       "      <th>16</th>\n",
       "      <td>1107.115735</td>\n",
       "      <td>4.462315</td>\n",
       "      <td>1.703140e+10</td>\n",
       "      <td>1.703138e+10</td>\n",
       "      <td>23.870582</td>\n",
       "      <td>23.782212</td>\n",
       "      <td>9.884550</td>\n",
       "      <td>0.493729</td>\n",
       "      <td>2.678455</td>\n",
       "      <td>13.056733</td>\n",
       "      <td>0.263398</td>\n",
       "      <td>1.399088</td>\n",
       "      <td>41.891901</td>\n",
       "      <td>-87.654070</td>\n",
       "      <td>41.896045</td>\n",
       "      <td>-87.660523</td>\n",
       "      <td>5.529647</td>\n",
       "      <td>3.220068</td>\n",
       "    </tr>\n",
       "    <tr>\n",
       "      <th>17</th>\n",
       "      <td>1117.909412</td>\n",
       "      <td>4.073928</td>\n",
       "      <td>1.703138e+10</td>\n",
       "      <td>1.703135e+10</td>\n",
       "      <td>22.352187</td>\n",
       "      <td>21.672117</td>\n",
       "      <td>9.501768</td>\n",
       "      <td>0.494918</td>\n",
       "      <td>2.587349</td>\n",
       "      <td>12.584034</td>\n",
       "      <td>0.267344</td>\n",
       "      <td>1.401237</td>\n",
       "      <td>41.897087</td>\n",
       "      <td>-87.653499</td>\n",
       "      <td>41.901214</td>\n",
       "      <td>-87.657206</td>\n",
       "      <td>5.597437</td>\n",
       "      <td>3.098984</td>\n",
       "    </tr>\n",
       "    <tr>\n",
       "      <th>18</th>\n",
       "      <td>974.160259</td>\n",
       "      <td>3.881789</td>\n",
       "      <td>1.703135e+10</td>\n",
       "      <td>1.703133e+10</td>\n",
       "      <td>21.099960</td>\n",
       "      <td>19.985431</td>\n",
       "      <td>9.091461</td>\n",
       "      <td>0.471874</td>\n",
       "      <td>2.506779</td>\n",
       "      <td>12.070113</td>\n",
       "      <td>0.241603</td>\n",
       "      <td>1.344800</td>\n",
       "      <td>41.901399</td>\n",
       "      <td>-87.655579</td>\n",
       "      <td>41.903450</td>\n",
       "      <td>-87.656374</td>\n",
       "      <td>5.591663</td>\n",
       "      <td>3.185755</td>\n",
       "    </tr>\n",
       "    <tr>\n",
       "      <th>19</th>\n",
       "      <td>875.045175</td>\n",
       "      <td>4.025965</td>\n",
       "      <td>1.703136e+10</td>\n",
       "      <td>1.703131e+10</td>\n",
       "      <td>21.493421</td>\n",
       "      <td>19.679386</td>\n",
       "      <td>8.660088</td>\n",
       "      <td>0.478509</td>\n",
       "      <td>2.576075</td>\n",
       "      <td>11.714671</td>\n",
       "      <td>0.223684</td>\n",
       "      <td>1.298246</td>\n",
       "      <td>41.903401</td>\n",
       "      <td>-87.658052</td>\n",
       "      <td>41.905148</td>\n",
       "      <td>-87.657109</td>\n",
       "      <td>5.749123</td>\n",
       "      <td>3.288596</td>\n",
       "    </tr>\n",
       "    <tr>\n",
       "      <th>20</th>\n",
       "      <td>800.048017</td>\n",
       "      <td>4.057777</td>\n",
       "      <td>1.703135e+10</td>\n",
       "      <td>1.703131e+10</td>\n",
       "      <td>21.042276</td>\n",
       "      <td>19.140397</td>\n",
       "      <td>8.439457</td>\n",
       "      <td>0.505219</td>\n",
       "      <td>2.587615</td>\n",
       "      <td>11.532291</td>\n",
       "      <td>0.207724</td>\n",
       "      <td>1.250522</td>\n",
       "      <td>41.902036</td>\n",
       "      <td>-87.658298</td>\n",
       "      <td>41.905036</td>\n",
       "      <td>-87.654802</td>\n",
       "      <td>5.686326</td>\n",
       "      <td>3.316284</td>\n",
       "    </tr>\n",
       "    <tr>\n",
       "      <th>21</th>\n",
       "      <td>782.589433</td>\n",
       "      <td>4.067364</td>\n",
       "      <td>1.703136e+10</td>\n",
       "      <td>1.703128e+10</td>\n",
       "      <td>21.253715</td>\n",
       "      <td>18.953220</td>\n",
       "      <td>8.399835</td>\n",
       "      <td>0.474408</td>\n",
       "      <td>2.566230</td>\n",
       "      <td>11.440473</td>\n",
       "      <td>0.204733</td>\n",
       "      <td>1.253165</td>\n",
       "      <td>41.901729</td>\n",
       "      <td>-87.658860</td>\n",
       "      <td>41.904871</td>\n",
       "      <td>-87.653105</td>\n",
       "      <td>5.702256</td>\n",
       "      <td>3.309851</td>\n",
       "    </tr>\n",
       "    <tr>\n",
       "      <th>22</th>\n",
       "      <td>790.663578</td>\n",
       "      <td>4.161436</td>\n",
       "      <td>1.703134e+10</td>\n",
       "      <td>1.703127e+10</td>\n",
       "      <td>20.001737</td>\n",
       "      <td>18.254198</td>\n",
       "      <td>8.449624</td>\n",
       "      <td>0.497973</td>\n",
       "      <td>2.511789</td>\n",
       "      <td>11.459386</td>\n",
       "      <td>0.219456</td>\n",
       "      <td>1.271569</td>\n",
       "      <td>41.905627</td>\n",
       "      <td>-87.660779</td>\n",
       "      <td>41.908921</td>\n",
       "      <td>-87.655790</td>\n",
       "      <td>5.829763</td>\n",
       "      <td>3.560510</td>\n",
       "    </tr>\n",
       "    <tr>\n",
       "      <th>23</th>\n",
       "      <td>758.525207</td>\n",
       "      <td>4.032054</td>\n",
       "      <td>1.703134e+10</td>\n",
       "      <td>1.703128e+10</td>\n",
       "      <td>20.331828</td>\n",
       "      <td>18.387509</td>\n",
       "      <td>8.544018</td>\n",
       "      <td>0.395034</td>\n",
       "      <td>2.427111</td>\n",
       "      <td>11.366163</td>\n",
       "      <td>0.209932</td>\n",
       "      <td>1.265613</td>\n",
       "      <td>41.907337</td>\n",
       "      <td>-87.659949</td>\n",
       "      <td>41.909857</td>\n",
       "      <td>-87.655420</td>\n",
       "      <td>6.122649</td>\n",
       "      <td>3.753198</td>\n",
       "    </tr>\n",
       "  </tbody>\n",
       "</table>\n",
       "</div>"
      ],
      "text/plain": [
       "      Trip Seconds  Trip Miles  Pickup Census Tract  Dropoff Census Tract  \\\n",
       "hour                                                                        \n",
       "0       717.856195    3.985619         1.703132e+10          1.703124e+10   \n",
       "1       683.562883    3.728221         1.703128e+10          1.703125e+10   \n",
       "2       684.945545    3.619554         1.703129e+10          1.703126e+10   \n",
       "3       720.279412    4.378922         1.703126e+10          1.703134e+10   \n",
       "4       983.421429    8.465714         1.703126e+10          1.703155e+10   \n",
       "5      1123.970443    9.394581         1.703129e+10          1.703163e+10   \n",
       "6      1165.012522    7.252594         1.703131e+10          1.703155e+10   \n",
       "7      1110.196112    4.825528         1.703131e+10          1.703150e+10   \n",
       "8      1109.158993    4.296685         1.703133e+10          1.703147e+10   \n",
       "9       934.374828    4.369120         1.703133e+10          1.703144e+10   \n",
       "10      898.662327    4.749797         1.703135e+10          1.703142e+10   \n",
       "11      898.154885    4.604766         1.703136e+10          1.703140e+10   \n",
       "12      909.752431    4.490651         1.703136e+10          1.703138e+10   \n",
       "13     1005.846463    5.022428         1.703138e+10          1.703141e+10   \n",
       "14     1011.843563    4.640569         1.703138e+10          1.703140e+10   \n",
       "15     1065.169536    4.593775         1.703139e+10          1.703138e+10   \n",
       "16     1107.115735    4.462315         1.703140e+10          1.703138e+10   \n",
       "17     1117.909412    4.073928         1.703138e+10          1.703135e+10   \n",
       "18      974.160259    3.881789         1.703135e+10          1.703133e+10   \n",
       "19      875.045175    4.025965         1.703136e+10          1.703131e+10   \n",
       "20      800.048017    4.057777         1.703135e+10          1.703131e+10   \n",
       "21      782.589433    4.067364         1.703136e+10          1.703128e+10   \n",
       "22      790.663578    4.161436         1.703134e+10          1.703127e+10   \n",
       "23      758.525207    4.032054         1.703134e+10          1.703128e+10   \n",
       "\n",
       "      Pickup Community Area  Dropoff Community Area       Fare       Tip  \\\n",
       "hour                                                                       \n",
       "0                 19.054204               17.373894   8.313053  0.451327   \n",
       "1                 17.331288               16.526074   7.887270  0.317485   \n",
       "2                 14.487624               17.873762   7.939356  0.294554   \n",
       "3                 14.715686               21.759804   8.639706  0.338235   \n",
       "4                 16.235714               37.942857  14.035714  0.814286   \n",
       "5                 18.985222               41.876847  15.504926  0.556650   \n",
       "6                 21.375671               31.987478  12.710197  0.627907   \n",
       "7                 22.842773               27.199493   9.904903  0.453931   \n",
       "8                 22.805402               25.419890   9.671578  0.393493   \n",
       "9                 22.332875               24.632050   9.212517  0.453232   \n",
       "10                22.188771               24.593165   9.275834  0.491456   \n",
       "11                22.380461               24.033360   9.263304  0.501986   \n",
       "12                22.343306               23.151085   9.126776  0.534031   \n",
       "13                23.591640               24.470257  10.092444  0.585209   \n",
       "14                23.455090               24.138473   9.496632  0.503743   \n",
       "15                23.664901               24.064901   9.811258  0.498013   \n",
       "16                23.870582               23.782212   9.884550  0.493729   \n",
       "17                22.352187               21.672117   9.501768  0.494918   \n",
       "18                21.099960               19.985431   9.091461  0.471874   \n",
       "19                21.493421               19.679386   8.660088  0.478509   \n",
       "20                21.042276               19.140397   8.439457  0.505219   \n",
       "21                21.253715               18.953220   8.399835  0.474408   \n",
       "22                20.001737               18.254198   8.449624  0.497973   \n",
       "23                20.331828               18.387509   8.544018  0.395034   \n",
       "\n",
       "      Additional Charges  Trip Total  Shared Trip Authorized  Trips Pooled  \\\n",
       "hour                                                                         \n",
       "0               2.553086   11.317467                0.163717      1.188053   \n",
       "1               2.455813   10.660567                0.161043      1.187117   \n",
       "2               2.376386   10.610297                0.195545      1.190594   \n",
       "3               2.624804   11.602745                0.205882      1.235294   \n",
       "4               4.136143   18.986143                0.178571      1.214286   \n",
       "5               4.447685   20.509261                0.152709      1.177340   \n",
       "6               3.564794   16.902898                0.234347      1.350626   \n",
       "7               2.647422   13.006255                0.260355      1.387997   \n",
       "8               2.531793   12.596863                0.243708      1.365255   \n",
       "9               2.593219   12.258968                0.248968      1.301926   \n",
       "10              2.816599   12.583889                0.229455      1.283157   \n",
       "11              2.782510   12.547800                0.218427      1.275616   \n",
       "12              2.879843   12.540651                0.204936      1.272999   \n",
       "13              3.025772   13.703424                0.222669      1.312701   \n",
       "14              2.820202   12.820576                0.224551      1.324102   \n",
       "15              2.823914   13.133185                0.243709      1.333775   \n",
       "16              2.678455   13.056733                0.263398      1.399088   \n",
       "17              2.587349   12.584034                0.267344      1.401237   \n",
       "18              2.506779   12.070113                0.241603      1.344800   \n",
       "19              2.576075   11.714671                0.223684      1.298246   \n",
       "20              2.587615   11.532291                0.207724      1.250522   \n",
       "21              2.566230   11.440473                0.204733      1.253165   \n",
       "22              2.511789   11.459386                0.219456      1.271569   \n",
       "23              2.427111   11.366163                0.209932      1.265613   \n",
       "\n",
       "      Pickup Centroid Latitude  Pickup Centroid Longitude  \\\n",
       "hour                                                        \n",
       "0                    41.907798                 -87.661378   \n",
       "1                    41.911399                 -87.659223   \n",
       "2                    41.912813                 -87.654456   \n",
       "3                    41.912507                 -87.657345   \n",
       "4                    41.901664                 -87.649382   \n",
       "5                    41.905099                 -87.654674   \n",
       "6                    41.900799                 -87.658174   \n",
       "7                    41.896118                 -87.659808   \n",
       "8                    41.892060                 -87.653847   \n",
       "9                    41.897216                 -87.656933   \n",
       "10                   41.898536                 -87.656894   \n",
       "11                   41.896869                 -87.655035   \n",
       "12                   41.897999                 -87.654798   \n",
       "13                   41.896511                 -87.658427   \n",
       "14                   41.893528                 -87.653949   \n",
       "15                   41.893748                 -87.657588   \n",
       "16                   41.891901                 -87.654070   \n",
       "17                   41.897087                 -87.653499   \n",
       "18                   41.901399                 -87.655579   \n",
       "19                   41.903401                 -87.658052   \n",
       "20                   41.902036                 -87.658298   \n",
       "21                   41.901729                 -87.658860   \n",
       "22                   41.905627                 -87.660779   \n",
       "23                   41.907337                 -87.659949   \n",
       "\n",
       "      Dropoff Centroid Latitude  Dropoff Centroid Longitude     month  \\\n",
       "hour                                                                    \n",
       "0                     41.911499                  -87.656713  5.712389   \n",
       "1                     41.914471                  -87.657046  6.128834   \n",
       "2                     41.913926                  -87.658924  5.737624   \n",
       "3                     41.916449                  -87.674961  5.921569   \n",
       "4                     41.913755                  -87.733013  5.928571   \n",
       "5                     41.911724                  -87.740370  5.517241   \n",
       "6                     41.894472                  -87.690203  5.690519   \n",
       "7                     41.888303                  -87.660719  5.410820   \n",
       "8                     41.888213                  -87.652002  5.327195   \n",
       "9                     41.891030                  -87.653942  5.412655   \n",
       "10                    41.893152                  -87.656530  5.860049   \n",
       "11                    41.893949                  -87.655429  5.422558   \n",
       "12                    41.898310                  -87.657272  5.491399   \n",
       "13                    41.895927                  -87.660778  5.721061   \n",
       "14                    41.895824                  -87.660257  5.619760   \n",
       "15                    41.896307                  -87.662133  5.742384   \n",
       "16                    41.896045                  -87.660523  5.529647   \n",
       "17                    41.901214                  -87.657206  5.597437   \n",
       "18                    41.903450                  -87.656374  5.591663   \n",
       "19                    41.905148                  -87.657109  5.749123   \n",
       "20                    41.905036                  -87.654802  5.686326   \n",
       "21                    41.904871                  -87.653105  5.702256   \n",
       "22                    41.908921                  -87.655790  5.829763   \n",
       "23                    41.909857                  -87.655420  6.122649   \n",
       "\n",
       "      dayofweek  \n",
       "hour             \n",
       "0      4.601770  \n",
       "1      4.786810  \n",
       "2      4.876238  \n",
       "3      4.936275  \n",
       "4      3.900000  \n",
       "5      2.684729  \n",
       "6      2.522361  \n",
       "7      2.430262  \n",
       "8      2.444444  \n",
       "9      2.788171  \n",
       "10     3.147274  \n",
       "11     3.409055  \n",
       "12     3.554974  \n",
       "13     3.389871  \n",
       "14     3.513473  \n",
       "15     3.383444  \n",
       "16     3.220068  \n",
       "17     3.098984  \n",
       "18     3.185755  \n",
       "19     3.288596  \n",
       "20     3.316284  \n",
       "21     3.309851  \n",
       "22     3.560510  \n",
       "23     3.753198  "
      ]
     },
     "execution_count": 59,
     "metadata": {},
     "output_type": "execute_result"
    }
   ],
   "source": [
    "df.groupby(['hour']).mean()"
   ]
  },
  {
   "cell_type": "markdown",
   "metadata": {},
   "source": [
    "It looks like 4am riders tip the most, and 2am riders tip the least."
   ]
  }
 ],
 "metadata": {
  "kernelspec": {
   "display_name": "Python 3",
   "language": "python",
   "name": "python3"
  },
  "language_info": {
   "codemirror_mode": {
    "name": "ipython",
    "version": 3
   },
   "file_extension": ".py",
   "mimetype": "text/x-python",
   "name": "python",
   "nbconvert_exporter": "python",
   "pygments_lexer": "ipython3",
   "version": "3.6.8"
  }
 },
 "nbformat": 4,
 "nbformat_minor": 2
}
