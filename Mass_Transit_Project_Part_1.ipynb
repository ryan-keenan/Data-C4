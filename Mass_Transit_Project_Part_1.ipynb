{
 "cells": [
  {
   "cell_type": "markdown",
   "metadata": {},
   "source": [
    "# Mass Transit: Project Part 1"
   ]
  },
  {
   "cell_type": "markdown",
   "metadata": {},
   "source": [
    "It's your first day on the job. Your first task is to analyze the Mass Transit Data and present general insights. You will build histograms, boxplots and scatter plots, along with analyzing the mean, median, max, min and quartiles to present compelling insights and to look for interesting patterns.\n",
    "\n",
    "Whenever you come across a cell with code in it, go ahead and run it. When you are prompted for your own solution, write your code in the blank Python cell and run that as well. If you get errors, don't worry, just go back and look at your code. Some errors are easily corrected. Other errors may need support from Stackoverflow or your classmates. Just be patient, and keep in mind that we all mistakes. The solutions will be made available to you."
   ]
  },
  {
   "cell_type": "markdown",
   "metadata": {},
   "source": [
    "### 1. Imports"
   ]
  },
  {
   "cell_type": "markdown",
   "metadata": {},
   "source": [
    "Since you are working in Python in a Jupyter Notebook, you want to use the following standard imports."
   ]
  },
  {
   "cell_type": "code",
   "execution_count": null,
   "metadata": {},
   "outputs": [],
   "source": [
    "import pandas as pd\n",
    "import numpy as np\n",
    "import matplotlib.pyplot as plt"
   ]
  },
  {
   "cell_type": "markdown",
   "metadata": {},
   "source": [
    "### 2. Access Data"
   ]
  },
  {
   "cell_type": "markdown",
   "metadata": {},
   "source": [
    "Next, you need to access the data as follows."
   ]
  },
  {
   "cell_type": "code",
   "execution_count": null,
   "metadata": {},
   "outputs": [],
   "source": [
    "df = pd.read_csv('uber_every_1K_rows.csv', parse_dates=['Trip Start Timestamp', 'Trip End Timestamp'])"
   ]
  },
  {
   "cell_type": "markdown",
   "metadata": {},
   "source": [
    "1. df is standard terminology. It stands for dataFrame. Throughout this project, whenever you see df, it's a reference to the data.\n",
    "\n",
    "2. Notice that parse_dates=['Trip Start Timestamp', 'Trip End Timestamp']. This is very important. It allows us to treat these columns as dates. This will be useful later on.\n"
   ]
  },
  {
   "cell_type": "markdown",
   "metadata": {},
   "source": [
    "### 3. View Data"
   ]
  },
  {
   "cell_type": "markdown",
   "metadata": {},
   "source": [
    "It's always a good idea to view the data. .head() is a method that shows you the first five rows. Use .head() following df to view the first 5 rows in the cell below."
   ]
  },
  {
   "cell_type": "code",
   "execution_count": null,
   "metadata": {},
   "outputs": [],
   "source": [
    "df.head()"
   ]
  },
  {
   "cell_type": "markdown",
   "metadata": {},
   "source": [
    "Take a moment to examine the data. Lots of interesting stuff. Notice the NaN values? These need to be dealt with. First, let's analyze the data using .describe()"
   ]
  },
  {
   "cell_type": "markdown",
   "metadata": {},
   "source": [
    "### 4. Describe Data"
   ]
  },
  {
   "cell_type": "markdown",
   "metadata": {},
   "source": [
    ".describe() is a great method for viewing the core statistics at once. Use .describe() with df to view the core statistics in the cell below."
   ]
  },
  {
   "cell_type": "code",
   "execution_count": null,
   "metadata": {},
   "outputs": [],
   "source": [
    "df.describe()"
   ]
  },
  {
   "cell_type": "markdown",
   "metadata": {},
   "source": [
    "##### Write a paragraph stating insights from the data above."
   ]
  },
  {
   "cell_type": "markdown",
   "metadata": {},
   "source": [
    "SOLUTOIN .describe() shows the count, the quartiles, and the median mean. The mean is usually greater than the median in this dataset. This indicates that most of the data is very right skewed. This can happen when most of the data is clustered around 0, and the mean is pulled away from the median by very high outliers. As one example, the median trip is 3.6 miles, but the max trip is almost 246 miles. "
   ]
  },
  {
   "cell_type": "markdown",
   "metadata": {},
   "source": [
    "## 5. Column Info "
   ]
  },
  {
   "cell_type": "markdown",
   "metadata": {},
   "source": [
    "Use .info() as a method on df to view the info on the various columns."
   ]
  },
  {
   "cell_type": "code",
   "execution_count": null,
   "metadata": {},
   "outputs": [],
   "source": [
    "df.info()"
   ]
  },
  {
   "cell_type": "markdown",
   "metadata": {},
   "source": [
    "Whereas .describe() shows statistics for the numerical columns, .info() shows all the column and column types. It also reveals the null values."
   ]
  },
  {
   "cell_type": "markdown",
   "metadata": {},
   "source": [
    "##### How many columnns above contain null values?"
   ]
  },
  {
   "cell_type": "code",
   "execution_count": null,
   "metadata": {},
   "outputs": [],
   "source": [
    "10"
   ]
  },
  {
   "cell_type": "markdown",
   "metadata": {},
   "source": [
    "There are many options for treating null values. The easiest is to get rid of them completely. This may not be possible if there are too many null values. Since our dataset is fairly large to begin with, we will take the easiest approach."
   ]
  },
  {
   "cell_type": "code",
   "execution_count": null,
   "metadata": {},
   "outputs": [],
   "source": [
    "df = df.dropna(how='any',axis=0) "
   ]
  },
  {
   "cell_type": "markdown",
   "metadata": {},
   "source": [
    "To view the length of the new dataFrame, df, we can use the len() function as follows."
   ]
  },
  {
   "cell_type": "code",
   "execution_count": null,
   "metadata": {},
   "outputs": [],
   "source": [
    "len(df)"
   ]
  },
  {
   "cell_type": "markdown",
   "metadata": {},
   "source": [
    "## Visual Graphs"
   ]
  },
  {
   "cell_type": "markdown",
   "metadata": {},
   "source": [
    "Now let's explore the graphs visually. It's always important to include visual graphs as part of your analysis. Graphs are easier to comprehend on sight, and they capture important information.\n",
    "\n",
    "After every graph that is displayed, be sure to include a brief summary of what you see. The summary may include words like skew, normal, and modal (bi-modal, uni-modal). "
   ]
  },
  {
   "cell_type": "markdown",
   "metadata": {},
   "source": [
    "### 6. Histograms"
   ]
  },
  {
   "cell_type": "markdown",
   "metadata": {},
   "source": [
    "We will start with histograms. Remember to use plt.hist(), and put the relevant columnn inside of parentheses. Then use plt.show() to display the graph."
   ]
  },
  {
   "cell_type": "markdown",
   "metadata": {},
   "source": [
    "##### Display a histogram of df['Fare'] in the cell below"
   ]
  },
  {
   "cell_type": "code",
   "execution_count": null,
   "metadata": {},
   "outputs": [],
   "source": [
    "plt.hist(df['Fare'])\n",
    "plt.show()"
   ]
  },
  {
   "cell_type": "markdown",
   "metadata": {},
   "source": [
    "INTERPRETATION - The fares are very right skewed. This is to be expected since there cannot be negative fares, and most riders take short trips. Very few rides are in excess of 60 dollars."
   ]
  },
  {
   "cell_type": "markdown",
   "metadata": {},
   "source": [
    "We can improve the visuals of our histogram using the following steps:\n",
    "\n",
    "1. Use Seaborn - A popular Python library with nice defaults.\n",
    "2. Make figure larger - Great for presentations later on.\n",
    "3. Change number of bins - Can change interpretation of the graph.\n",
    "4. Create labels for y and x - All graphs should have the axes labeled.\n",
    "5. Give the histogram a title - All graphs should be titled.\n",
    "6. Change the limit of x - Since many bars are invisible, limiting x can show more information about the distribution of larger values.\n",
    "\n",
    "Let's do this now by running the next two cells."
   ]
  },
  {
   "cell_type": "code",
   "execution_count": null,
   "metadata": {},
   "outputs": [],
   "source": [
    "# Run this cell to improve your visuals with Seaborn\n",
    "import seaborn as sns;\n",
    "\n",
    "# This sets up the seaborn dark grid\n",
    "sns.set()"
   ]
  },
  {
   "cell_type": "code",
   "execution_count": null,
   "metadata": {},
   "outputs": [],
   "source": [
    "plt.figure(figsize=(10,7))\n",
    "plt.xlim(0,60)\n",
    "plt.xlabel('Fare')\n",
    "plt.ylabel('Frequency')\n",
    "plt.title('Uber Fares')\n",
    "plt.hist(df['Fare'], bins=25)\n",
    "plt.savefig('Uber_Fares_Hist', dpi=300)\n",
    "plt.show()"
   ]
  },
  {
   "cell_type": "markdown",
   "metadata": {},
   "source": [
    "INTERPRETATION - The overall distribution of fares is right skeweed and unimodal with a peak at around $10. There are very few fares at over $40."
   ]
  },
  {
   "cell_type": "markdown",
   "metadata": {},
   "source": [
    "The code above this histogram may be copied and modified to generate new histograms of other columns. Also notice that we added the following line:\n",
    "\n",
    "plt.savefig('Uber_Fares_Hist', dpi=300)\n",
    "\n",
    "This will save the figure to your computer uder the title 'Uber_Fares_Hist'. The parameter dpi=300 means that the figure is saved with 300 dots per square inch, so it will look rather crisp. We recommend saving the figures that you create so that you can use them in the project presentation."
   ]
  },
  {
   "cell_type": "markdown",
   "metadata": {},
   "source": [
    "##### Display a histogram of df['Trip Seconds'] using only plt.hist() and plt.show()"
   ]
  },
  {
   "cell_type": "code",
   "execution_count": null,
   "metadata": {},
   "outputs": [],
   "source": [
    "plt.hist(df['Trip Seconds'])\n",
    "plt.show()"
   ]
  },
  {
   "cell_type": "markdown",
   "metadata": {},
   "source": [
    "##### Improve the histogram of df['Trip Seconds'] by making it larger and adding labels in the cell below. \n",
    "You also may want to change the number of bins and xlim. Be sure to interpret the graph in the provided cell."
   ]
  },
  {
   "cell_type": "code",
   "execution_count": null,
   "metadata": {},
   "outputs": [],
   "source": [
    "plt.figure(figsize=(10,7))\n",
    "plt.xlim(0,5000)\n",
    "plt.xlabel('Seconds')\n",
    "plt.ylabel('Frequency')\n",
    "plt.title('Duration of Trip in Seconds')\n",
    "plt.hist(df['Trip Seconds'], bins=40)\n",
    "plt.show()"
   ]
  },
  {
   "cell_type": "markdown",
   "metadata": {},
   "source": [
    "Trip Seconds peak at around 5-7 thousand. The distribution is unimodal and very right skewed. This indicates that most trips are about 10 minutes long. "
   ]
  },
  {
   "cell_type": "markdown",
   "metadata": {},
   "source": [
    "##### Display a histogram of df['Trip Seconds'] using only plt.hist() and plt.show()"
   ]
  },
  {
   "cell_type": "code",
   "execution_count": null,
   "metadata": {},
   "outputs": [],
   "source": [
    "plt.hist(df['Tip'])\n",
    "plt.show()"
   ]
  },
  {
   "cell_type": "markdown",
   "metadata": {},
   "source": [
    "##### Improve the histogram of df['Trip Seconds'] by making it larger and adding labels in the cell below.\n",
    "You may want to change the number of bins and xlim. Be sure to interpret the graph in the provided cell."
   ]
  },
  {
   "cell_type": "code",
   "execution_count": null,
   "metadata": {},
   "outputs": [],
   "source": [
    "plt.figure(figsize=(10,7))\n",
    "plt.xlim(0,10)\n",
    "plt.xlabel('Tips')\n",
    "plt.ylabel('Frequency')\n",
    "plt.title('Rider Tips')\n",
    "plt.hist(df['Tip'], bins=30)\n",
    "plt.show()"
   ]
  },
  {
   "cell_type": "markdown",
   "metadata": {},
   "source": [
    "Most riders do not tip. The distribution of tips is right skewed, starting with a peak at 0, before swiftly dropping to \\\\$6. Very few riders tip more than \\\\$6."
   ]
  },
  {
   "cell_type": "markdown",
   "metadata": {},
   "source": [
    "##### Choose another column to explore on your own. \n",
    "The output should be a histogram saved to a file that is appropriately labeled."
   ]
  },
  {
   "cell_type": "code",
   "execution_count": null,
   "metadata": {},
   "outputs": [],
   "source": [
    "plt.figure(figsize=(10,7))\n",
    "plt.xlabel('Additional Charges')\n",
    "plt.ylabel('Frequency')\n",
    "plt.title('Additional Charges Per Trip')\n",
    "plt.hist(df['Additional Charges'])\n",
    "plt.show()"
   ]
  },
  {
   "cell_type": "markdown",
   "metadata": {},
   "source": [
    "There is usually an additional fee of around \\\\$2 per trip. This distribution is not continuous. Additional fees may be under \\\\$2, or a  little beyond \\\\$8, with scattered values in between."
   ]
  },
  {
   "cell_type": "markdown",
   "metadata": {},
   "source": [
    "### 7. Box Plots"
   ]
  },
  {
   "cell_type": "markdown",
   "metadata": {},
   "source": [
    "Now we will examine the same columns using Box Plots. Let's do the first one together."
   ]
  },
  {
   "cell_type": "markdown",
   "metadata": {},
   "source": [
    "##### Display a boxplot of df['Fare']."
   ]
  },
  {
   "cell_type": "code",
   "execution_count": null,
   "metadata": {},
   "outputs": [],
   "source": [
    "plt.figure(figsize=(10,7))\n",
    "plt.boxplot(df['Fare'])\n",
    "plt.title('Fares')\n",
    "plt.show()"
   ]
  },
  {
   "cell_type": "markdown",
   "metadata": {},
   "source": [
    "In a box plot, each circle represents an outlier. The presence of outliers distorts the box itself. Generally speaking, the box should be the main piece of the diagram, not the outliers. Viewing the outliers, however, gives a better sense of the distribution of the data. Let's zoom in on the box by changing the y-limit below."
   ]
  },
  {
   "cell_type": "markdown",
   "metadata": {},
   "source": [
    "##### Display a boxplot of df['Fare'] by zooming in."
   ]
  },
  {
   "cell_type": "code",
   "execution_count": null,
   "metadata": {},
   "outputs": [],
   "source": [
    "plt.figure(figsize=(10,7))\n",
    "plt.boxplot(df['Fare'])\n",
    "plt.title('Fares Zoomed In')\n",
    "plt.ylim(-1,21)\n",
    "plt.show()"
   ]
  },
  {
   "cell_type": "markdown",
   "metadata": {},
   "source": [
    "INTERPRETATION - The median fare is around \\\\$7.50. The first and third quartiles, are about \\\\$5-\\\\$10. Rides beyond \\\\$17.50 are considered outliers, and the minimum is \\\\$0."
   ]
  },
  {
   "cell_type": "markdown",
   "metadata": {},
   "source": [
    "##### Display a boxplot of df['Trip Seconds']."
   ]
  },
  {
   "cell_type": "code",
   "execution_count": null,
   "metadata": {},
   "outputs": [],
   "source": [
    "plt.figure(figsize=(10,7))\n",
    "plt.boxplot(df['Trip Seconds'])\n",
    "plt.title('Seconds Per Trip')\n",
    "plt.show()"
   ]
  },
  {
   "cell_type": "markdown",
   "metadata": {},
   "source": [
    "##### Display a boxplot of df['Trip Seconds'] by zooming in.\n",
    "Be sure to include your interpretation."
   ]
  },
  {
   "cell_type": "code",
   "execution_count": null,
   "metadata": {},
   "outputs": [],
   "source": [
    "##### Display a boxplot of df['Trip Seconds']."
   ]
  },
  {
   "cell_type": "code",
   "execution_count": null,
   "metadata": {},
   "outputs": [],
   "source": [
    "plt.figure(figsize=(10,7))\n",
    "plt.boxplot(df['Trip Seconds'])\n",
    "plt.title('Seconds Per Trip Zoomed In')\n",
    "plt.ylim(-10,2400)\n",
    "plt.show()"
   ]
  },
  {
   "cell_type": "markdown",
   "metadata": {},
   "source": [
    "INTERPRETATON - The median trip is about 750 seconds. The first and third quartiles are about 500 and 1200 seconds. Trips beyond 2300 seconds are considered outliers, and no trip can be less than 0 seconds."
   ]
  },
  {
   "cell_type": "markdown",
   "metadata": {},
   "source": [
    "##### Display a boxplot of df['Tip']."
   ]
  },
  {
   "cell_type": "code",
   "execution_count": null,
   "metadata": {},
   "outputs": [],
   "source": [
    "plt.figure(figsize=(10,7))\n",
    "plt.boxplot(df['Tip'])\n",
    "plt.title('Tips')\n",
    "plt.show()"
   ]
  },
  {
   "cell_type": "markdown",
   "metadata": {},
   "source": [
    "##### Display a boxplot of df['Tips'] by zooming in.\n",
    "Be sure to include your interpretation in the cell below."
   ]
  },
  {
   "cell_type": "code",
   "execution_count": null,
   "metadata": {},
   "outputs": [],
   "source": [
    "plt.figure(figsize=(10,7))\n",
    "plt.boxplot(df['Tip'])\n",
    "plt.title('Tips Zoomed In')\n",
    "plt.ylim(-1, 2.5)\n",
    "plt.show()"
   ]
  },
  {
   "cell_type": "markdown",
   "metadata": {},
   "source": [
    "All tips are considered outliers! Ouch."
   ]
  },
  {
   "cell_type": "markdown",
   "metadata": {},
   "source": [
    "### 8. Column Analysis - Tips"
   ]
  },
  {
   "cell_type": "markdown",
   "metadata": {},
   "source": [
    "Occasionally, you will find peculiar information that needs further analysis. Let's consider the box plot of tips given above. Even with zooming in, the box plot indicates that all tips are outliers.\n",
    "\n",
    "Some questions immediately arise. \n",
    "\n",
    "1. How are these outliers determined?\n",
    "2. How likely is it that a driver receives a tip?\n",
    "3. What is the mean tip?\n",
    "4. What is the median tip?\n",
    "5. Is there a way to earn more tips?"
   ]
  },
  {
   "cell_type": "markdown",
   "metadata": {},
   "source": [
    "1. How are these outliers determined?\n",
    "\n",
    "There is not a universal way to describe outliers. We know from the histogram that there are some fares with decent frequency, so we can conclude that the Python boxplot is determining outliers liberally. Let's check to see if it's 1.5 * IQR by examining the boxplot above."
   ]
  },
  {
   "cell_type": "markdown",
   "metadata": {},
   "source": [
    "##### What is the IQR of the Fare Box Plot above?\n",
    "Set the value equal to the variable IQR in the cell below."
   ]
  },
  {
   "cell_type": "code",
   "execution_count": null,
   "metadata": {},
   "outputs": [],
   "source": [
    "IQR = 5"
   ]
  },
  {
   "cell_type": "markdown",
   "metadata": {},
   "source": [
    "##### Now multiply IQR by 1.5"
   ]
  },
  {
   "cell_type": "code",
   "execution_count": null,
   "metadata": {},
   "outputs": [],
   "source": [
    "IQR * 1.5"
   ]
  },
  {
   "cell_type": "markdown",
   "metadata": {},
   "source": [
    "##### Go back to the boxplot and find the third quartile. Add 1.5 * IQR to the third quartile. What do you get?"
   ]
  },
  {
   "cell_type": "code",
   "execution_count": null,
   "metadata": {},
   "outputs": [],
   "source": [
    "17.5"
   ]
  },
  {
   "cell_type": "markdown",
   "metadata": {},
   "source": [
    "So it appears that the boxplots do use 1.5 * IQR to calculate the outliers. So what's the issue? "
   ]
  },
  {
   "cell_type": "markdown",
   "metadata": {},
   "source": [
    "##### Use .describe() on df['Tip'] in the cell below. \n",
    "Then answer the question, Why are all tips outliers?' in the cell below."
   ]
  },
  {
   "cell_type": "code",
   "execution_count": null,
   "metadata": {},
   "outputs": [],
   "source": [
    "df['Tip'].describe()"
   ]
  },
  {
   "cell_type": "markdown",
   "metadata": {},
   "source": [
    "Since the first and third quartiles both have a value of 0, this makes IQR = 0, and 1.5 * IQR = 0. "
   ]
  },
  {
   "cell_type": "markdown",
   "metadata": {},
   "source": [
    "The next question is whether all tips should be outliers. It seems like it's important to get more information on tips. Let's start by calculating what percentage of riders actually tip. To do this, we need to figure out the number of tippers, and the number of rides. Execute the following two cells to reveal this information "
   ]
  },
  {
   "cell_type": "code",
   "execution_count": null,
   "metadata": {},
   "outputs": [],
   "source": [
    "# Compute number of rides where there could have been a tip.\n",
    "len(df['Tip'])"
   ]
  },
  {
   "cell_type": "code",
   "execution_count": null,
   "metadata": {},
   "outputs": [],
   "source": [
    "# Computer number of rides were there was a tip.\n",
    "len(df[df['Tip'] != 0])"
   ]
  },
  {
   "cell_type": "markdown",
   "metadata": {},
   "source": [
    "##### What percentage of riders tip?"
   ]
  },
  {
   "cell_type": "code",
   "execution_count": null,
   "metadata": {},
   "outputs": [],
   "source": [
    "len(df[df['Tip'] != 0])/len(df['Tip'])"
   ]
  },
  {
   "cell_type": "markdown",
   "metadata": {},
   "source": [
    "##### Provide your own analysis. Should all tips be considered outliers?"
   ]
  },
  {
   "cell_type": "markdown",
   "metadata": {},
   "source": [
    "Although the majority of riders do not tip, 18% of riders do tip. The histogram reveals that most tips are around \\\\$2, very close to the median of 0. Tipping in itself is not an outlier. Low tips are not uncommon enough. Very high tips may be considered outliers. The question is how high?"
   ]
  },
  {
   "cell_type": "markdown",
   "metadata": {},
   "source": [
    "Outliers are open to interpretation. Let's follow the train of thought where all tips are not considered outliers. Outliers should be rare, and 0 is one reason why 1.5 * IQR is not a universal method to determine outliers."
   ]
  },
  {
   "cell_type": "markdown",
   "metadata": {},
   "source": [
    "Let's analyze the distribution of tippers. Let's work with a new dataFrame that only includes the 18% who tip. We can achieve this by running the following cell."
   ]
  },
  {
   "cell_type": "code",
   "execution_count": null,
   "metadata": {},
   "outputs": [],
   "source": [
    "# Create DataFrame of Tippers\n",
    "df_tippers = df[df['Tip'] != 0]"
   ]
  },
  {
   "cell_type": "markdown",
   "metadata": {},
   "source": [
    "Now we can create boxplots and histograms using the new dataFrame. Instead of df, you should use df_tippers."
   ]
  },
  {
   "cell_type": "markdown",
   "metadata": {},
   "source": [
    "##### Display a histogram of df_tippers['Trip Seconds'] using only plt.hist() and plt.show()"
   ]
  },
  {
   "cell_type": "code",
   "execution_count": null,
   "metadata": {},
   "outputs": [],
   "source": [
    "plt.hist(df_tippers['Tip'])\n",
    "plt.show()"
   ]
  },
  {
   "cell_type": "markdown",
   "metadata": {},
   "source": [
    "##### Improve the histogram of df_tippers['Trip Seconds'] by making it larger and adding labels in the cell below.\n",
    "You may want to change the number of bins and xlim. Be sure to interpret the graph in the provided cell."
   ]
  },
  {
   "cell_type": "code",
   "execution_count": null,
   "metadata": {},
   "outputs": [],
   "source": [
    "plt.figure(figsize=(10,7))\n",
    "plt.xlim(0,15)\n",
    "plt.xlabel('Tips')\n",
    "plt.ylabel('Frequency')\n",
    "plt.title('Rider Tips')\n",
    "plt.hist(df_tippers['Tip'], bins=30)\n",
    "plt.show()"
   ]
  },
  {
   "cell_type": "markdown",
   "metadata": {},
   "source": [
    "This histogram gives a much clearer distribution of tips. The tips distribution is right-skewed and unimodal with a peak of around \\\\$2. Most riders tip less than \\\\$6, and very few riders tip more than \\\\$11."
   ]
  },
  {
   "cell_type": "markdown",
   "metadata": {},
   "source": [
    "##### Display a boxplot of df['Tip']."
   ]
  },
  {
   "cell_type": "code",
   "execution_count": null,
   "metadata": {},
   "outputs": [],
   "source": [
    "plt.figure(figsize=(10,7))\n",
    "plt.boxplot(df_tippers['Tip'])\n",
    "plt.title('Tips')\n",
    "plt.show()"
   ]
  },
  {
   "cell_type": "markdown",
   "metadata": {},
   "source": [
    "##### Display a boxplot of df_tippers['Tip'] zoomed in.\n",
    "Be sure to include your interpretation in the cell below."
   ]
  },
  {
   "cell_type": "code",
   "execution_count": null,
   "metadata": {},
   "outputs": [],
   "source": [
    "plt.figure(figsize=(10,7))\n",
    "plt.ylim(0.5, 7.5)\n",
    "plt.boxplot(df_tippers['Tip'])\n",
    "plt.title('Tips')\n",
    "plt.show()"
   ]
  },
  {
   "cell_type": "markdown",
   "metadata": {},
   "source": [
    "When restricting the range to tippers, the median tip is \\\\$2, and the quartile range is \\\\$1-\\\\$3. Tips greater than $6 are considered outliers."
   ]
  },
  {
   "cell_type": "markdown",
   "metadata": {},
   "source": [
    "The boxplot indicates that tips over \\\\$6 should be considered outliers, while the histogram suggests that tips beyond \\\\$11 are rare. As a final piece of analysis, we can examine some quantiles by running the next four cells."
   ]
  },
  {
   "cell_type": "code",
   "execution_count": null,
   "metadata": {},
   "outputs": [],
   "source": [
    "# The 90th percentile of tippers\n",
    "df_tippers['Tip'].quantile(0.9)"
   ]
  },
  {
   "cell_type": "code",
   "execution_count": null,
   "metadata": {},
   "outputs": [],
   "source": [
    "# The 90th percentile of riders\n",
    "df['Tip'].quantile(0.9)"
   ]
  },
  {
   "cell_type": "code",
   "execution_count": null,
   "metadata": {},
   "outputs": [],
   "source": [
    "# The 99th percentile of tippers\n",
    "df_tippers['Tip'].quantile(0.99)"
   ]
  },
  {
   "cell_type": "code",
   "execution_count": null,
   "metadata": {},
   "outputs": [],
   "source": [
    "# The 99th percentile of tippers\n",
    "df['Tip'].quantile(0.99)"
   ]
  },
  {
   "cell_type": "markdown",
   "metadata": {},
   "source": [
    "##### Give your final justification of what tips should be considered outliers."
   ]
  },
  {
   "cell_type": "markdown",
   "metadata": {},
   "source": [
    "99% of all riders will not tip, or tip less than $6. It's safe to say that rides over $6 are rare enough to be outliers, as evidenced in the boxplot of tippers. "
   ]
  },
  {
   "cell_type": "markdown",
   "metadata": {},
   "source": [
    "##### What was the max tip? \n",
    "Use .max on df['Tip']"
   ]
  },
  {
   "cell_type": "code",
   "execution_count": null,
   "metadata": {},
   "outputs": [],
   "source": [
    "df['Tip'].max()"
   ]
  },
  {
   "cell_type": "markdown",
   "metadata": {},
   "source": [
    "### 9. Scatter Plots"
   ]
  },
  {
   "cell_type": "markdown",
   "metadata": {},
   "source": [
    "Scater plots take two numeric columns, and plot them on the x and y axes. Scatter plots are particularly useful for examining the relationship between columns, a topic that we will investigate in further detail later in the course. For now, let's examine a variety of scatter plots to develop an intuition for how the data is related.\n",
    "\n",
    "First, let's recall the columns at are disposal along with their types by running the cell below."
   ]
  },
  {
   "cell_type": "code",
   "execution_count": null,
   "metadata": {},
   "outputs": [],
   "source": [
    "df.info()"
   ]
  },
  {
   "cell_type": "markdown",
   "metadata": {},
   "source": [
    "Every column with  float64 and int64 at the end are numeric types. Notice that this includes latitude and longitude, along with community areas in addition to some of the columns we have already examined.\n",
    "\n",
    "We can think of the y axis as the column that we are trying to predict, and the x axis as our independent variable. The general syntax is as follows: \n",
    "\n",
    "plt.scatter(x,y)\n",
    "\n",
    "As a starting point, let's run the next few cells to determine if the pickup centroid latitude can influence the tip."
   ]
  },
  {
   "cell_type": "markdown",
   "metadata": {},
   "source": [
    "##### Create a scatter plot of df['Pickup Centroid Latitude'], and df['Tip']"
   ]
  },
  {
   "cell_type": "code",
   "execution_count": null,
   "metadata": {},
   "outputs": [],
   "source": [
    "plt.scatter(df['Pickup Centroid Latitude'], df['Tip'])\n",
    "plt.show()"
   ]
  },
  {
   "cell_type": "markdown",
   "metadata": {},
   "source": [
    "A couple of comments. First, the density of points makes it difficult to determine the amount of overlapping values. We can use alpha as a parameter that will provide a greater degree of transparency. If we set alpha=0.4 this will allow for 40% transparency.\n",
    "\n",
    "We can also make the scatter plot larger and add labels."
   ]
  },
  {
   "cell_type": "markdown",
   "metadata": {},
   "source": [
    "##### Create a scatter plot of df['Pickup Centroid Latitude'], and df['Tip'] with a larger plot, alpha = 0.4 and labels."
   ]
  },
  {
   "cell_type": "code",
   "execution_count": null,
   "metadata": {},
   "outputs": [],
   "source": [
    "plt.figure(figsize=(10,7))\n",
    "plt.scatter(df['Pickup Centroid Latitude'], df['Tip'], alpha = 0.4)\n",
    "plt.xlabel('Latitude')\n",
    "plt.ylabel('Tip')\n",
    "plt.title('Estimating Tip From Latitude of Pickup')\n",
    "plt.show()"
   ]
  },
  {
   "cell_type": "markdown",
   "metadata": {},
   "source": [
    "INTERPRETATION - It appears that the pickup locations of latitudes are likely to result in larger tips. This is an intuition based on the plot that will be investigated at a later time."
   ]
  },
  {
   "cell_type": "markdown",
   "metadata": {},
   "source": [
    "##### Create a scatter plot of df['Pickup Centroid Longitude'], and df['Tip'] with a large plot, alpha = 0.4 and labels.\n",
    "Be sure to include your interpretation in the provided cell."
   ]
  },
  {
   "cell_type": "code",
   "execution_count": null,
   "metadata": {},
   "outputs": [],
   "source": [
    "plt.figure(figsize=(10,7))\n",
    "plt.scatter(df['Pickup Centroid Longitude'], df['Tip'], alpha = 0.4)\n",
    "plt.xlabel('Longitude')\n",
    "plt.ylabel('Tip')\n",
    "plt.title('Estimating Tip From Longitude of Pickup')\n",
    "plt.show()"
   ]
  },
  {
   "cell_type": "markdown",
   "metadata": {},
   "source": [
    "It also appears that certain pickup longitudes result in higher tips. "
   ]
  },
  {
   "cell_type": "markdown",
   "metadata": {},
   "source": [
    "##### Create a scatter plot of df['Trip Miles'], and df['Tip'] with a large plot, alpha = 0.4 and labels.\n",
    "Be sure to include your interpretation in the provided cell."
   ]
  },
  {
   "cell_type": "code",
   "execution_count": null,
   "metadata": {},
   "outputs": [],
   "source": [
    "plt.figure(figsize=(10,7))\n",
    "plt.scatter(df['Trip Miles'], df['Tip'], alpha = 0.4)\n",
    "plt.xlabel('Miles')\n",
    "plt.ylabel('Tip')\n",
    "plt.title('Estimating Tip From Trip Miles')\n",
    "plt.show()"
   ]
  },
  {
   "cell_type": "markdown",
   "metadata": {},
   "source": [
    "It does not appear that longer trips result in bigger tips."
   ]
  },
  {
   "cell_type": "markdown",
   "metadata": {},
   "source": [
    "##### Create a scatter plot of df['Trip Miles'], and df['Fare'] with a large plot, alpha = 0.4 and labels.\n",
    "Be sure to include your interpretation in the provided cell."
   ]
  },
  {
   "cell_type": "code",
   "execution_count": null,
   "metadata": {},
   "outputs": [],
   "source": [
    "plt.figure(figsize=(10,7))\n",
    "plt.scatter(df['Trip Miles'], df['Fare'], alpha = 0.4)\n",
    "plt.ylabel('Fare')\n",
    "plt.xlabel('Trip Miles')\n",
    "plt.title('Estimating Fare From Trip Miles')\n",
    "plt.show()"
   ]
  },
  {
   "cell_type": "markdown",
   "metadata": {},
   "source": [
    "There is a positive linear associate between Trip Miles and Fare. This is to be expected since the distance of the trip determines how much one is supposed to pay."
   ]
  },
  {
   "cell_type": "markdown",
   "metadata": {},
   "source": [
    "##### Create a scatter plot of df['Fare'], and df['Trip Total'] with a large plot, alpha = 0.4 and labels.\n",
    "Be sure to include your interpretation in the provided cell."
   ]
  },
  {
   "cell_type": "code",
   "execution_count": null,
   "metadata": {},
   "outputs": [],
   "source": [
    "plt.figure(figsize=(10,7))\n",
    "plt.scatter(df['Fare'], df['Trip Total'], alpha = 0.4)\n",
    "plt.xlabel('Fare')\n",
    "plt.ylabel('Trip Total')\n",
    "plt.title('Estimating Trip Total From Fare')\n",
    "plt.show()"
   ]
  },
  {
   "cell_type": "markdown",
   "metadata": {},
   "source": [
    "It's not suprising that Trip Total can be predicted rather well from the Fare. It must exceed the fare depending on the tip and other fees. "
   ]
  },
  {
   "cell_type": "markdown",
   "metadata": {},
   "source": [
    "#### Bonus Tip: You may add a straight line as a baseline of comparison\n",
    "This is useful since no tip will result in the lowest possible value, when the Trip Total equals the fare."
   ]
  },
  {
   "cell_type": "code",
   "execution_count": null,
   "metadata": {},
   "outputs": [],
   "source": [
    "# Plot of Fare and Trip Total\n",
    "plt.figure(figsize=(10,7))\n",
    "plt.scatter(df['Fare'], df['Trip Total'], alpha = 0.4)\n",
    "plt.xlabel('Fare')\n",
    "plt.ylabel('Trip Total')\n",
    "plt.title('Estimating Trip Total From Fare')\n",
    "\n",
    "# Plot of straight line y = x\n",
    "x = np.linspace(0,125,75)\n",
    "y = x\n",
    "plt.scatter(x, y, alpha=0.6, marker=\".\", linewidths=0.5)\n",
    "\n",
    "# Legend to distinguish between plots\n",
    "plt.legend(loc='upper left')\n",
    "\n",
    "# Show both plots\n",
    "plt.show()"
   ]
  },
  {
   "cell_type": "markdown",
   "metadata": {},
   "source": [
    "##### Create a scatter plot of df['Pickup Centroid Latitude'], and df['Pickup Centroid Longitude'].\n",
    "Be sure to include your interpretation in the provided cell."
   ]
  },
  {
   "cell_type": "code",
   "execution_count": null,
   "metadata": {},
   "outputs": [],
   "source": [
    "plt.figure(figsize=(10,7))\n",
    "plt.scatter(df['Pickup Centroid Latitude'], df['Pickup Centroid Longitude'], alpha=0.4)\n",
    "plt.show()"
   ]
  },
  {
   "cell_type": "markdown",
   "metadata": {},
   "source": [
    "This appears to be a map of Chicago, if rotated 90 degrees!"
   ]
  },
  {
   "cell_type": "markdown",
   "metadata": {},
   "source": [
    "## 10. Time Series Analysis"
   ]
  },
  {
   "cell_type": "markdown",
   "metadata": {},
   "source": [
    "There are a couple of time columns in the dataFrame. We can use .info on df to recall which ones."
   ]
  },
  {
   "cell_type": "markdown",
   "metadata": {},
   "source": [
    "##### Use .info on df to show all columns and types."
   ]
  },
  {
   "cell_type": "code",
   "execution_count": null,
   "metadata": {},
   "outputs": [],
   "source": [
    "df.info()"
   ]
  },
  {
   "cell_type": "markdown",
   "metadata": {},
   "source": [
    "Trip Start Timestamp and Trip End Timestamp are both time columns as evidenced by the datetime64[ns] listed at the end of the row. Let's view one of the time columns by running the following cell."
   ]
  },
  {
   "cell_type": "code",
   "execution_count": null,
   "metadata": {},
   "outputs": [],
   "source": [
    "df['Trip End Timestamp'].head()"
   ]
  },
  {
   "cell_type": "markdown",
   "metadata": {},
   "source": [
    "As you can see, the column includes both dates, and times.\n",
    "\n",
    "It can be interesting to create new columns that include the hour and the day of the week as baselines of comparison. This can be done whenever there is a datetime column in Python as follows."
   ]
  },
  {
   "cell_type": "code",
   "execution_count": null,
   "metadata": {},
   "outputs": [],
   "source": [
    "import datetime as dt\n",
    "\n",
    "df['month'] = df['Trip Start Timestamp'].dt.month\n",
    "df['hour'] = df['Trip Start Timestamp'].dt.hour\n",
    "df['dayofweek'] = df['Trip Start Timestamp'].dt.dayofweek"
   ]
  },
  {
   "cell_type": "markdown",
   "metadata": {},
   "source": [
    "##### View the first five rows of the new dataFrame using .head().\n",
    "Scroll to the right to view the new columns."
   ]
  },
  {
   "cell_type": "code",
   "execution_count": null,
   "metadata": {},
   "outputs": [],
   "source": [
    "df.head()"
   ]
  },
  {
   "cell_type": "markdown",
   "metadata": {},
   "source": [
    "Note that the dayofweek column starts with 0, which is a Monday."
   ]
  },
  {
   "cell_type": "markdown",
   "metadata": {},
   "source": [
    "##### Which day of the week has the most rides? The least rides?\n",
    "We can answer this question using a groupby as follows."
   ]
  },
  {
   "cell_type": "code",
   "execution_count": null,
   "metadata": {},
   "outputs": [],
   "source": [
    "df.groupby(['dayofweek']).count()"
   ]
  },
  {
   "cell_type": "markdown",
   "metadata": {},
   "source": [
    "Most rides are on a Saturday, and the least rides are on a Monday."
   ]
  },
  {
   "cell_type": "markdown",
   "metadata": {},
   "source": [
    "##### What are the most popular times to get a ride?\n",
    "Use a groupby in the next cell. Answer the question directly in the cell that follows. "
   ]
  },
  {
   "cell_type": "code",
   "execution_count": null,
   "metadata": {},
   "outputs": [],
   "source": [
    "df.groupby(['hour']).count()"
   ]
  },
  {
   "cell_type": "markdown",
   "metadata": {},
   "source": [
    "The most popular time is around 6pm (18). The least popular is 4am."
   ]
  },
  {
   "cell_type": "markdown",
   "metadata": {},
   "source": [
    "##### Create a histogram of df['hour'], then answer the following questions.\n",
    "1. Describe the data in terms of hours.\n",
    "2. What are the best time intervals to look for riders?"
   ]
  },
  {
   "cell_type": "code",
   "execution_count": null,
   "metadata": {},
   "outputs": [],
   "source": [
    "plt.figure(figsize=(10,7))\n",
    "plt.hist(df['hour'], bins=24)\n",
    "plt.show()"
   ]
  },
  {
   "cell_type": "markdown",
   "metadata": {},
   "source": [
    "Rides start to pick up at around 7 in the morning with a mini-peak at 8am. Rides then level off from 10-2. They really pick up around 4pm, peaking at 6, before tapering off at 8. There are plenty of night rides before a sudden decline arond midnight. The best time to look for rides is 5-7pm, or 4-11pm."
   ]
  },
  {
   "cell_type": "markdown",
   "metadata": {},
   "source": [
    "The histogram above is periodic. This means that it does not start and stop, but it keeps going. Let's take a look at another periodic histogram, day of week."
   ]
  },
  {
   "cell_type": "markdown",
   "metadata": {},
   "source": [
    "##### Create a histogram of df['dayofweek'], then answer the following questions.\n",
    "1. What is the pattern of rides throughout the week? \n",
    "2. What is the best interval of days to look for riders?"
   ]
  },
  {
   "cell_type": "code",
   "execution_count": null,
   "metadata": {},
   "outputs": [],
   "source": [
    "plt.figure(figsize=(10,7))\n",
    "plt.hist(df['dayofweek'], bins=7)\n",
    "plt.show()"
   ]
  },
  {
   "cell_type": "markdown",
   "metadata": {},
   "source": [
    "Mon. is the slowest day, with ridership slightly increasing on Tues. and Wed. It picks up on Thurs. before peaking on Fri. and Sat. After the steady increase in rides, there is a sharp drop-off on Sunday. Thursday through Saturday are the best day to find riders."
   ]
  },
  {
   "cell_type": "markdown",
   "metadata": {},
   "source": [
    "##### Do riders tip more or less on average on certain days?\n",
    "Use a groupby with .mean() and find the 'Tip' column. "
   ]
  },
  {
   "cell_type": "code",
   "execution_count": null,
   "metadata": {},
   "outputs": [],
   "source": [
    "df.groupby(['dayofweek']).mean()"
   ]
  },
  {
   "cell_type": "markdown",
   "metadata": {},
   "source": [
    "Riders tip the most on average on Monday, and the least on Saturday."
   ]
  },
  {
   "cell_type": "markdown",
   "metadata": {},
   "source": [
    "##### Do riders tip more or less on average during certain hours?"
   ]
  },
  {
   "cell_type": "code",
   "execution_count": null,
   "metadata": {},
   "outputs": [],
   "source": [
    "df.groupby(['hour']).mean()"
   ]
  },
  {
   "cell_type": "markdown",
   "metadata": {},
   "source": [
    "It looks like 4am riders tip the most, and 2am riders tip the least."
   ]
  }
 ],
 "metadata": {
  "kernelspec": {
   "display_name": "Python 3",
   "language": "python",
   "name": "python3"
  },
  "language_info": {
   "codemirror_mode": {
    "name": "ipython",
    "version": 3
   },
   "file_extension": ".py",
   "mimetype": "text/x-python",
   "name": "python",
   "nbconvert_exporter": "python",
   "pygments_lexer": "ipython3",
   "version": "3.6.8"
  }
 },
 "nbformat": 4,
 "nbformat_minor": 2
}
