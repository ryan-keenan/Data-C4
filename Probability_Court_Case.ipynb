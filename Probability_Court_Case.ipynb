{
 "cells": [
  {
   "cell_type": "markdown",
   "metadata": {},
   "source": [
    "# Debunking Probability in Court"
   ]
  },
  {
   "cell_type": "markdown",
   "metadata": {},
   "source": [
    "As a respectable data analyst, you have been hired by a Statistical Law Firm to investigate cases where probability has gone wrong. In this mini-project, you will examine probability in real court cases."
   ]
  },
  {
   "cell_type": "markdown",
   "metadata": {},
   "source": [
    "### The Sally Clark Trial"
   ]
  },
  {
   "cell_type": "markdown",
   "metadata": {},
   "source": [
    "#### Evidence"
   ]
  },
  {
   "cell_type": "markdown",
   "metadata": {},
   "source": [
    "Sally Clark was accused of murdering two of her babies. Both died of SIDS, Sudden Infant Death Syndrome, a rare reason for death when no other cause can be found.\n",
    "\n",
    "In the trial, the prosecutor stated that the probabily of SIDS is 1/8543. But since Sally Clark had this happen to 2 of her children, by the probability law of multiplication, the odds of both children dying from SIDS is 1/8543 * 1/8543 which is approximately 1 in 73 million."
   ]
  },
  {
   "cell_type": "markdown",
   "metadata": {},
   "source": [
    "##### 1. Given the prosecuter's argument, what is the probability that Sally Clark is guilty?"
   ]
  },
  {
   "cell_type": "code",
   "execution_count": 2,
   "metadata": {},
   "outputs": [
    {
     "data": {
      "text/plain": [
       "1.3701849320790423e-08"
      ]
     },
     "execution_count": 2,
     "metadata": {},
     "output_type": "execute_result"
    }
   ],
   "source": [
    "1/8543*1/8543"
   ]
  },
  {
   "cell_type": "markdown",
   "metadata": {},
   "source": [
    "##### 2. What are the odds that Sally Clark is guilty? 1 in how many?"
   ]
  },
  {
   "cell_type": "code",
   "execution_count": 5,
   "metadata": {},
   "outputs": [
    {
     "data": {
      "text/plain": [
       "72982849"
      ]
     },
     "execution_count": 5,
     "metadata": {},
     "output_type": "execute_result"
    }
   ],
   "source": [
    "8543**2"
   ]
  },
  {
   "cell_type": "markdown",
   "metadata": {},
   "source": [
    "This probability, approximately 1 in 73 million, was the primary piece of \"evidence\" used to convict Sally Clark of murder and life imprisonment."
   ]
  },
  {
   "cell_type": "markdown",
   "metadata": {},
   "source": [
    "#### Refutation"
   ]
  },
  {
   "cell_type": "markdown",
   "metadata": {},
   "source": [
    "Now it's your turn to present a counterargument."
   ]
  },
  {
   "cell_type": "markdown",
   "metadata": {},
   "source": [
    "##### 3. Why are the odds of 1 in 73 million untrue?"
   ]
  },
  {
   "cell_type": "code",
   "execution_count": null,
   "metadata": {},
   "outputs": [],
   "source": []
  },
  {
   "cell_type": "markdown",
   "metadata": {},
   "source": [
    "According to Ray Hill, a math professor, the probability of having a second child die from SIDS, given that a first child died from SIDS, may be as high as 1 in 60."
   ]
  },
  {
   "cell_type": "markdown",
   "metadata": {},
   "source": [
    "##### 4. Use the new probability to determine a more accurate probability of both babies dying from SIDS."
   ]
  },
  {
   "cell_type": "code",
   "execution_count": 3,
   "metadata": {},
   "outputs": [
    {
     "data": {
      "text/plain": [
       "1.9509149791252097e-06"
      ]
     },
     "execution_count": 3,
     "metadata": {},
     "output_type": "execute_result"
    }
   ],
   "source": [
    "1/8543*1/60"
   ]
  },
  {
   "cell_type": "markdown",
   "metadata": {},
   "source": [
    "##### 5. What are the new odds? 1 in how many?"
   ]
  },
  {
   "cell_type": "code",
   "execution_count": 4,
   "metadata": {},
   "outputs": [
    {
     "data": {
      "text/plain": [
       "512580"
      ]
     },
     "execution_count": 4,
     "metadata": {},
     "output_type": "execute_result"
    }
   ],
   "source": [
    "8543*60"
   ]
  },
  {
   "cell_type": "markdown",
   "metadata": {},
   "source": [
    "As you can see, the probability is still very low. Well, there's something else that's wrong with the argument. It has to do with conditional probability, and it's referred to as the prosecutor's fallacy. The argument goes something like this.\n",
    "\n",
    "1. Let's assume that Sally Clark is innocent.\n",
    "2. If she's innocent, the odds of both children dying from SIDS is approximate 1 in 500 thousand.\n",
    "3. Since the odds of her being innocent are so improbable, she must be guilty.\n",
    "\n",
    "Let's rephrase this argument using probability. \n",
    "\n",
    "P(A) = Probability that Sally Clark is innocent. <br>\n",
    "P(B) = Probability of both children dying suddenly.\n"
   ]
  },
  {
   "cell_type": "markdown",
   "metadata": {},
   "source": [
    "##### 6. True or False? P(A|B) = (P(B|A)."
   ]
  },
  {
   "cell_type": "markdown",
   "metadata": {},
   "source": [
    "False!"
   ]
  },
  {
   "cell_type": "markdown",
   "metadata": {},
   "source": [
    "This is most definitely false! If you've studied probability, the answer may seem obvious, but if you have not, it's not so clear.\n",
    "\n",
    "In the Sally Clark case, and in many others, the argument is, \"Given Sally Fields is innocent, the odds of both babies dying from SIDS is 1 in 500 thousand.\" The fallacy is thinking this is the same as, \"Given that both babies died from SIDS, the probability that Sally Fields is innocent is 1 in 500 thousand.\" A quick study of conditional probability reveals that these are not the same."
   ]
  },
  {
   "cell_type": "markdown",
   "metadata": {},
   "source": [
    "Bayes Theorems provides the correct interpretation.\n",
    "\n",
    "P(A) = Probability that Sally Clark is innocent. <br>\n",
    "P(B) = Probability of both children dying suddenly and unexpectedly.\n",
    "\n",
    "P(B) = Probability of both children dying from SIDS. <br>\n",
    "\n",
    "P(A|B) = (P(B|A) * P(A))/P(B)\n",
    "\n",
    "Let's go over the right side one term at a time."
   ]
  },
  {
   "cell_type": "markdown",
   "metadata": {},
   "source": [
    "##### 7. Given that P(A) = Probability that Sally Clark is innocent, and P(B) = Probability of both children dying suddenly, what is P(B|A)?"
   ]
  },
  {
   "cell_type": "code",
   "execution_count": 6,
   "metadata": {},
   "outputs": [
    {
     "data": {
      "text/plain": [
       "1.9509149791252097e-06"
      ]
     },
     "execution_count": 6,
     "metadata": {},
     "output_type": "execute_result"
    }
   ],
   "source": [
    "1/8543*1/60"
   ]
  },
  {
   "cell_type": "markdown",
   "metadata": {},
   "source": [
    "Now let's consider P(A), the probability that Sally Clark is innocent. This is difficult to determine by itself. Isn't that the whole point? Not exactly. We are trying to determine her innocence based on the condition that her children died suddenly and unexpectedly. Ignoring that condition, we can treat her as any other person. What's the probability that someone is innocent of murder? In England, where Sally Clark is from, there are 1.22 homicides per 100,000 people."
   ]
  },
  {
   "cell_type": "markdown",
   "metadata": {},
   "source": [
    "##### 8. Given 10 billion people, and 300,000 murderers, what's the probability that a random person is a murderer?"
   ]
  },
  {
   "cell_type": "code",
   "execution_count": 9,
   "metadata": {},
   "outputs": [
    {
     "data": {
      "text/plain": [
       "1.22e-05"
      ]
     },
     "execution_count": 9,
     "metadata": {},
     "output_type": "execute_result"
    }
   ],
   "source": [
    "1.22/100000"
   ]
  },
  {
   "cell_type": "markdown",
   "metadata": {},
   "source": [
    "##### 9. Given no other information, what's the probability that Sally Clark is innocent?"
   ]
  },
  {
   "cell_type": "code",
   "execution_count": 10,
   "metadata": {},
   "outputs": [
    {
     "data": {
      "text/plain": [
       "0.9999878"
      ]
     },
     "execution_count": 10,
     "metadata": {},
     "output_type": "execute_result"
    }
   ],
   "source": [
    "1-1.22/100000"
   ]
  },
  {
   "cell_type": "markdown",
   "metadata": {},
   "source": [
    "So far we have the following information:\n",
    "\n",
    "P(B|A) = 1.9509149791252097e-06 <br>\n",
    "P(A) = 0.9999878\n",
    "\n",
    "All we need is P(B), the probability of both babies dying suddenly and unexpectedly. There are two ways for this to happen, one is P(B|A) and the other is P(B|~A). This last possibility is tricky to compute. Given that Sally Clark is not innocent, what's the probability of both babies dying suddenly and unexpectedly? "
   ]
  },
  {
   "cell_type": "code",
   "execution_count": null,
   "metadata": {},
   "outputs": [],
   "source": []
  }
 ],
 "metadata": {
  "kernelspec": {
   "display_name": "Python 3",
   "language": "python",
   "name": "python3"
  },
  "language_info": {
   "codemirror_mode": {
    "name": "ipython",
    "version": 3
   },
   "file_extension": ".py",
   "mimetype": "text/x-python",
   "name": "python",
   "nbconvert_exporter": "python",
   "pygments_lexer": "ipython3",
   "version": "3.6.8"
  }
 },
 "nbformat": 4,
 "nbformat_minor": 2
}
